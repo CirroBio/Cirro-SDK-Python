{
 "cells": [
  {
   "cell_type": "code",
   "execution_count": 1,
   "id": "af6c11e0",
   "metadata": {
    "execution": {
     "iopub.execute_input": "2022-10-05T23:32:22.762833Z",
     "iopub.status.busy": "2022-10-05T23:32:22.762071Z",
     "iopub.status.idle": "2022-10-05T23:32:23.342030Z",
     "shell.execute_reply": "2022-10-05T23:32:23.342445Z"
    }
   },
   "outputs": [],
   "source": [
    "from cirro.helpers import FormBuilder"
   ]
  },
  {
   "cell_type": "code",
   "execution_count": 2,
   "id": "9bd84078",
   "metadata": {
    "execution": {
     "iopub.execute_input": "2022-10-05T23:32:23.348106Z",
     "iopub.status.busy": "2022-10-05T23:32:23.347457Z",
     "iopub.status.idle": "2022-10-05T23:32:23.350310Z",
     "shell.execute_reply": "2022-10-05T23:32:23.350774Z"
    }
   },
   "outputs": [],
   "source": [
    "# Make a form with a few parameters\n",
    "form = FormBuilder()\n",
    "form.add_param(\n",
    "    key='person',\n",
    "    type='string',\n",
    "    test_value='Sam',\n",
    "    title='Person',\n",
    "    description='Name of the person in the story',\n",
    "    default='Alessandra'\n",
    ")\n",
    "form.add_param(\n",
    "    key='food',\n",
    "    type='string',\n",
    "    test_value='tacos',\n",
    "    title='Food',\n",
    "    description='Food item in the story',\n",
    "    default='deviled eggs'\n",
    ")\n",
    "form.add_section(\n",
    "    title=\"Subsection\",\n",
    "    description=\"More elements to the story\"\n",
    ")\n",
    "form.add_param(\n",
    "    key='emotion',\n",
    "    type='string',\n",
    "    test_value='wild abandon',\n",
    "    title='Emotion',\n",
    "    description='Emotion experienced in the story',\n",
    "    default='quiet reserve'\n",
    ")\n",
    "form.save()"
   ]
  },
  {
   "cell_type": "code",
   "execution_count": 3,
   "id": "1399866c",
   "metadata": {
    "execution": {
     "iopub.execute_input": "2022-10-05T23:32:23.354192Z",
     "iopub.status.busy": "2022-10-05T23:32:23.353590Z",
     "iopub.status.idle": "2022-10-05T23:32:23.355974Z",
     "shell.execute_reply": "2022-10-05T23:32:23.356372Z"
    }
   },
   "outputs": [
    {
     "name": "stdout",
     "output_type": "stream",
     "text": [
      "Kenji ate hot dogs with mustard\n"
     ]
    }
   ],
   "source": [
    "# Make a story\n",
    "story = f\"{form.params['person']} ate {form.params['food']} with {form.params['emotion']}\"\n",
    "print(story)"
   ]
  },
  {
   "cell_type": "code",
   "execution_count": 4,
   "id": "92485eb4",
   "metadata": {
    "execution": {
     "iopub.execute_input": "2022-10-05T23:32:23.359622Z",
     "iopub.status.busy": "2022-10-05T23:32:23.359009Z",
     "iopub.status.idle": "2022-10-05T23:32:23.361218Z",
     "shell.execute_reply": "2022-10-05T23:32:23.361620Z"
    }
   },
   "outputs": [],
   "source": [
    "# Write the story to a file (to check for errors)\n",
    "with open('final_story.txt', 'w') as handle:\n",
    "    handle.write(story)"
   ]
  },
  {
   "cell_type": "code",
   "execution_count": null,
   "id": "33c6de45",
   "metadata": {},
   "outputs": [],
   "source": []
  }
 ],
 "metadata": {
  "kernelspec": {
   "display_name": "Python 3 (ipykernel)",
   "language": "python",
   "name": "python3"
  },
  "language_info": {
   "codemirror_mode": {
    "name": "ipython",
    "version": 3
   },
   "file_extension": ".py",
   "mimetype": "text/x-python",
   "name": "python",
   "nbconvert_exporter": "python",
   "pygments_lexer": "ipython3",
   "version": "3.9.12"
  }
 },
 "nbformat": 4,
 "nbformat_minor": 5
}
