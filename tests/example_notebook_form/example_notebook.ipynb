{
 "cells": [
  {
   "cell_type": "code",
   "execution_count": 1,
   "id": "af6c11e0",
   "metadata": {
    "execution": {
     "iopub.execute_input": "2022-10-05T23:32:22.762833Z",
     "iopub.status.busy": "2022-10-05T23:32:22.762071Z",
     "iopub.status.idle": "2022-10-05T23:32:23.342030Z",
     "shell.execute_reply": "2022-10-05T23:32:23.342445Z"
    }
   },
   "outputs": [],
   "source": [
    "from cirro import expose_param"
   ]
  },
  {
   "cell_type": "code",
   "execution_count": 2,
   "id": "9bd84078",
   "metadata": {
    "execution": {
     "iopub.execute_input": "2022-10-05T23:32:23.348106Z",
     "iopub.status.busy": "2022-10-05T23:32:23.347457Z",
     "iopub.status.idle": "2022-10-05T23:32:23.350310Z",
     "shell.execute_reply": "2022-10-05T23:32:23.350774Z"
    }
   },
   "outputs": [],
   "source": [
    "# Set up the parameters used to tell the story\n",
    "person =  expose_param(\"Person\", \"Alessandra\", description='Name of the person in the story')\n",
    "food =    expose_param(\"Food\", \"deviled eggs\", description='Food item in the story')\n",
    "emotion = expose_param(\"Emotion\", \"quiet reserve\", description='Emotion experienced in the story')\n"
   ]
  },
  {
   "cell_type": "code",
   "execution_count": 3,
   "id": "1399866c",
   "metadata": {
    "execution": {
     "iopub.execute_input": "2022-10-05T23:32:23.354192Z",
     "iopub.status.busy": "2022-10-05T23:32:23.353590Z",
     "iopub.status.idle": "2022-10-05T23:32:23.355974Z",
     "shell.execute_reply": "2022-10-05T23:32:23.356372Z"
    }
   },
   "outputs": [
    {
     "name": "stdout",
     "output_type": "stream",
     "text": [
      "Alessandra ate deviled eggs with quiet reserve\n"
     ]
    }
   ],
   "source": [
    "# Make a story\n",
    "story = f\"{person} ate {food} with {emotion}\"\n",
    "print(story)"
   ]
  },
  {
   "cell_type": "code",
   "execution_count": 4,
   "id": "92485eb4",
   "metadata": {
    "execution": {
     "iopub.execute_input": "2022-10-05T23:32:23.359622Z",
     "iopub.status.busy": "2022-10-05T23:32:23.359009Z",
     "iopub.status.idle": "2022-10-05T23:32:23.361218Z",
     "shell.execute_reply": "2022-10-05T23:32:23.361620Z"
    }
   },
   "outputs": [],
   "source": [
    "# Write the story to a file (to check for errors)\n",
    "with open('final_story.txt', 'w') as handle:\n",
    "    handle.write(story)"
   ]
  },
  {
   "cell_type": "code",
   "execution_count": null,
   "id": "33c6de45",
   "metadata": {},
   "outputs": [],
   "source": []
  }
 ],
 "metadata": {
  "kernelspec": {
   "display_name": "Python 3 (ipykernel)",
   "language": "python",
   "name": "python3"
  },
  "language_info": {
   "codemirror_mode": {
    "name": "ipython",
    "version": 3
   },
   "file_extension": ".py",
   "mimetype": "text/x-python",
   "name": "python",
   "nbconvert_exporter": "python",
   "pygments_lexer": "ipython3",
   "version": "3.9.16"
  }
 },
 "nbformat": 4,
 "nbformat_minor": 5
}
