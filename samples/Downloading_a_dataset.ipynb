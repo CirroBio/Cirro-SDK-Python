{
 "cells": [
  {
   "cell_type": "markdown",
   "metadata": {
    "pycharm": {
     "name": "#%% md\n"
    }
   },
   "source": [
    "## Downloading a dataset"
   ]
  },
  {
   "cell_type": "code",
   "execution_count": null,
   "metadata": {
    "pycharm": {
     "name": "#%%\n"
    }
   },
   "outputs": [],
   "source": [
    "from pubweb import PubWeb\n",
    "\n",
    "client = PubWeb()"
   ]
  },
  {
   "cell_type": "markdown",
   "metadata": {
    "pycharm": {
     "name": "#%% md\n"
    }
   },
   "source": [
    "You can find the ID of the dataset by using the `find_by_project` method or by looking at the URL on the data portal."
   ]
  },
  {
   "cell_type": "code",
   "execution_count": null,
   "metadata": {},
   "outputs": [],
   "source": [
    "client.project.list()"
   ]
  },
  {
   "cell_type": "code",
   "execution_count": null,
   "metadata": {
    "pycharm": {
     "name": "#%%\n"
    },
    "scrolled": true
   },
   "outputs": [],
   "source": [
    "from pubweb.file_utils import filter_files_by_pattern\n",
    "from pprint import pprint\n",
    "\n",
    "project = client.project.find_by_name(name='Test Project')\n",
    "datasets = client.dataset.find_by_project(project.id)\n",
    "dataset = datasets[0]\n",
    "pprint(dataset)"
   ]
  },
  {
   "cell_type": "markdown",
   "metadata": {
    "pycharm": {
     "name": "#%% md\n"
    }
   },
   "source": [
    "Use the `get_dataset_files` method to get a list of the files in the dataset.\n",
    "\n",
    "If the files argument is not provided in the `download_files` method, then it will download all files."
   ]
  },
  {
   "cell_type": "code",
   "execution_count": null,
   "metadata": {
    "pycharm": {
     "name": "#%%\n"
    },
    "scrolled": true
   },
   "outputs": [],
   "source": [
    "files = client.dataset.get_dataset_files(project_id=project.id,\n",
    "                                         dataset_id=dataset.id)\n",
    "files = filter_files_by_pattern(files, '*count.txt')\n",
    "print(files)\n",
    "\n",
    "client.dataset.download_files(project_id=project.id,\n",
    "                              dataset_id=dataset.id,\n",
    "                              download_location='/tmp',\n",
    "                              files=files)"
   ]
  },
  {
   "cell_type": "code",
   "execution_count": null,
   "metadata": {},
   "outputs": [],
   "source": []
  }
 ],
 "metadata": {
  "kernelspec": {
   "display_name": "Python 3 (ipykernel)",
   "language": "python",
   "name": "python3"
  },
  "language_info": {
   "codemirror_mode": {
    "name": "ipython",
    "version": 3
   },
   "file_extension": ".py",
   "mimetype": "text/x-python",
   "name": "python",
   "nbconvert_exporter": "python",
   "pygments_lexer": "ipython3",
   "version": "3.9.12"
  }
 },
 "nbformat": 4,
 "nbformat_minor": 1
}
