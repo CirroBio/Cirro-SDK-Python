{
 "cells": [
  {
   "cell_type": "markdown",
   "metadata": {
    "pycharm": {
     "name": "#%% md\n"
    }
   },
   "source": [
    "## Downloading a dataset"
   ]
  },
  {
   "cell_type": "code",
   "execution_count": 1,
   "metadata": {
    "pycharm": {
     "name": "#%%\n"
    }
   },
   "outputs": [],
   "source": [
    "from pubweb import PubWeb\n",
    "\n",
    "client = PubWeb()"
   ]
  },
  {
   "cell_type": "markdown",
   "metadata": {
    "pycharm": {
     "name": "#%% md\n"
    }
   },
   "source": [
    "You can find the ID of the dataset by using the `find_by_project` method or by looking at the URL on the data portal."
   ]
  },
  {
   "cell_type": "code",
   "execution_count": 2,
   "metadata": {},
   "outputs": [
    {
     "data": {
      "text/plain": [
       "[Project(id='5d747907-7d2a-4562-bcd3-bb4563ae861e', name='Single Cell', description='Public Datasets'),\n",
       " Project(id='1e58ebdf-1619-4f14-9a11-369f6b650abc', name='Nathan testing', description='Testing new compute environment'),\n",
       " Project(id='9a31492a-e679-43ce-9f06-d84213c8f7f7', name='Test Project', description='Project used to test updates to the Portal')]"
      ]
     },
     "execution_count": 2,
     "metadata": {},
     "output_type": "execute_result"
    }
   ],
   "source": [
    "client.project.list()"
   ]
  },
  {
   "cell_type": "code",
   "execution_count": 3,
   "metadata": {
    "pycharm": {
     "name": "#%%\n"
    },
    "scrolled": true
   },
   "outputs": [
    {
     "name": "stdout",
     "output_type": "stream",
     "text": [
      "Dataset(id='98c14227-e0c9-4438-b743-85e36b9d2467', name='Full test', description='check tool outputs', process_id='process-nf-core-sarek-dev', project_id=None, status='COMPLETED', source_dataset_ids=['2103d6fd-fcd2-4a0b-a687-5519eea83434'], info={'runBy': 'bdigby@fredhutch.org', 'notifications': {'SUBMITTED': ['bdigby@fredhutch.org'], 'RUNNING': ['bdigby@fredhutch.org'], 'SUCCEEDED': ['bdigby@fredhutch.org'], 'FAILED': ['bdigby@fredhutch.org']}, 'jobId': 'c2bfdb76-c68b-493e-96a4-e5714702467a', 'jobQueue': 'arn:aws:batch:us-west-2:561666204077:job-queue/z-9a31492a-e679-43ce-9f06-d84213c8f7f7', 'status': 'SUCCEEDED', 'statusReason': 'Essential container in task exited', 'createdAt': 1658641203860, 'startedAt': 1658641466987, 'stoppedAt': 1658648577561, 'logStreamName': 'z-9a31492a-e679-43ce-9f06-d84213c8f7f7/default/6d16492892b2441bb5dbed5cba7d191c'}, params={'analysis_type': {'genome': 'GATK.GRCh38', 'wes': False, 'analysis_type': 'Germline Variant Calling', 'tools': ['cnvkit', 'deepvariant', 'freebayes', 'haplotypecaller', 'manta', 'mpileup', 'strelka', 'tiddit'], 'intervals': 's3://z-9a31492a-e679-43ce-9f06-d84213c8f7f7/resources/data/references/genome_bed/GRCh38_Chr20/regions.bed'}, 'annotation': {'annotation_tool': ['vep', 'snpeff'], 'vep_dbnsfp': True, 'vep_loftee': True, 'vep_spliceai': True, 'vep_spliceregion': True}, 'read_trimming_options': {'trim_fastq': False}}, created_at=datetime.datetime(2022, 7, 23, 22, 39, 48, 67000, tzinfo=datetime.timezone(datetime.timedelta(days=-1, seconds=61200), 'PDT')))\n"
     ]
    }
   ],
   "source": [
    "from pubweb.file_utils import filter_files_by_pattern\n",
    "from pprint import pprint\n",
    "\n",
    "project = client.project.find_by_name(name='Test Project')\n",
    "datasets = client.dataset.find_by_project(project.id)\n",
    "dataset = datasets[0]\n",
    "pprint(dataset)"
   ]
  },
  {
   "cell_type": "markdown",
   "metadata": {
    "pycharm": {
     "name": "#%% md\n"
    }
   },
   "source": [
    "Use the `get_dataset_files` method to get a list of the files in the dataset.\n",
    "\n",
    "If the files argument is not provided in the `download_files` method, then it will download all files."
   ]
  },
  {
   "cell_type": "code",
   "execution_count": 4,
   "metadata": {
    "pycharm": {
     "name": "#%%\n"
    },
    "scrolled": true
   },
   "outputs": [
    {
     "name": "stdout",
     "output_type": "stream",
     "text": [
      "[File(path=data/multiqc/multiqc_data/vcftools_tstv_by_count.txt)]\n"
     ]
    },
    {
     "name": "stderr",
     "output_type": "stream",
     "text": [
      "Downloading file vcftools_tstv_by_count.txt (403.00 B) | 100.0%|████████████████\n"
     ]
    }
   ],
   "source": [
    "files = client.dataset.get_dataset_files(project_id=project.id,\n",
    "                                         dataset_id=dataset.id)\n",
    "files = filter_files_by_pattern(files, '*count.txt')\n",
    "print(files)\n",
    "\n",
    "client.dataset.download_files(project_id=project.id,\n",
    "                              dataset_id=dataset.id,\n",
    "                              download_location='/tmp',\n",
    "                              files=files)"
   ]
  },
  {
   "cell_type": "code",
   "execution_count": null,
   "metadata": {},
   "outputs": [],
   "source": []
  }
 ],
 "metadata": {
  "kernelspec": {
   "display_name": "Python 3 (ipykernel)",
   "language": "python",
   "name": "python3"
  },
  "language_info": {
   "codemirror_mode": {
    "name": "ipython",
    "version": 3
   },
   "file_extension": ".py",
   "mimetype": "text/x-python",
   "name": "python",
   "nbconvert_exporter": "python",
   "pygments_lexer": "ipython3",
   "version": "3.9.12"
  }
 },
 "nbformat": 4,
 "nbformat_minor": 1
}
