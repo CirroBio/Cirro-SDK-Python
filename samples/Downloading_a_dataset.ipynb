{
 "cells": [
  {
   "cell_type": "markdown",
   "metadata": {
    "pycharm": {
     "name": "#%% md\n"
    }
   },
   "source": [
    "## Downloading a dataset"
   ]
  },
  {
   "cell_type": "code",
   "execution_count": 1,
   "metadata": {
    "pycharm": {
     "name": "#%%\n"
    }
   },
   "outputs": [],
   "source": [
    "from pubweb import PubWeb\n",
    "\n",
    "client = PubWeb()"
   ]
  },
  {
   "cell_type": "markdown",
   "metadata": {
    "pycharm": {
     "name": "#%% md\n"
    }
   },
   "source": [
    "You can find the ID of the dataset by using the `find_by_project` method or by looking at the URL on the data portal."
   ]
  },
  {
   "cell_type": "code",
   "execution_count": 2,
   "metadata": {},
   "outputs": [
    {
     "data": {
      "text/plain": [
       "[Project(id='9a31492a-e679-43ce-9f06-d84213c8f7f7', name='Test Project', description='Project used to test updates to the Portal')]"
      ]
     },
     "execution_count": 2,
     "metadata": {},
     "output_type": "execute_result"
    }
   ],
   "source": [
    "client.project.list()"
   ]
  },
  {
   "cell_type": "code",
   "execution_count": 3,
   "metadata": {
    "pycharm": {
     "name": "#%%\n"
    },
    "scrolled": true
   },
   "outputs": [
    {
     "name": "stdout",
     "output_type": "stream",
     "text": [
      "Dataset(id='5ce619c3-793c-4f2a-85c7-b34121bd06e7',\n",
      "        name='test',\n",
      "        description='test',\n",
      "        process_id='sequencing-run',\n",
      "        project_id=None,\n",
      "        status='COMPLETED',\n",
      "        source_dataset_ids=[],\n",
      "        info={},\n",
      "        params={},\n",
      "        created_at=datetime.datetime(2022, 6, 28, 13, 35, 31, 756000, tzinfo=datetime.timezone(datetime.timedelta(days=-1, seconds=61200), 'Pacific Daylight Time')))\n"
     ]
    }
   ],
   "source": [
    "from pubweb.file_utils import filter_files_by_pattern\n",
    "from pprint import pprint\n",
    "\n",
    "project = client.project.find_by_name(name='Test Project')\n",
    "datasets = client.dataset.find_by_project(project.id)\n",
    "dataset = datasets[0]\n",
    "pprint(dataset)"
   ]
  },
  {
   "cell_type": "markdown",
   "metadata": {
    "pycharm": {
     "name": "#%% md\n"
    }
   },
   "source": [
    "Use the `get_dataset_files` method to get a list of the files in the dataset.\n",
    "\n",
    "If the files argument is not provided in the `download_files` method, then it will download all files."
   ]
  },
  {
   "cell_type": "code",
   "execution_count": 4,
   "metadata": {
    "pycharm": {
     "name": "#%%\n"
    },
    "scrolled": true
   },
   "outputs": [
    {
     "name": "stdout",
     "output_type": "stream",
     "text": [
      "[File(path=data/multiqc/multiqc_data/vcftools_tstv_by_count.txt)]\n"
     ]
    },
    {
     "name": "stderr",
     "output_type": "stream",
     "text": [
      "Downloading file vcftools_tstv_by_count.txt (403.00 B) | 100.0%|████████████████\n"
     ]
    }
   ],
   "source": [
    "files = client.dataset.get_dataset_files(project_id=project.id,\n",
    "                                         dataset_id=dataset.id)\n",
    "files = filter_files_by_pattern(files, '*count.txt')\n",
    "print(files)\n",
    "\n",
    "client.dataset.download_files(project_id=project.id,\n",
    "                              dataset_id=dataset.id,\n",
    "                              download_location='/tmp',\n",
    "                              files=files)"
   ]
  },
  {
   "cell_type": "code",
   "execution_count": null,
   "metadata": {},
   "outputs": [],
   "source": []
  }
 ],
 "metadata": {
  "kernelspec": {
   "display_name": "Python 3 (ipykernel)",
   "language": "python",
   "name": "python3"
  },
  "language_info": {
   "codemirror_mode": {
    "name": "ipython",
    "version": 3
   },
   "file_extension": ".py",
   "mimetype": "text/x-python",
   "name": "python",
   "nbconvert_exporter": "python",
   "pygments_lexer": "ipython3",
   "version": "3.9.12"
  },
  "vscode": {
   "interpreter": {
    "hash": "aee8b7b246df8f9039afb4144a1f6fd8d2ca17a180786b69acc140d282b71a49"
   }
  }
 },
 "nbformat": 4,
 "nbformat_minor": 1
}
