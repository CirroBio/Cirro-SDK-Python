{
 "cells": [
  {
   "cell_type": "markdown",
   "metadata": {
    "pycharm": {
     "name": "#%% md\n"
    }
   },
   "source": [
    "## Downloading a dataset"
   ]
  },
  {
   "cell_type": "code",
   "execution_count": 1,
   "metadata": {
    "pycharm": {
     "name": "#%%\n"
    }
   },
   "outputs": [],
   "source": [
    "from pubweb import DataPortal\n",
    "\n",
    "portal = DataPortal()"
   ]
  },
  {
   "cell_type": "markdown",
   "metadata": {
    "pycharm": {
     "name": "#%% md\n"
    }
   },
   "source": [
    "You can get the list of all projects which are available, and select a particular project by name"
   ]
  },
  {
   "cell_type": "code",
   "execution_count": 2,
   "metadata": {},
   "outputs": [
    {
     "name": "stdout",
     "output_type": "stream",
     "text": [
      "There are 3 projects available\n",
      "Selected the project 'Test Project' (ID: 9a31492a-e679-43ce-9f06-d84213c8f7f7)\n",
      "This project contains 95 datasets to choose from\n"
     ]
    }
   ],
   "source": [
    "print(f\"There are {len(portal.list_projects()):,} projects available\")\n",
    "# print(portal.list_projects()) # run this line to see all the projects\n",
    "\n",
    "project = portal.get_project_by_name(\"Test Project\")\n",
    "print(f\"Selected the project '{project.name}' (ID: {project.id})\")\n",
    "print(f\"This project contains {len(project.list_datasets()):,} datasets to choose from\")"
   ]
  },
  {
   "cell_type": "markdown",
   "metadata": {},
   "source": [
    "Select a single dataset from that project"
   ]
  },
  {
   "cell_type": "code",
   "execution_count": 3,
   "metadata": {
    "pycharm": {
     "name": "#%%\n"
    },
    "scrolled": true
   },
   "outputs": [
    {
     "name": "stdout",
     "output_type": "stream",
     "text": [
      "Name: Test of mageck-count (updated headnode code 9/22/2022) (3)\n",
      "Id: bcda3e84-1abe-4d08-86b0-690ea7e1cdad\n",
      "Description: Test of mageck-count (updated headnode code 9/22/2022)\n",
      "Status: COMPLETED\n"
     ]
    }
   ],
   "source": [
    "# Datasets can be selected by name or by ID\n",
    "dataset = project.get_dataset_by_id(\"bcda3e84-1abe-4d08-86b0-690ea7e1cdad\")\n",
    "# dataset = project.get_dataset_by_name(\"Test of mageck-count\")\n",
    "print(dataset)"
   ]
  },
  {
   "cell_type": "markdown",
   "metadata": {
    "pycharm": {
     "name": "#%% md\n"
    }
   },
   "source": [
    "Download all of the files from that dataset to a temporary folder"
   ]
  },
  {
   "cell_type": "code",
   "execution_count": 4,
   "metadata": {
    "pycharm": {
     "name": "#%%\n"
    },
    "scrolled": true
   },
   "outputs": [
    {
     "name": "stderr",
     "output_type": "stream",
     "text": [
      "Downloading file MO_Brunello_1.fastq (898.44 KB) | 100.0%|█████████████████████████ | 3.63MB/s\n",
      "Downloading file MO_Brunello_2.fastq (898.44 KB) | 100.0%|█████████████████████████ | 2.53MB/s\n",
      "Downloading file MO_Brunello_gDNA_1.fastq (898.44 KB) | 100.0%|█████████████████████████ | 940kB/s\n",
      "Downloading file MO_Brunello_gDNA_2.fastq (898.44 KB) | 100.0%|█████████████████████████ | 3.28MB/s\n",
      "Downloading file multiqc_report.html (1.12 MB) | 100.0%|█████████████████████████ | 1.28MB/s\n",
      "Downloading file MO_Brunello_1.json (72.07 KB) | 100.0%|█████████████████████████ | 543kB/s\n",
      "Downloading file MO_Brunello_1_fastqc.html (804.22 KB) | 100.0%|█████████████████████████ | 4.02MB/s\n",
      "Downloading file MO_Brunello_2.json (72.07 KB) | 100.0%|█████████████████████████ | 416kB/s\n",
      "Downloading file MO_Brunello_2_fastqc.html (824.26 KB) | 100.0%|█████████████████████████ | 1.77MB/s\n",
      "Downloading file MO_Brunello_gDNA_1.json (72.53 KB) | 100.0%|█████████████████████████ | 383kB/s\n",
      "Downloading file MO_Brunello_gDNA_1_fastqc.html (824.76 KB) | 100.0%|█████████████████████████ | 1.41MB/s\n",
      "Downloading file MO_Brunello_gDNA_2.json (71.84 KB) | 100.0%|█████████████████████████ | 645kB/s\n",
      "Downloading file MO_Brunello_gDNA_2_fastqc.html (815.26 KB) | 100.0%|█████████████████████████ | 1.35MB/s\n",
      "Downloading file MO_Brunello_1.count.txt (1.55 MB) | 100.0%|█████████████████████████ | 6.37MB/s\n",
      "Downloading file MO_Brunello_1.count_normalized.txt (1.56 MB) | 100.0%|█████████████████████████ | 3.68MB/s\n",
      "Downloading file MO_Brunello_1.countsummary.txt (237.00 B) | 100.0%|█████████████████████████ | 2.65kB/s\n",
      "Downloading file MO_Brunello_2.count.txt (1.55 MB) | 100.0%|█████████████████████████ | 5.77MB/s\n",
      "Downloading file MO_Brunello_2.count_normalized.txt (1.56 MB) | 100.0%|█████████████████████████ | 6.21MB/s\n",
      "Downloading file MO_Brunello_2.countsummary.txt (237.00 B) | 100.0%|█████████████████████████ | 3.05kB/s\n",
      "Downloading file MO_Brunello_gDNA_1.count.txt (1.55 MB) | 100.0%|█████████████████████████ | 2.34MB/s\n",
      "Downloading file MO_Brunello_gDNA_1.count_normalized.txt (1.56 MB) | 100.0%|█████████████████████████ | 1.81MB/s\n",
      "Downloading file MO_Brunello_gDNA_1.countsummary.txt (247.00 B) | 100.0%|█████████████████████████ | 2.55kB/s\n",
      "Downloading file MO_Brunello_gDNA_2.count.txt (1.55 MB) | 100.0%|█████████████████████████ | 6.55MB/s\n",
      "Downloading file MO_Brunello_gDNA_2.count_normalized.txt (1.56 MB) | 100.0%|█████████████████████████ | 2.04MB/s\n",
      "Downloading file MO_Brunello_gDNA_2.countsummary.txt (246.00 B) | 100.0%|█████████████████████████ | 3.26kB/s\n",
      "Downloading file counts.txt (1.99 MB) | 100.0%|█████████████████████████ | 5.11MB/s\n",
      "Downloading file sample_names.txt (65.00 B) | 100.0%|█████████████████████████ | 1.32kB/s\n",
      "Downloading file summary.txt (366.00 B) | 100.0%|█████████████████████████ | 5.79kB/s\n",
      "Downloading file MO_Brunello_1.log (2.39 KB) | 100.0%|█████████████████████████ | 31.6kB/s\n",
      "Downloading file MO_Brunello_2.log (2.39 KB) | 100.0%|█████████████████████████ | 39.0kB/s\n",
      "Downloading file MO_Brunello_gDNA_1.log (2.43 KB) | 100.0%|█████████████████████████ | 22.5kB/s\n",
      "Downloading file MO_Brunello_gDNA_2.log (2.43 KB) | 100.0%|█████████████████████████ | 26.9kB/s\n"
     ]
    }
   ],
   "source": [
    "dataset.download_files(\"/tmp\")"
   ]
  },
  {
   "cell_type": "markdown",
   "metadata": {},
   "source": [
    "Alternatively, you can inspect and filter the list of files to only what is needed"
   ]
  },
  {
   "cell_type": "code",
   "execution_count": 5,
   "metadata": {},
   "outputs": [
    {
     "name": "stdout",
     "output_type": "stream",
     "text": [
      "data/cutadapt/trim/fastq/MO_Brunello_1.fastq (920000 bytes)\n",
      "\n",
      "data/cutadapt/trim/fastq/MO_Brunello_2.fastq (920000 bytes)\n",
      "\n",
      "data/cutadapt/trim/fastq/MO_Brunello_gDNA_1.fastq (920000 bytes)\n",
      "\n",
      "data/cutadapt/trim/fastq/MO_Brunello_gDNA_2.fastq (920000 bytes)\n",
      "\n",
      "data/fastqc/multiqc_report.html (1173155 bytes)\n",
      "\n",
      "data/fastqc/MO_Brunello_1/MO_Brunello_1.json (73803 bytes)\n",
      "\n",
      "data/fastqc/MO_Brunello_1/MO_Brunello_1_fastqc.html (823526 bytes)\n",
      "\n",
      "data/fastqc/MO_Brunello_2/MO_Brunello_2.json (73797 bytes)\n",
      "\n",
      "data/fastqc/MO_Brunello_2/MO_Brunello_2_fastqc.html (844044 bytes)\n",
      "\n",
      "data/fastqc/MO_Brunello_gDNA_1/MO_Brunello_gDNA_1.json (74268 bytes)\n",
      "\n",
      "data/fastqc/MO_Brunello_gDNA_1/MO_Brunello_gDNA_1_fastqc.html (844554 bytes)\n",
      "\n",
      "data/fastqc/MO_Brunello_gDNA_2/MO_Brunello_gDNA_2.json (73563 bytes)\n",
      "\n",
      "data/fastqc/MO_Brunello_gDNA_2/MO_Brunello_gDNA_2_fastqc.html (834827 bytes)\n",
      "\n",
      "data/mageck/count/MO_Brunello_1.count.txt (1625955 bytes)\n",
      "\n",
      "data/mageck/count/MO_Brunello_1.count_normalized.txt (1638475 bytes)\n",
      "\n",
      "data/mageck/count/MO_Brunello_1.countsummary.txt (237 bytes)\n",
      "\n",
      "data/mageck/count/MO_Brunello_2.count.txt (1625955 bytes)\n",
      "\n",
      "data/mageck/count/MO_Brunello_2.count_normalized.txt (1638372 bytes)\n",
      "\n",
      "data/mageck/count/MO_Brunello_2.countsummary.txt (237 bytes)\n",
      "\n",
      "data/mageck/count/MO_Brunello_gDNA_1.count.txt (1625960 bytes)\n",
      "\n",
      "data/mageck/count/MO_Brunello_gDNA_1.count_normalized.txt (1638522 bytes)\n",
      "\n",
      "data/mageck/count/MO_Brunello_gDNA_1.countsummary.txt (247 bytes)\n",
      "\n",
      "data/mageck/count/MO_Brunello_gDNA_2.count.txt (1625960 bytes)\n",
      "\n",
      "data/mageck/count/MO_Brunello_gDNA_2.count_normalized.txt (1638905 bytes)\n",
      "\n",
      "data/mageck/count/MO_Brunello_gDNA_2.countsummary.txt (246 bytes)\n",
      "\n",
      "data/mageck/count/combined/counts.txt (2090653 bytes)\n",
      "\n",
      "data/mageck/count/combined/sample_names.txt (65 bytes)\n",
      "\n",
      "data/mageck/count/combined/summary.txt (366 bytes)\n",
      "\n",
      "data/mageck/count/log/MO_Brunello_1.log (2449 bytes)\n",
      "\n",
      "data/mageck/count/log/MO_Brunello_2.log (2449 bytes)\n",
      "\n",
      "data/mageck/count/log/MO_Brunello_gDNA_1.log (2489 bytes)\n",
      "\n",
      "data/mageck/count/log/MO_Brunello_gDNA_2.log (2488 bytes)\n"
     ]
    }
   ],
   "source": [
    "files = dataset.list_files()\n",
    "print(files)"
   ]
  },
  {
   "cell_type": "code",
   "execution_count": 6,
   "metadata": {},
   "outputs": [
    {
     "name": "stdout",
     "output_type": "stream",
     "text": [
      "data/mageck/count/MO_Brunello_1.count_normalized.txt (1638475 bytes)\n",
      "\n",
      "data/mageck/count/MO_Brunello_2.count_normalized.txt (1638372 bytes)\n",
      "\n",
      "data/mageck/count/MO_Brunello_gDNA_1.count_normalized.txt (1638522 bytes)\n",
      "\n",
      "data/mageck/count/MO_Brunello_gDNA_2.count_normalized.txt (1638905 bytes)\n"
     ]
    }
   ],
   "source": [
    "norm_counts = files.filter_by_pattern(\"*.count_normalized.txt\")\n",
    "print(norm_counts)"
   ]
  },
  {
   "cell_type": "code",
   "execution_count": 7,
   "metadata": {},
   "outputs": [
    {
     "name": "stderr",
     "output_type": "stream",
     "text": [
      "Downloading file MO_Brunello_1.count_normalized.txt (1.56 MB) | 100.0%|█████████████████████████ | 1.77MB/s\n",
      "Downloading file MO_Brunello_2.count_normalized.txt (1.56 MB) | 100.0%|█████████████████████████ | 7.66MB/s\n",
      "Downloading file MO_Brunello_gDNA_1.count_normalized.txt (1.56 MB) | 100.0%|█████████████████████████ | 6.62MB/s\n",
      "Downloading file MO_Brunello_gDNA_2.count_normalized.txt (1.56 MB) | 100.0%|█████████████████████████ | 2.59MB/s\n"
     ]
    }
   ],
   "source": [
    "norm_counts.download(\"/tmp\")"
   ]
  },
  {
   "cell_type": "code",
   "execution_count": null,
   "metadata": {},
   "outputs": [],
   "source": []
  }
 ],
 "metadata": {
  "kernelspec": {
   "display_name": "Python 3 (ipykernel)",
   "language": "python",
   "name": "python3"
  },
  "language_info": {
   "codemirror_mode": {
    "name": "ipython",
    "version": 3
   },
   "file_extension": ".py",
   "mimetype": "text/x-python",
   "name": "python",
   "nbconvert_exporter": "python",
   "pygments_lexer": "ipython3",
   "version": "3.9.12"
  },
  "vscode": {
   "interpreter": {
    "hash": "aee8b7b246df8f9039afb4144a1f6fd8d2ca17a180786b69acc140d282b71a49"
   }
  }
 },
 "nbformat": 4,
 "nbformat_minor": 1
}
