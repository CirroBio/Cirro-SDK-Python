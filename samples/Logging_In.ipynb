{
 "cells": [
  {
   "cell_type": "markdown",
   "metadata": {},
   "source": [
    "# Logging In\n",
    "\n",
    "There are times when you want to access data in Cirro using a system that does not cache the login information within a user account (like you would when using the command line).\n",
    "In that situation, follow the steps below to:\n",
    "\n",
    "1. Connect to the Cirro platform and generate a one-time code for the session\n",
    "2. Present the user with the instructions for authenticating that session\n",
    "3. Create a `DataPortal` object which can be used access data available to the user"
   ]
  },
  {
   "cell_type": "code",
   "execution_count": 1,
   "metadata": {},
   "outputs": [],
   "source": [
    "# Import the cirro SDK\n",
    "from cirro import DataPortalLogin"
   ]
  },
  {
   "cell_type": "code",
   "execution_count": 2,
   "metadata": {},
   "outputs": [],
   "source": [
    "# Connect to the Cirro platform\n",
    "# (replace orgname.cirro.bio as appropriate for your organization)\n",
    "cirro_login = DataPortalLogin(base_url=\"orgname.cirro.bio\")"
   ]
  },
  {
   "cell_type": "code",
   "execution_count": null,
   "metadata": {},
   "outputs": [],
   "source": [
    "# Present the user with the instructions for authenticating their session\n",
    "print(cirro_login.auth_message)"
   ]
  },
  {
   "cell_type": "code",
   "execution_count": null,
   "metadata": {},
   "outputs": [],
   "source": [
    "# Wait for the user to complete the login, and then return a DataPortal object\n",
    "portal = cirro_login.await_completion()"
   ]
  },
  {
   "cell_type": "code",
   "execution_count": null,
   "metadata": {},
   "outputs": [],
   "source": []
  }
 ],
 "metadata": {
  "kernelspec": {
   "display_name": "venv",
   "language": "python",
   "name": "python3"
  },
  "language_info": {
   "codemirror_mode": {
    "name": "ipython",
    "version": 3
   },
   "file_extension": ".py",
   "mimetype": "text/x-python",
   "name": "python",
   "nbconvert_exporter": "python",
   "pygments_lexer": "ipython3",
   "version": "3.12.7"
  }
 },
 "nbformat": 4,
 "nbformat_minor": 2
}
