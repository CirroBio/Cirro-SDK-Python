{
 "cells": [
  {
   "cell_type": "markdown",
   "source": [
    "## Downloading a dataset"
   ],
   "metadata": {
    "collapsed": false,
    "pycharm": {
     "name": "#%% md\n"
    }
   }
  },
  {
   "cell_type": "code",
   "execution_count": 4,
   "outputs": [],
   "source": [
    "from pubweb import PubWeb\n",
    "from pubweb.auth import UsernameAndPasswordAuth\n",
    "from pubweb.config import load_config\n",
    "\n",
    "client = PubWeb(auth_info=UsernameAndPasswordAuth(*load_config()))"
   ],
   "metadata": {
    "collapsed": false,
    "pycharm": {
     "name": "#%%\n"
    }
   }
  },
  {
   "cell_type": "markdown",
   "source": [
    "You can find the ID of the dataset by using the `find_by_project` method on the Dataset service or by looking at the URL on the data portal."
   ],
   "metadata": {
    "collapsed": false,
    "pycharm": {
     "name": "#%% md\n"
    }
   }
  },
  {
   "cell_type": "code",
   "execution_count": 5,
   "outputs": [
    {
     "name": "stdout",
     "output_type": "stream",
     "text": [
      "Dataset(id='5ce619c3-793c-4f2a-85c7-b34121bd06e7',\n",
      "        name='test',\n",
      "        description='test',\n",
      "        process_id='sequencing-run',\n",
      "        project_id=None,\n",
      "        status='COMPLETED',\n",
      "        source_dataset_ids=[],\n",
      "        info={},\n",
      "        params={},\n",
      "        created_at=datetime.datetime(2022, 6, 28, 13, 35, 31, 756000, tzinfo=datetime.timezone(datetime.timedelta(days=-1, seconds=61200), 'Pacific Daylight Time')))\n"
     ]
    }
   ],
   "source": [
    "from pubweb.file_utils import filter_files_by_pattern\n",
    "from pprint import pprint\n",
    "\n",
    "project = client.project.list()[0]\n",
    "datasets = client.dataset.find_by_project(project.id)\n",
    "dataset = datasets[0]\n",
    "pprint(dataset)"
   ],
   "metadata": {
    "collapsed": false,
    "pycharm": {
     "name": "#%%\n"
    }
   }
  },
  {
   "cell_type": "markdown",
   "source": [
    "Use the `get_dataset_files` method to get a list of the files in the dataset.\n",
    "\n",
    "If the files argument is not provided in the `download_files method`, then it will download all files."
   ],
   "metadata": {
    "collapsed": false,
    "pycharm": {
     "name": "#%% md\n"
    }
   }
  },
  {
   "cell_type": "code",
   "execution_count": 6,
   "outputs": [
    {
     "name": "stdout",
     "output_type": "stream",
     "text": [
      "[File(path=data/log (28).txt)]\n"
     ]
    },
    {
     "name": "stderr",
     "output_type": "stream",
     "text": [
      "Downloading file log (28).txt (119.79 KB) | 100.0%|█████████████████████████ | 652kB/s\n"
     ]
    }
   ],
   "source": [
    "files = client.dataset.get_dataset_files(project_id=project.id,\n",
    "                                         dataset_id=dataset.id)\n",
    "files = filter_files_by_pattern(files, '*.txt')\n",
    "print(files)\n",
    "\n",
    "client.dataset.download_files(project_id=project.id,\n",
    "                              dataset_id=dataset.id,\n",
    "                              download_location='/tmp',\n",
    "                              files=files)"
   ],
   "metadata": {
    "collapsed": false,
    "pycharm": {
     "name": "#%%\n"
    }
   }
  }
 ],
 "metadata": {
  "kernelspec": {
   "display_name": "Python 3",
   "language": "python",
   "name": "python3"
  },
  "language_info": {
   "codemirror_mode": {
    "name": "ipython",
    "version": 2
   },
   "file_extension": ".py",
   "mimetype": "text/x-python",
   "name": "python",
   "nbconvert_exporter": "python",
   "pygments_lexer": "ipython2",
   "version": "2.7.6"
  }
 },
 "nbformat": 4,
 "nbformat_minor": 0
}