{
 "cells": [
  {
   "cell_type": "markdown",
   "id": "5d0401b2",
   "metadata": {},
   "source": [
    "To access the Cirro Data Portal directly from R, you must first:\n",
    "  \n",
    " 1. Install the cirro client library (with `pip install cirro` from the command line)\n",
    "  \n",
    " 2. Install the reticulate package in R (with `install.packages(\"reticulate\")` from the R prompt)\n",
    "  \n",
    " 3. Log in to your Data Portal account (with `cirro configure` from the command line)\n"
   ]
  },
  {
   "cell_type": "code",
   "execution_count": 1,
   "id": "411cdb7c",
   "metadata": {
    "vscode": {
     "languageId": "r"
    }
   },
   "outputs": [],
   "source": [
    "# Once your system is set up, you can use reticulate to import the client library\n",
    "library(reticulate)\n",
    "cirro <- import(\"cirro\")"
   ]
  },
  {
   "cell_type": "code",
   "execution_count": 2,
   "id": "98697188",
   "metadata": {
    "vscode": {
     "languageId": "r"
    }
   },
   "outputs": [],
   "source": [
    "# As described in the Getting Started notebook, the `portal` object is used to access\n",
    "# information available in the Data Portal\n",
    "portal <- cirro$DataPortal()"
   ]
  },
  {
   "cell_type": "code",
   "execution_count": 3,
   "id": "ffd542f2",
   "metadata": {
    "vscode": {
     "languageId": "r"
    }
   },
   "outputs": [],
   "source": [
    "# One of the most useful examples for how to use R is reading in data directly\n",
    "# from files that are hosted in the Data Portal\n",
    "\n",
    "# In the example below, we will read in the table of read counts which were\n",
    "# generated in the \"Test of mageck-count\" dataset within the \"Test Project\" project:\n",
    "project <- portal$get_project_by_name('Test Project')\n",
    "dataset <- project$get_dataset_by_name(\"Test of mageck-count\")\n",
    "counts <- dataset$list_files()$get_by_name(\"data/mageck/count/combined/counts.txt\")$read_csv(sep=\"\\t\")"
   ]
  },
  {
   "cell_type": "code",
   "execution_count": 4,
   "id": "d8210bb7",
   "metadata": {
    "vscode": {
     "languageId": "r"
    }
   },
   "outputs": [
    {
     "data": {
      "text/html": [
       "<table class=\"dataframe\">\n",
       "<caption>A data.frame: 6 × 6</caption>\n",
       "<thead>\n",
       "\t<tr><th></th><th scope=col>sgRNA</th><th scope=col>Gene</th><th scope=col>MO_Brunello_gDNA_2</th><th scope=col>MO_Brunello_1</th><th scope=col>MO_Brunello_2</th><th scope=col>MO_Brunello_gDNA_1</th></tr>\n",
       "\t<tr><th></th><th scope=col>&lt;chr&gt;</th><th scope=col>&lt;chr&gt;</th><th scope=col>&lt;dbl&gt;</th><th scope=col>&lt;dbl&gt;</th><th scope=col>&lt;dbl&gt;</th><th scope=col>&lt;dbl&gt;</th></tr>\n",
       "</thead>\n",
       "<tbody>\n",
       "\t<tr><th scope=row>1</th><td>A1BG_0    </td><td>A1BG</td><td>0</td><td>0</td><td>0</td><td>0</td></tr>\n",
       "\t<tr><th scope=row>2</th><td>A1BG_1    </td><td>A1BG</td><td>0</td><td>0</td><td>0</td><td>2</td></tr>\n",
       "\t<tr><th scope=row>3</th><td>A1BG_2    </td><td>A1BG</td><td>0</td><td>0</td><td>0</td><td>0</td></tr>\n",
       "\t<tr><th scope=row>4</th><td>A1BG_3    </td><td>A1BG</td><td>0</td><td>0</td><td>2</td><td>0</td></tr>\n",
       "\t<tr><th scope=row>5</th><td>A1CF_36946</td><td>A1CF</td><td>0</td><td>0</td><td>0</td><td>0</td></tr>\n",
       "\t<tr><th scope=row>6</th><td>A1CF_36947</td><td>A1CF</td><td>1</td><td>0</td><td>0</td><td>0</td></tr>\n",
       "</tbody>\n",
       "</table>\n"
      ],
      "text/latex": [
       "A data.frame: 6 × 6\n",
       "\\begin{tabular}{r|llllll}\n",
       "  & sgRNA & Gene & MO\\_Brunello\\_gDNA\\_2 & MO\\_Brunello\\_1 & MO\\_Brunello\\_2 & MO\\_Brunello\\_gDNA\\_1\\\\\n",
       "  & <chr> & <chr> & <dbl> & <dbl> & <dbl> & <dbl>\\\\\n",
       "\\hline\n",
       "\t1 & A1BG\\_0     & A1BG & 0 & 0 & 0 & 0\\\\\n",
       "\t2 & A1BG\\_1     & A1BG & 0 & 0 & 0 & 2\\\\\n",
       "\t3 & A1BG\\_2     & A1BG & 0 & 0 & 0 & 0\\\\\n",
       "\t4 & A1BG\\_3     & A1BG & 0 & 0 & 2 & 0\\\\\n",
       "\t5 & A1CF\\_36946 & A1CF & 0 & 0 & 0 & 0\\\\\n",
       "\t6 & A1CF\\_36947 & A1CF & 1 & 0 & 0 & 0\\\\\n",
       "\\end{tabular}\n"
      ],
      "text/markdown": [
       "\n",
       "A data.frame: 6 × 6\n",
       "\n",
       "| <!--/--> | sgRNA &lt;chr&gt; | Gene &lt;chr&gt; | MO_Brunello_gDNA_2 &lt;dbl&gt; | MO_Brunello_1 &lt;dbl&gt; | MO_Brunello_2 &lt;dbl&gt; | MO_Brunello_gDNA_1 &lt;dbl&gt; |\n",
       "|---|---|---|---|---|---|---|\n",
       "| 1 | A1BG_0     | A1BG | 0 | 0 | 0 | 0 |\n",
       "| 2 | A1BG_1     | A1BG | 0 | 0 | 0 | 2 |\n",
       "| 3 | A1BG_2     | A1BG | 0 | 0 | 0 | 0 |\n",
       "| 4 | A1BG_3     | A1BG | 0 | 0 | 2 | 0 |\n",
       "| 5 | A1CF_36946 | A1CF | 0 | 0 | 0 | 0 |\n",
       "| 6 | A1CF_36947 | A1CF | 1 | 0 | 0 | 0 |\n",
       "\n"
      ],
      "text/plain": [
       "  sgRNA      Gene MO_Brunello_gDNA_2 MO_Brunello_1 MO_Brunello_2\n",
       "1 A1BG_0     A1BG 0                  0             0            \n",
       "2 A1BG_1     A1BG 0                  0             0            \n",
       "3 A1BG_2     A1BG 0                  0             0            \n",
       "4 A1BG_3     A1BG 0                  0             2            \n",
       "5 A1CF_36946 A1CF 0                  0             0            \n",
       "6 A1CF_36947 A1CF 1                  0             0            \n",
       "  MO_Brunello_gDNA_1\n",
       "1 0                 \n",
       "2 2                 \n",
       "3 0                 \n",
       "4 0                 \n",
       "5 0                 \n",
       "6 0                 "
      ]
     },
     "metadata": {},
     "output_type": "display_data"
    }
   ],
   "source": [
    "head(counts)"
   ]
  },
  {
   "cell_type": "code",
   "execution_count": null,
   "id": "541af031",
   "metadata": {
    "vscode": {
     "languageId": "r"
    }
   },
   "outputs": [],
   "source": []
  }
 ],
 "metadata": {
  "kernelspec": {
   "display_name": "R",
   "language": "R",
   "name": "ir"
  },
  "language_info": {
   "codemirror_mode": "r",
   "file_extension": ".r",
   "mimetype": "text/x-r-source",
   "name": "R",
   "pygments_lexer": "r",
   "version": "4.1.1"
  }
 },
 "nbformat": 4,
 "nbformat_minor": 5
}
