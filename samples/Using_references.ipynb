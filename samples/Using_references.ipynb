{
 "cells": [
  {
   "cell_type": "markdown",
   "metadata": {
    "pycharm": {
     "name": "#%% md\n"
    }
   },
   "source": [
    "## Working with references"
   ]
  },
  {
   "cell_type": "code",
   "execution_count": 1,
   "metadata": {
    "pycharm": {
     "name": "#%%\n"
    }
   },
   "outputs": [],
   "source": [
    "from pubweb.helpers import DataPortal\n",
    "\n",
    "portal = DataPortal()"
   ]
  },
  {
   "cell_type": "markdown",
   "metadata": {
    "pycharm": {
     "name": "#%% md\n"
    }
   },
   "source": [
    "#### Finding a list of available reference types"
   ]
  },
  {
   "cell_type": "code",
   "execution_count": 2,
   "metadata": {
    "pycharm": {
     "name": "#%%\n"
    }
   },
   "outputs": [
    {
     "name": "stdout",
     "output_type": "stream",
     "text": [
      "Name: Barcode files (general)\n",
      "Description: List of line-separated barcodes\n",
      "Name: CRISPR sgRNA Library\n",
      "Description: Describes the set of sgRNA guides used in the screen, along with the genes which each guide targets.\n",
      "Name: Barcode files (bbi-sci)\n",
      "Description: List of line-separated barcodes\n",
      "Name: STAR files (bbi-sci)\n",
      "Description: BBI-sci: genome to star maps\n",
      "Name: Gene files (bbi-sci)\n",
      "Description: BBI-sci: genome to gene model maps\n",
      "Name: Garnett files (bbi-sci)\n",
      "Description: BBI-sci\n",
      "Name: Hash Lists (bbi-sci)\n",
      "Description: BBI-sci\n",
      "Name: Panel of Normals\n",
      "Description: BGZIPPED VCF file containing common seq noise, normal variants that may appear as low allele-fraction somatic variants.\n",
      "Name: Reference Genome (BWA)\n",
      "Description: Genome sequence indexed for alignment with the BWA algorithm.\n",
      "Name: Reference Genome (FASTA)\n",
      "Description: Genome fasta file\n",
      "Name: Genome Regions (BED)\n",
      "Description: Table of genomic regions in BED format\n",
      "Name: CellRanger Feature Reference (CSV)\n",
      "Description: Reference file used for Feature Barcodes on the 10X platform (e.g. Antibody Capture, CRISPR Guide Capture\n",
      "Name: Sample Metadata Table (CSV)\n",
      "Description: Metadata annotations for a collection of samples. The file must be in CSV format, including a header row, with the first column used for the unique sample identifier (with the header 'sample').\n",
      "Name: VirScan Library\n",
      "Description: VirScan library CSV (oligo, Strain, Protein, Prot_Start, Prot) and Table of public epitopes (peptide_translate).\n"
     ]
    }
   ],
   "source": [
    "for ref_type in portal.list_reference_types():\n",
    "    print(str(ref_type))"
   ]
  },
  {
   "cell_type": "markdown",
   "metadata": {
    "pycharm": {
     "name": "#%% md\n"
    }
   },
   "source": [
    "#### Finding available references within the project"
   ]
  },
  {
   "cell_type": "code",
   "execution_count": 3,
   "metadata": {},
   "outputs": [
    {
     "name": "stdout",
     "output_type": "stream",
     "text": [
      "BroadGPP-Brunello\n"
     ]
    }
   ],
   "source": [
    "# List the CRISPR sgRNA Library references which are available in the test project\n",
    "project = portal.get_project_by_name(\"Test Project\")\n",
    "print(project.list_references(reference_type=\"CRISPR sgRNA Library\").description())"
   ]
  },
  {
   "cell_type": "code",
   "execution_count": 4,
   "metadata": {
    "pycharm": {
     "name": "#%%\n"
    }
   },
   "outputs": [
    {
     "name": "stdout",
     "output_type": "stream",
     "text": [
      "BroadGPP-Brunello\n"
     ]
    }
   ],
   "source": [
    "# Select the CRISPR Library\n",
    "library = project.get_reference_by_name(\"BroadGPP-Brunello\")\n",
    "print(str(library))"
   ]
  },
  {
   "cell_type": "code",
   "execution_count": 5,
   "metadata": {
    "pycharm": {
     "name": "#%%\n"
    }
   },
   "outputs": [
    {
     "data": {
      "text/plain": [
       "'s3://z-9a31492a-e679-43ce-9f06-d84213c8f7f7/resources/data/references/crispr_libraries/BroadGPP-Brunello/library.csv'"
      ]
     },
     "execution_count": 5,
     "metadata": {},
     "output_type": "execute_result"
    }
   ],
   "source": [
    "# Use the absolute path in the process parameter\n",
    "library.absolute_path"
   ]
  },
  {
   "cell_type": "code",
   "execution_count": null,
   "metadata": {
    "pycharm": {
     "name": "#%%\n"
    }
   },
   "outputs": [],
   "source": []
  }
 ],
 "metadata": {
  "kernelspec": {
   "display_name": "Python 3 (ipykernel)",
   "language": "python",
   "name": "python3"
  },
  "language_info": {
   "codemirror_mode": {
    "name": "ipython",
    "version": 3
   },
   "file_extension": ".py",
   "mimetype": "text/x-python",
   "name": "python",
   "nbconvert_exporter": "python",
   "pygments_lexer": "ipython3",
   "version": "3.9.12"
  }
 },
 "nbformat": 4,
 "nbformat_minor": 1
}
