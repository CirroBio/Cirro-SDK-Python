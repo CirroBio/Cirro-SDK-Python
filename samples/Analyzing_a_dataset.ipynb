{
 "cells": [
  {
   "cell_type": "markdown",
   "metadata": {
    "pycharm": {
     "name": "#%% md\n"
    }
   },
   "source": [
    "## Running analysis on a dataset"
   ]
  },
  {
   "cell_type": "code",
   "execution_count": 1,
   "metadata": {
    "pycharm": {
     "name": "#%%\n"
    }
   },
   "outputs": [],
   "source": [
    "from cirro import DataPortal\n",
    "\n",
    "portal = DataPortal()"
   ]
  },
  {
   "cell_type": "code",
   "execution_count": 2,
   "metadata": {
    "pycharm": {
     "name": "#%%\n"
    }
   },
   "outputs": [
    {
     "name": "stdout",
     "output_type": "stream",
     "text": [
      "Project 'Test Project' contains 104 datasets\n",
      "Dataset 'Test dataset for variant calling' contains 2 files\n",
      "Using the 'Variant Calling (nf-core/sarek)' process (ID: process-nf-core-sarek-3-0-1)\n"
     ]
    }
   ],
   "source": [
    "# Get the project by name\n",
    "project = portal.get_project_by_name('Test Project') \n",
    "print(f\"Project '{project.name}' contains {len(project.list_datasets()):,} datasets\")\n",
    "\n",
    "# Get a particular dataset from that project\n",
    "dataset = project.get_dataset_by_name('Test dataset for variant calling')\n",
    "print(f\"Dataset '{dataset.name}' contains {len(dataset.list_files()):,} files\")\n",
    "\n",
    "# Get the process to run on the dataset\n",
    "process = portal.get_process_by_id('process-nf-core-sarek-3-0-1')\n",
    "print(f\"Using the '{process.name}' process (ID: {process.id})\")"
   ]
  },
  {
   "cell_type": "markdown",
   "metadata": {
    "pycharm": {
     "name": "#%% md\n"
    }
   },
   "source": [
    "Look up the parameters that are required for the process. You'll have to set values for these parameters later."
   ]
  },
  {
   "cell_type": "code",
   "execution_count": 3,
   "metadata": {
    "pycharm": {
     "name": "#%%\n"
    }
   },
   "outputs": [
    {
     "name": "stdout",
     "output_type": "stream",
     "text": [
      "Parameters:\n",
      "\tExperiment Design (Group)\n",
      "\t\tReference Genome (key=genome, default=GATK.GRCh38, type=string, enum=['GATK.GRCh38', 'GATK.GRCh37', 'GRCm38'])\n",
      "\t\tWhole Exome/Targeted Gene Panel Assay (key=wes, type=boolean, description=Please indicate if your data was generated using a capture kit.)\n",
      "\t\tGenomic intervals (key=intervals, type=string, description=Target bed file in case of whole exome or targeted sequencing or intervals file for parallelization.)\n",
      "\t\tVariant Calling Type (key=analysis_type, default=Germline Variant Calling, enum=['Germline Variant Calling', 'Somatic Variant Calling'])\n",
      "\tVariant Annotation (Group)\n",
      "\t\tAnnotation tool(s) (key=annotation_tool, type=array, description=Please select one or both variant annotation tools.)\n",
      "\tRead Trimming Options (Group)\n",
      "\t\tTrim reads using Trim-Galore? (key=trim_fastq, type=boolean)\n"
     ]
    }
   ],
   "source": [
    "param_spec = process.get_parameter_spec()\n",
    "param_spec.print()"
   ]
  },
  {
   "cell_type": "markdown",
   "metadata": {
    "pycharm": {
     "name": "#%% md\n"
    }
   },
   "source": [
    "Look up the references you'll need to use as input parameters. See the [Using_references](Using_references.ipynb) notebook for more info on how to find references"
   ]
  },
  {
   "cell_type": "code",
   "execution_count": 4,
   "metadata": {
    "pycharm": {
     "name": "#%%\n"
    }
   },
   "outputs": [
    {
     "name": "stdout",
     "output_type": "stream",
     "text": [
      "The BED references available are:\n",
      "GRCh38_Chr20\n",
      " - NimbleGen_SeqCap_EZ_Exome_primary-capture_hg19_chr17\n",
      " - wgs_calling_regions.hg19.bed\n",
      " - wgs_calling_regions.hg38.bed\n",
      "\n",
      "The reference library we are using is: GRCh38_Chr20\n",
      "The absolute path to the file is: s3://z-9a31492a-e679-43ce-9f06-d84213c8f7f7/resources/data/references/genome_bed/GRCh38_Chr20/regions.bed\n"
     ]
    }
   ],
   "source": [
    "references = project.list_references('Genome Regions (BED)')\n",
    "print(\"The BED references available are:\\n\" + \"\\n - \".join(list(map(str, references))))\n",
    "reference_library = project.get_reference_by_name('GRCh38_Chr20', 'Genome Regions (BED)')\n",
    "\n",
    "print(f\"\\nThe reference library we are using is: {reference_library.name}\\nThe absolute path to the file is: {reference_library.absolute_path}\")"
   ]
  },
  {
   "cell_type": "markdown",
   "metadata": {},
   "source": [
    "Define the parameters you want to use. The keys you'll want to use will come from the `param_spec` variable defined above (look at the `key` for each entry)."
   ]
  },
  {
   "cell_type": "code",
   "execution_count": 5,
   "metadata": {
    "pycharm": {
     "name": "#%%\n"
    }
   },
   "outputs": [
    {
     "data": {
      "text/plain": [
       "{'genome': 'GATK.GRCh38',\n",
       " 'wes': True,\n",
       " 'intervals': 's3://z-9a31492a-e679-43ce-9f06-d84213c8f7f7/resources/data/references/genome_bed/GRCh38_Chr20/regions.bed',\n",
       " 'trim_fastq': False,\n",
       " 'annotation_tool': ['cnvkit', 'deepvariant']}"
      ]
     },
     "execution_count": 5,
     "metadata": {},
     "output_type": "execute_result"
    }
   ],
   "source": [
    "params = {\n",
    "    'genome': 'GATK.GRCh38',\n",
    "    'wes': True,\n",
    "    'intervals': reference_library.absolute_path,\n",
    "    'trim_fastq': False,\n",
    "    'annotation_tool': ['cnvkit', 'deepvariant']\n",
    "}\n",
    "params"
   ]
  },
  {
   "cell_type": "markdown",
   "metadata": {
    "pycharm": {
     "name": "#%% md\n"
    }
   },
   "source": [
    "Before submitting the analysis, the client automatically validates that the parameters are valid.\n",
    "But, you can also validate them manually using `validate_params`"
   ]
  },
  {
   "cell_type": "code",
   "execution_count": 6,
   "metadata": {
    "pycharm": {
     "name": "#%%\n"
    }
   },
   "outputs": [],
   "source": [
    "try:\n",
    "    param_spec.validate_params({\n",
    "        'library': 1\n",
    "    })\n",
    "except Exception as e:\n",
    "    print(e)"
   ]
  },
  {
   "cell_type": "markdown",
   "metadata": {},
   "source": [
    "Run the analysis using the process, dataset, project, and parameters you defined above."
   ]
  },
  {
   "cell_type": "code",
   "execution_count": 7,
   "metadata": {
    "pycharm": {
     "name": "#%%\n"
    }
   },
   "outputs": [
    {
     "name": "stdout",
     "output_type": "stream",
     "text": [
      "71ec598c-368b-47a5-84c8-c209739b050a\n"
     ]
    }
   ],
   "source": [
    "# Run the analysis, specifying a name and description for the resulting dataset\n",
    "new_dataset_id = dataset.run_analysis(\n",
    "    name='Variant Calling Analysis',\n",
    "    description='Test from SDK',\n",
    "    process='process-nf-core-sarek-3-0-1',\n",
    "    params=params\n",
    ")\n",
    "print(new_dataset_id)"
   ]
  },
  {
   "cell_type": "code",
   "execution_count": null,
   "metadata": {},
   "outputs": [],
   "source": []
  }
 ],
 "metadata": {
  "kernelspec": {
   "display_name": "Python 3 (ipykernel)",
   "language": "python",
   "name": "python3"
  },
  "language_info": {
   "codemirror_mode": {
    "name": "ipython",
    "version": 3
   },
   "file_extension": ".py",
   "mimetype": "text/x-python",
   "name": "python",
   "nbconvert_exporter": "python",
   "pygments_lexer": "ipython3",
   "version": "3.9.12"
  },
  "vscode": {
   "interpreter": {
    "hash": "aee8b7b246df8f9039afb4144a1f6fd8d2ca17a180786b69acc140d282b71a49"
   }
  }
 },
 "nbformat": 4,
 "nbformat_minor": 1
}
