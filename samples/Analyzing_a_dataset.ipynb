{
 "cells": [
  {
   "cell_type": "markdown",
   "metadata": {
    "pycharm": {
     "name": "#%% md\n"
    }
   },
   "source": [
    "## Running analysis on a dataset"
   ]
  },
  {
   "cell_type": "code",
   "execution_count": 1,
   "metadata": {
    "pycharm": {
     "name": "#%%\n"
    }
   },
   "outputs": [],
   "source": [
    "from pubweb import DataPortal\n",
    "\n",
    "portal = DataPortal()"
   ]
  },
  {
   "cell_type": "code",
   "execution_count": 2,
   "metadata": {
    "pycharm": {
     "name": "#%%\n"
    }
   },
   "outputs": [
    {
     "name": "stdout",
     "output_type": "stream",
     "text": [
      "Project 'Test Project' contains 99 datasets\n",
      "Dataset 'Test data for CRISPR MAGeCK' contains 6 files\n",
      "Using the 'MAGeCK Count' process (ID: process-hutch-magic_count-1_0)\n"
     ]
    }
   ],
   "source": [
    "# Get the project by name\n",
    "project = portal.get_project_by_name('Test Project') \n",
    "print(f\"Project '{project.name}' contains {len(project.list_datasets()):,} datasets\")\n",
    "\n",
    "# Get a particular dataset from that project\n",
    "dataset = project.get_dataset_by_name('Test data for CRISPR MAGeCK')\n",
    "print(f\"Dataset '{dataset.name}' contains {len(dataset.list_files()):,} files\")\n",
    "\n",
    "# Get the process to run on the dataset\n",
    "process = portal.get_process_by_name('MAGeCK Count')\n",
    "print(f\"Using the '{process.name}' process (ID: {process.id})\")"
   ]
  },
  {
   "cell_type": "markdown",
   "metadata": {
    "pycharm": {
     "name": "#%% md\n"
    }
   },
   "source": [
    "Look up the parameters that are required for the process. You'll have to set values for these parameters later."
   ]
  },
  {
   "cell_type": "code",
   "execution_count": 3,
   "metadata": {
    "pycharm": {
     "name": "#%%\n"
    }
   },
   "outputs": [
    {
     "name": "stdout",
     "output_type": "stream",
     "text": [
      "Parameters:\n",
      "\tFASTQ (key=fastq, type=string)\n",
      "\tLibrary (key=library, type=string)\n",
      "\t5' Adapter (key=adapter, default=CTTGTGGAAAGGACGAAACACCG, type=string, description=Adapter sequence to be trimmed from the 5' end of each read)\n",
      "\tInsert Length (key=insert_length, default=20, type=integer, description=Length of the sgRNA sequences contained in each read)\n"
     ]
    }
   ],
   "source": [
    "param_spec = process.get_parameter_spec()\n",
    "param_spec.print()"
   ]
  },
  {
   "cell_type": "markdown",
   "metadata": {
    "pycharm": {
     "name": "#%% md\n"
    }
   },
   "source": [
    "Look up the references you'll need to use as input parameters. See the [Using_references](Using_references.ipynb) notebook for more info on how to find references"
   ]
  },
  {
   "cell_type": "code",
   "execution_count": 4,
   "metadata": {
    "pycharm": {
     "name": "#%%\n"
    }
   },
   "outputs": [
    {
     "name": "stdout",
     "output_type": "stream",
     "text": [
      "The CRISPR references available are:\n",
      "BroadGPP-Brunello\n"
     ]
    },
    {
     "data": {
      "text/plain": [
       "<pubweb.sdk.reference.DataPortalReference at 0x124332c70>"
      ]
     },
     "execution_count": 4,
     "metadata": {},
     "output_type": "execute_result"
    }
   ],
   "source": [
    "references = project.list_references('CRISPR sgRNA Library')\n",
    "print(\"The CRISPR references available are:\\n\" + \"\\n\".join(list(map(str, references))))\n",
    "reference_library = project.get_reference_by_name('BroadGPP-Brunello', 'CRISPR sgRNA Library')\n",
    "reference_library"
   ]
  },
  {
   "cell_type": "markdown",
   "metadata": {},
   "source": [
    "Look up some files you'll need to use as input parameters"
   ]
  },
  {
   "cell_type": "code",
   "execution_count": 5,
   "metadata": {
    "pycharm": {
     "name": "#%%\n"
    }
   },
   "outputs": [
    {
     "data": {
      "text/plain": [
       "['data/controls/MO_Brunello_gDNA_1.fastq.gz (185096 bytes)',\n",
       " 'data/controls/MO_Brunello_gDNA_2.fastq.gz (177349 bytes)']"
      ]
     },
     "execution_count": 5,
     "metadata": {},
     "output_type": "execute_result"
    }
   ],
   "source": [
    "files = dataset.list_files()\n",
    "fastqs = files.filter_by_pattern('**/controls/*.fastq.gz')\n",
    "[str(f) for f in fastqs]"
   ]
  },
  {
   "cell_type": "markdown",
   "metadata": {},
   "source": [
    "Define the parameters you want to use. The keys you'll want to use will come from the `param_spec` variable defined above (look at the `key` for each entry)."
   ]
  },
  {
   "cell_type": "code",
   "execution_count": 6,
   "metadata": {
    "pycharm": {
     "name": "#%%\n"
    }
   },
   "outputs": [
    {
     "data": {
      "text/plain": [
       "{'fastq': 's3://z-9a31492a-e679-43ce-9f06-d84213c8f7f7/datasets/de2dda9a-c103-4841-ae46-b2df74390f90/data/controls/MO_Brunello_gDNA_1.fastq.gz,s3://z-9a31492a-e679-43ce-9f06-d84213c8f7f7/datasets/de2dda9a-c103-4841-ae46-b2df74390f90/data/controls/MO_Brunello_gDNA_2.fastq.gz',\n",
       " 'adapter': 'CTTGTGGAAAGGACGAAACACCG',\n",
       " 'insert_length': 20,\n",
       " 'library': 's3://z-9a31492a-e679-43ce-9f06-d84213c8f7f7/resources/data/references/crispr_libraries/BroadGPP-Brunello/library.csv'}"
      ]
     },
     "execution_count": 6,
     "metadata": {},
     "output_type": "execute_result"
    }
   ],
   "source": [
    "params = {\n",
    "    'fastq': ','.join([f.absolute_path for f in fastqs]),\n",
    "    \"adapter\": \"CTTGTGGAAAGGACGAAACACCG\",\n",
    "    \"insert_length\": 20,\n",
    "    \"library\": reference_library.absolute_path\n",
    "}\n",
    "params"
   ]
  },
  {
   "cell_type": "markdown",
   "metadata": {
    "pycharm": {
     "name": "#%% md\n"
    }
   },
   "source": [
    "Before submitting the analysis, the client automatically validates that the parameters are valid.\n",
    "But, you can also validate them manually using `validate_params`"
   ]
  },
  {
   "cell_type": "code",
   "execution_count": 7,
   "metadata": {
    "pycharm": {
     "name": "#%%\n"
    }
   },
   "outputs": [
    {
     "name": "stdout",
     "output_type": "stream",
     "text": [
      "Parameter at $.library error: 1 is not of type 'string'\n"
     ]
    }
   ],
   "source": [
    "try:\n",
    "    param_spec.validate_params({\n",
    "        'library': 1\n",
    "    })\n",
    "except Exception as e:\n",
    "    print(e)"
   ]
  },
  {
   "cell_type": "markdown",
   "metadata": {},
   "source": [
    "Run the analysis using the process, dataset, project, and parameters you defined above."
   ]
  },
  {
   "cell_type": "code",
   "execution_count": 8,
   "metadata": {
    "pycharm": {
     "name": "#%%\n"
    }
   },
   "outputs": [
    {
     "name": "stdout",
     "output_type": "stream",
     "text": [
      "c0463121-94fc-4077-8475-1e9432069f35\n"
     ]
    }
   ],
   "source": [
    "# Run the analysis, specifying a name and description for the resulting dataset\n",
    "new_dataset_id = dataset.run_analysis(\n",
    "    name='count analysis',\n",
    "    description='test from SDK',\n",
    "    process='MAGeCK Count',\n",
    "    params=params\n",
    ")\n",
    "print(new_dataset_id)"
   ]
  }
 ],
 "metadata": {
  "kernelspec": {
   "display_name": "Python 3 (ipykernel)",
   "language": "python",
   "name": "python3"
  },
  "language_info": {
   "codemirror_mode": {
    "name": "ipython",
    "version": 3
   },
   "file_extension": ".py",
   "mimetype": "text/x-python",
   "name": "python",
   "nbconvert_exporter": "python",
   "pygments_lexer": "ipython3",
   "version": "3.9.12"
  },
  "vscode": {
   "interpreter": {
    "hash": "aee8b7b246df8f9039afb4144a1f6fd8d2ca17a180786b69acc140d282b71a49"
   }
  }
 },
 "nbformat": 4,
 "nbformat_minor": 1
}
