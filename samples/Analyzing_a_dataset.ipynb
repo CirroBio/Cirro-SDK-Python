{
 "cells": [
  {
   "cell_type": "markdown",
   "metadata": {
    "pycharm": {
     "name": "#%% md\n"
    }
   },
   "source": [
    "## Running analysis on a dataset"
   ]
  },
  {
   "cell_type": "code",
   "execution_count": 1,
   "metadata": {
    "pycharm": {
     "name": "#%%\n"
    }
   },
   "outputs": [],
   "source": [
    "from pubweb import PubWeb\n",
    "\n",
    "client = PubWeb()"
   ]
  },
  {
   "cell_type": "code",
   "execution_count": 2,
   "metadata": {
    "pycharm": {
     "name": "#%%\n"
    }
   },
   "outputs": [],
   "source": [
    "project = client.project.find_by_name('Test Project') \n",
    "datasets = client.dataset.find_by_project(project_id=project.id, name='Test data for CRISPR MAGeCK')\n",
    "dataset = datasets[0]\n",
    "\n",
    "process = client.process.find_by_name('MAGeCK Count')"
   ]
  },
  {
   "cell_type": "markdown",
   "metadata": {
    "pycharm": {
     "name": "#%% md\n"
    }
   },
   "source": [
    "Look up the parameters that are required for the process. You'll have to set values for these parameters later."
   ]
  },
  {
   "cell_type": "code",
   "execution_count": 3,
   "metadata": {
    "pycharm": {
     "name": "#%%\n"
    }
   },
   "outputs": [
    {
     "name": "stdout",
     "output_type": "stream",
     "text": [
      "Parameters:\n",
      "\tFASTQ (key=fastq, type=string)\n",
      "\tLibrary (key=library, type=string)\n",
      "\t5' Adapter (key=adapter, default=CTTGTGGAAAGGACGAAACACCG, type=string, description=Adapter sequence to be trimmed from the 5' end of each read)\n",
      "\tInsert Length (key=insert_length, default=20, type=integer, description=Length of the sgRNA sequences contained in each read)\n"
     ]
    }
   ],
   "source": [
    "param_spec = client.process.get_parameter_spec(process.id)\n",
    "param_spec.print()"
   ]
  },
  {
   "cell_type": "markdown",
   "metadata": {
    "pycharm": {
     "name": "#%% md\n"
    }
   },
   "source": [
    "Look up the references you'll need to use as input parameters. See the [Using_references](Using_references.ipynb) notebook for more info on how to find references"
   ]
  },
  {
   "cell_type": "code",
   "execution_count": 4,
   "metadata": {
    "pycharm": {
     "name": "#%%\n"
    }
   },
   "outputs": [
    {
     "data": {
      "text/plain": [
       "Reference(path=data/references/crispr_libraries/BroadGPP-Brunello/library.csv)"
      ]
     },
     "execution_count": 4,
     "metadata": {},
     "output_type": "execute_result"
    }
   ],
   "source": [
    "references = client.project.get_references(project.id, 'crispr_libraries')\n",
    "reference_library = references.find_by_name('BroadGPP-Brunello')\n",
    "reference_library"
   ]
  },
  {
   "cell_type": "markdown",
   "metadata": {},
   "source": [
    "Look up some files you'll need to use as input parameters"
   ]
  },
  {
   "cell_type": "code",
   "execution_count": 5,
   "metadata": {
    "pycharm": {
     "name": "#%%\n"
    }
   },
   "outputs": [
    {
     "data": {
      "text/plain": [
       "[File(path=data/controls/MO_Brunello_gDNA_1.fastq.gz),\n",
       " File(path=data/controls/MO_Brunello_gDNA_2.fastq.gz)]"
      ]
     },
     "execution_count": 5,
     "metadata": {},
     "output_type": "execute_result"
    }
   ],
   "source": [
    "from pubweb.file_utils import filter_files_by_pattern\n",
    "\n",
    "files = client.dataset.get_dataset_files(project_id=project.id,\n",
    "                                         dataset_id=dataset.id)\n",
    "fastqs = filter_files_by_pattern(files, '**/controls/*.fastq.gz')\n",
    "fastqs"
   ]
  },
  {
   "cell_type": "markdown",
   "metadata": {},
   "source": [
    "Define the parameters you want to use. The keys you'll want to use will come from the `param_spec` variable defined above (look at the `key` for each entry)."
   ]
  },
  {
   "cell_type": "code",
   "execution_count": 6,
   "metadata": {
    "pycharm": {
     "name": "#%%\n"
    }
   },
   "outputs": [
    {
     "data": {
      "text/plain": [
       "{'fastq': 's3://z-9a31492a-e679-43ce-9f06-d84213c8f7f7/datasets/de2dda9a-c103-4841-ae46-b2df74390f90/data/controls/MO_Brunello_gDNA_1.fastq.gz,s3://z-9a31492a-e679-43ce-9f06-d84213c8f7f7/datasets/de2dda9a-c103-4841-ae46-b2df74390f90/data/controls/MO_Brunello_gDNA_2.fastq.gz',\n",
       " 'adapter': 'CTTGTGGAAAGGACGAAACACCG',\n",
       " 'insert_length': 20,\n",
       " 'library': 's3://z-9a31492a-e679-43ce-9f06-d84213c8f7f7/resources/data/references/crispr_libraries/BroadGPP-Brunello/library.csv'}"
      ]
     },
     "execution_count": 6,
     "metadata": {},
     "output_type": "execute_result"
    }
   ],
   "source": [
    "from pubweb.models.process import RunAnalysisCommand\n",
    "\n",
    "params = {\n",
    "    'fastq': ','.join([f.absolute_path for f in fastqs]),\n",
    "    \"adapter\": \"CTTGTGGAAAGGACGAAACACCG\",\n",
    "    \"insert_length\": 20,\n",
    "    \"library\": reference_library.absolute_path\n",
    "}\n",
    "params"
   ]
  },
  {
   "cell_type": "markdown",
   "metadata": {
    "pycharm": {
     "name": "#%% md\n"
    }
   },
   "source": [
    "Before submitting the analysis, the client automatically validates that the parameters are valid.\n",
    "But, you can also validate them manually using `validate_params`"
   ]
  },
  {
   "cell_type": "code",
   "execution_count": 7,
   "metadata": {
    "pycharm": {
     "name": "#%%\n"
    }
   },
   "outputs": [
    {
     "name": "stdout",
     "output_type": "stream",
     "text": [
      "Parameter at $.library error: 1 is not of type 'string'\n"
     ]
    }
   ],
   "source": [
    "try:\n",
    "    param_spec.validate_params({\n",
    "        'library': 1\n",
    "    })\n",
    "except Exception as e:\n",
    "    print(e)"
   ]
  },
  {
   "cell_type": "markdown",
   "metadata": {},
   "source": [
    "Run the analysis using the process, dataset, project, and parameters you defined above."
   ]
  },
  {
   "cell_type": "code",
   "execution_count": 8,
   "metadata": {
    "pycharm": {
     "name": "#%%\n"
    }
   },
   "outputs": [
    {
     "name": "stdout",
     "output_type": "stream",
     "text": [
      "9943abf5-561f-45f1-99ef-f5316fd861c2\n"
     ]
    }
   ],
   "source": [
    "command = RunAnalysisCommand(\n",
    "    name='count analysis',\n",
    "    description='test from SDK',\n",
    "    process_id=process.id,\n",
    "    parent_dataset_id=dataset.id,\n",
    "    project_id=project.id,\n",
    "    params=params,\n",
    "    notifications_emails=[]\n",
    ")\n",
    "\n",
    "new_dataset_id = client.process.run_analysis(command)\n",
    "print(new_dataset_id)"
   ]
  }
 ],
 "metadata": {
  "kernelspec": {
   "display_name": "Python 3 (ipykernel)",
   "language": "python",
   "name": "python3"
  },
  "language_info": {
   "codemirror_mode": {
    "name": "ipython",
    "version": 3
   },
   "file_extension": ".py",
   "mimetype": "text/x-python",
   "name": "python",
   "nbconvert_exporter": "python",
   "pygments_lexer": "ipython3",
   "version": "3.9.12"
  }
 },
 "nbformat": 4,
 "nbformat_minor": 1
}
