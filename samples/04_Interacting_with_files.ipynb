{
 "cells": [
  {
   "cell_type": "markdown",
   "source": [
    "## Interacting with files"
   ],
   "metadata": {
    "collapsed": false,
    "pycharm": {
     "name": "#%% md\n"
    }
   }
  },
  {
   "cell_type": "code",
   "execution_count": 1,
   "outputs": [],
   "source": [
    "from pubweb import PubWeb\n",
    "from pubweb.auth import UsernameAndPasswordAuth\n",
    "from pubweb.config import load_config\n",
    "\n",
    "client = PubWeb(auth_info=UsernameAndPasswordAuth(*load_config()))"
   ],
   "metadata": {
    "collapsed": false,
    "pycharm": {
     "name": "#%%\n"
    }
   }
  },
  {
   "cell_type": "code",
   "execution_count": 2,
   "outputs": [],
   "source": [
    "project_id = '9a31492a-e679-43ce-9f06-d84213c8f7f7'\n",
    "dataset_id = '0394e754-f3aa-4fbe-8ba8-3bf18809ca5c'\n",
    "\n",
    "files = client.dataset.get_dataset_files(project_id=project_id,\n",
    "                                         dataset_id=dataset_id)"
   ],
   "metadata": {
    "collapsed": false,
    "pycharm": {
     "name": "#%%\n"
    }
   }
  },
  {
   "cell_type": "code",
   "execution_count": 11,
   "outputs": [],
   "source": [
    "from pubweb.file_utils import filter_files_by_pattern\n",
    "\n",
    "counts_file = next((f for f in files if f.name == 'counts.txt'))\n",
    "# You can also use the filter files function\n",
    "counts_file = filter_files_by_pattern(files, '**/counts.txt')[0]\n",
    "counts_file"
   ],
   "metadata": {
    "collapsed": false,
    "pycharm": {
     "name": "#%%\n"
    }
   }
  },
  {
   "cell_type": "markdown",
   "source": [
    "If you don't already have access to the file, you must use the file service to get the file contents as a string."
   ],
   "metadata": {
    "collapsed": false,
    "pycharm": {
     "name": "#%% md\n"
    }
   }
  },
  {
   "cell_type": "code",
   "execution_count": 13,
   "outputs": [],
   "source": [
    "from pubweb.models.file import FileAccessContext\n",
    "\n",
    "access_context = FileAccessContext.download_dataset(dataset_id=dataset_id,\n",
    "                                                    project_id=project_id)\n",
    "counts = client.file.get_file(access_context=access_context,\n",
    "                              file_path=counts_file.relative_path)"
   ],
   "metadata": {
    "collapsed": false,
    "pycharm": {
     "name": "#%%\n"
    }
   }
  },
  {
   "cell_type": "markdown",
   "source": [
    "From here you can load it into a dataframe by wrapping it in `StringIO`"
   ],
   "metadata": {
    "collapsed": false,
    "pycharm": {
     "name": "#%% md\n"
    }
   }
  },
  {
   "cell_type": "code",
   "execution_count": 17,
   "outputs": [
    {
     "data": {
      "text/plain": "        sgRNA  Gene  MO_Brunello_gDNA_2  MO_Brunello_1  MO_Brunello_2  \\\n0      A1BG_0  A1BG                   0              0              0   \n1      A1BG_1  A1BG                   0              0              0   \n2      A1BG_2  A1BG                   0              0              0   \n3      A1BG_3  A1BG                   0              0              2   \n4  A1CF_36946  A1CF                   0              0              0   \n\n   MO_Brunello_gDNA_1  \n0                   0  \n1                   2  \n2                   0  \n3                   0  \n4                   0  ",
      "text/html": "<div>\n<style scoped>\n    .dataframe tbody tr th:only-of-type {\n        vertical-align: middle;\n    }\n\n    .dataframe tbody tr th {\n        vertical-align: top;\n    }\n\n    .dataframe thead th {\n        text-align: right;\n    }\n</style>\n<table border=\"1\" class=\"dataframe\">\n  <thead>\n    <tr style=\"text-align: right;\">\n      <th></th>\n      <th>sgRNA</th>\n      <th>Gene</th>\n      <th>MO_Brunello_gDNA_2</th>\n      <th>MO_Brunello_1</th>\n      <th>MO_Brunello_2</th>\n      <th>MO_Brunello_gDNA_1</th>\n    </tr>\n  </thead>\n  <tbody>\n    <tr>\n      <th>0</th>\n      <td>A1BG_0</td>\n      <td>A1BG</td>\n      <td>0</td>\n      <td>0</td>\n      <td>0</td>\n      <td>0</td>\n    </tr>\n    <tr>\n      <th>1</th>\n      <td>A1BG_1</td>\n      <td>A1BG</td>\n      <td>0</td>\n      <td>0</td>\n      <td>0</td>\n      <td>2</td>\n    </tr>\n    <tr>\n      <th>2</th>\n      <td>A1BG_2</td>\n      <td>A1BG</td>\n      <td>0</td>\n      <td>0</td>\n      <td>0</td>\n      <td>0</td>\n    </tr>\n    <tr>\n      <th>3</th>\n      <td>A1BG_3</td>\n      <td>A1BG</td>\n      <td>0</td>\n      <td>0</td>\n      <td>2</td>\n      <td>0</td>\n    </tr>\n    <tr>\n      <th>4</th>\n      <td>A1CF_36946</td>\n      <td>A1CF</td>\n      <td>0</td>\n      <td>0</td>\n      <td>0</td>\n      <td>0</td>\n    </tr>\n  </tbody>\n</table>\n</div>"
     },
     "execution_count": 17,
     "metadata": {},
     "output_type": "execute_result"
    }
   ],
   "source": [
    "import pandas as pd\n",
    "from io import StringIO\n",
    "\n",
    "df = pd.read_csv(StringIO(counts), sep='\\t')\n",
    "df.head()"
   ],
   "metadata": {
    "collapsed": false,
    "pycharm": {
     "name": "#%%\n"
    }
   }
  },
  {
   "cell_type": "markdown",
   "source": [
    "If you already have IAM access to the file location, you can just feed the absolute path into `read_csv` directly.\n",
    "\n",
    "Note that you must also have the package `s3fs` installed."
   ],
   "metadata": {
    "collapsed": false,
    "pycharm": {
     "name": "#%% md\n"
    }
   }
  },
  {
   "cell_type": "code",
   "execution_count": 18,
   "outputs": [
    {
     "data": {
      "text/plain": "        sgRNA  Gene  MO_Brunello_gDNA_2  MO_Brunello_1  MO_Brunello_2  \\\n0      A1BG_0  A1BG                   0              0              0   \n1      A1BG_1  A1BG                   0              0              0   \n2      A1BG_2  A1BG                   0              0              0   \n3      A1BG_3  A1BG                   0              0              2   \n4  A1CF_36946  A1CF                   0              0              0   \n\n   MO_Brunello_gDNA_1  \n0                   0  \n1                   2  \n2                   0  \n3                   0  \n4                   0  ",
      "text/html": "<div>\n<style scoped>\n    .dataframe tbody tr th:only-of-type {\n        vertical-align: middle;\n    }\n\n    .dataframe tbody tr th {\n        vertical-align: top;\n    }\n\n    .dataframe thead th {\n        text-align: right;\n    }\n</style>\n<table border=\"1\" class=\"dataframe\">\n  <thead>\n    <tr style=\"text-align: right;\">\n      <th></th>\n      <th>sgRNA</th>\n      <th>Gene</th>\n      <th>MO_Brunello_gDNA_2</th>\n      <th>MO_Brunello_1</th>\n      <th>MO_Brunello_2</th>\n      <th>MO_Brunello_gDNA_1</th>\n    </tr>\n  </thead>\n  <tbody>\n    <tr>\n      <th>0</th>\n      <td>A1BG_0</td>\n      <td>A1BG</td>\n      <td>0</td>\n      <td>0</td>\n      <td>0</td>\n      <td>0</td>\n    </tr>\n    <tr>\n      <th>1</th>\n      <td>A1BG_1</td>\n      <td>A1BG</td>\n      <td>0</td>\n      <td>0</td>\n      <td>0</td>\n      <td>2</td>\n    </tr>\n    <tr>\n      <th>2</th>\n      <td>A1BG_2</td>\n      <td>A1BG</td>\n      <td>0</td>\n      <td>0</td>\n      <td>0</td>\n      <td>0</td>\n    </tr>\n    <tr>\n      <th>3</th>\n      <td>A1BG_3</td>\n      <td>A1BG</td>\n      <td>0</td>\n      <td>0</td>\n      <td>2</td>\n      <td>0</td>\n    </tr>\n    <tr>\n      <th>4</th>\n      <td>A1CF_36946</td>\n      <td>A1CF</td>\n      <td>0</td>\n      <td>0</td>\n      <td>0</td>\n      <td>0</td>\n    </tr>\n  </tbody>\n</table>\n</div>"
     },
     "execution_count": 18,
     "metadata": {},
     "output_type": "execute_result"
    }
   ],
   "source": [
    "df = pd.read_csv(counts_file.absolute_path, sep='\\t')\n",
    "df.head()"
   ],
   "metadata": {
    "collapsed": false,
    "pycharm": {
     "name": "#%%\n"
    }
   }
  }
 ],
 "metadata": {
  "kernelspec": {
   "display_name": "Python 3",
   "language": "python",
   "name": "python3"
  },
  "language_info": {
   "codemirror_mode": {
    "name": "ipython",
    "version": 2
   },
   "file_extension": ".py",
   "mimetype": "text/x-python",
   "name": "python",
   "nbconvert_exporter": "python",
   "pygments_lexer": "ipython2",
   "version": "2.7.6"
  }
 },
 "nbformat": 4,
 "nbformat_minor": 0
}