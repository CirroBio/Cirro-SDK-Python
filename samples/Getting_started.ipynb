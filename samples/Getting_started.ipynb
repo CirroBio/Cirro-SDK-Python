{
 "cells": [
  {
   "cell_type": "markdown",
   "metadata": {
    "pycharm": {
     "name": "#%% md\n"
    }
   },
   "source": [
    "## Getting Started with the PubWeb client library"
   ]
  },
  {
   "cell_type": "markdown",
   "metadata": {
    "pycharm": {
     "name": "#%% md\n"
    }
   },
   "source": [
    "### Install\n",
    "\n",
    "You can install the PubWeb client library by running the following\n",
    "\n",
    "`pip install pubweb`\n",
    "\n",
    "or\n",
    "\n",
    "`pip install -f https://github.com/FredHutch/pubweb-client pubweb`"
   ]
  },
  {
   "cell_type": "markdown",
   "metadata": {
    "pycharm": {
     "name": "#%% md\n"
    }
   },
   "source": [
    "### Authenticating with your Data Portal log in\n",
    "\n",
    "Before you use the Pubweb CLI, you will need to authenticate yourself. You can do this by running the command below. If the package cannot already find your information (i.e. you or your machine do not have credentials already saved), then this command it will give you a link to log in through a browser window, the same way you would log into the Data Portal website."
   ]
  },
  {
   "cell_type": "code",
   "execution_count": 1,
   "metadata": {
    "pycharm": {
     "name": "#%%\n"
    }
   },
   "outputs": [],
   "source": [
    "from pubweb.helpers import DataPortal\n",
    "\n",
    "portal = DataPortal()"
   ]
  },
  {
   "cell_type": "markdown",
   "metadata": {
    "pycharm": {
     "name": "#%% md\n"
    }
   },
   "source": [
    "### Authenticating with AWS\n",
    "\n",
    "If you already have AWS credentials to access PubWeb, you can also authenticate with IAM."
   ]
  },
  {
   "cell_type": "code",
   "execution_count": 2,
   "metadata": {
    "pycharm": {
     "name": "#%%\n"
    }
   },
   "outputs": [],
   "source": [
    "from pubweb import PubWeb\n",
    "from pubweb.auth import IAMAuth\n",
    "\n",
    "client = PubWeb(auth_info=IAMAuth.load_current())"
   ]
  },
  {
   "cell_type": "markdown",
   "metadata": {
    "pycharm": {
     "name": "#%% md\n"
    }
   },
   "source": [
    "### After you've authenticated, you will automatically be connected\n",
    "From now on, you can use the PubWeb instance without needing to log in again."
   ]
  },
  {
   "cell_type": "code",
   "execution_count": null,
   "metadata": {
    "pycharm": {
     "name": "#%%\n"
    }
   },
   "outputs": [],
   "source": [
    "portal = DataPortal(client)"
   ]
  }
 ],
 "metadata": {
  "kernelspec": {
   "display_name": "Python 3 (ipykernel)",
   "language": "python",
   "name": "python3"
  },
  "language_info": {
   "codemirror_mode": {
    "name": "ipython",
    "version": 3
   },
   "file_extension": ".py",
   "mimetype": "text/x-python",
   "name": "python",
   "nbconvert_exporter": "python",
   "pygments_lexer": "ipython3",
   "version": "3.9.12"
  }
 },
 "nbformat": 4,
 "nbformat_minor": 1
}
