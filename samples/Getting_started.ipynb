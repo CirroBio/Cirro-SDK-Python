{
 "cells": [
  {
   "cell_type": "markdown",
   "metadata": {
    "pycharm": {
     "name": "#%% md\n"
    }
   },
   "source": [
    "## Getting Started with the Cirro client library"
   ]
  },
  {
   "cell_type": "markdown",
   "metadata": {
    "pycharm": {
     "name": "#%% md\n"
    }
   },
   "source": [
    "### Install\n",
    "\n",
    "You can install the Cirro client library by running the following\n",
    "\n",
    "`pip install cirro`\n",
    "\n",
    "or\n",
    "\n",
    "`pip install -f https://github.com/CirroBio/Cirro-client cirro`"
   ]
  },
  {
   "cell_type": "markdown",
   "metadata": {
    "pycharm": {
     "name": "#%% md\n"
    }
   },
   "source": [
    "### Authenticating with Cirro\n",
    "\n",
    "Before you use the Cirro CLI, you will need to authenticate yourself. You can do this by running the command below. If the package cannot already find your information (i.e., you do not have credentials already saved), then this command will give you a link to log in through a browser window, the same way you would log into the Data Portal website.\n",
    "\n",
    "You will also need to set the base URL of the Cirro instance you wish to access. To find it, log in to Cirro and check the URL in your browser.\n",
    "Please run `cirro configure`, set the `CIRRO_BASE_URL` environment variable, or provide the `base_url` parameter when instantiating the `DataPortal` class.\n",
    "\n"
   ]
  },
  {
   "cell_type": "code",
   "execution_count": 1,
   "metadata": {
    "pycharm": {
     "name": "#%%\n"
    }
   },
   "outputs": [],
   "source": [
    "from cirro import DataPortal\n",
    "\n",
    "portal = DataPortal(base_url='app.cirro.bio')"
   ]
  },
  {
   "cell_type": "markdown",
   "metadata": {},
   "source": [
    "That's it! You're now ready to start accessing the Data Portal directly"
   ]
  },
  {
   "cell_type": "code",
   "execution_count": null,
   "metadata": {},
   "outputs": [],
   "source": []
  }
 ],
 "metadata": {
  "kernelspec": {
   "display_name": "Python 3 (ipykernel)",
   "language": "python",
   "name": "python3"
  },
  "language_info": {
   "codemirror_mode": {
    "name": "ipython",
    "version": 3
   },
   "file_extension": ".py",
   "mimetype": "text/x-python",
   "name": "python",
   "nbconvert_exporter": "python",
   "pygments_lexer": "ipython3",
   "version": "3.9.12"
  }
 },
 "nbformat": 4,
 "nbformat_minor": 1
}
