{
 "cells": [
  {
   "cell_type": "markdown",
   "source": [
    "## Using the PubWeb client library in Python"
   ],
   "metadata": {
    "collapsed": false,
    "pycharm": {
     "name": "#%% md\n"
    }
   }
  },
  {
   "cell_type": "markdown",
   "source": [
    "### Install\n",
    "\n",
    "You can install the PubWeb client library by running the following\n",
    "\n",
    "`pip install pubweb`\n",
    "\n",
    "or\n",
    "\n",
    "`pip install -f https://github.com/FredHutch/pubweb pubweb`"
   ],
   "metadata": {
    "collapsed": false,
    "pycharm": {
     "name": "#%% md\n"
    }
   }
  },
  {
   "cell_type": "markdown",
   "source": [
    "### Authenticating\n",
    "\n",
    "Before you authenticate, you must have a separate user account created for you.\n"
   ],
   "metadata": {
    "collapsed": false,
    "pycharm": {
     "name": "#%% md\n"
    }
   }
  },
  {
   "cell_type": "code",
   "execution_count": null,
   "outputs": [],
   "source": [
    "from pubweb import PubWeb\n",
    "from pubweb.auth import UsernameAndPasswordAuth\n",
    "\n",
    "client = PubWeb(auth_info=UsernameAndPasswordAuth(\"<username>\", \"<password>\"))"
   ],
   "metadata": {
    "collapsed": false,
    "pycharm": {
     "name": "#%%\n"
    }
   }
  },
  {
   "cell_type": "markdown",
   "source": [
    "If you already have AWS credentials to access PubWeb, you can authenticate with IAM."
   ],
   "metadata": {
    "collapsed": false,
    "pycharm": {
     "name": "#%% md\n"
    }
   }
  },
  {
   "cell_type": "code",
   "execution_count": 6,
   "outputs": [],
   "source": [
    "from pubweb import PubWeb\n",
    "from pubweb.auth import IAMAuth\n",
    "\n",
    "client = PubWeb(auth_info=IAMAuth.load_current())"
   ],
   "metadata": {
    "collapsed": false,
    "pycharm": {
     "name": "#%%\n"
    }
   }
  }
 ],
 "metadata": {
  "kernelspec": {
   "display_name": "Python 3",
   "language": "python",
   "name": "python3"
  },
  "language_info": {
   "codemirror_mode": {
    "name": "ipython",
    "version": 2
   },
   "file_extension": ".py",
   "mimetype": "text/x-python",
   "name": "python",
   "nbconvert_exporter": "python",
   "pygments_lexer": "ipython2",
   "version": "2.7.6"
  }
 },
 "nbformat": 4,
 "nbformat_minor": 0
}