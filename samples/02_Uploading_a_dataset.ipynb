{
 "cells": [
  {
   "cell_type": "markdown",
   "source": [
    "## Uploading a dataset"
   ],
   "metadata": {
    "collapsed": false,
    "pycharm": {
     "name": "#%% md\n"
    }
   }
  },
  {
   "cell_type": "code",
   "execution_count": 1,
   "outputs": [],
   "source": [
    "from pubweb import PubWeb\n",
    "\n",
    "client = PubWeb()"
   ],
   "metadata": {
    "collapsed": false,
    "pycharm": {
     "name": "#%%\n"
    }
   }
  },
  {
   "cell_type": "markdown",
   "source": [
    "View a list of projects and processes to get the correct ID\n",
    "You can also find the project ID by looking at the URL on the data portal"
   ],
   "metadata": {
    "collapsed": false,
    "pycharm": {
     "name": "#%% md\n"
    }
   }
  },
  {
   "cell_type": "code",
   "execution_count": 2,
   "outputs": [
    {
     "data": {
      "text/plain": "Project(id='5d747907-7d2a-4562-bcd3-bb4563ae861e', name='Single Cell', description='Public Datasets')"
     },
     "execution_count": 2,
     "metadata": {},
     "output_type": "execute_result"
    }
   ],
   "source": [
    "projects = client.project.list()\n",
    "project = projects[0]\n",
    "project"
   ],
   "metadata": {
    "collapsed": false,
    "pycharm": {
     "name": "#%%\n"
    }
   }
  },
  {
   "cell_type": "code",
   "execution_count": 3,
   "outputs": [
    {
     "data": {
      "text/plain": "{'id': 'sequencing-run',\n 'name': 'Illumina Sequencing Run',\n 'desc': 'Illumina Sequencing Run Data (Metrics)',\n '_deleted': None}"
     },
     "execution_count": 3,
     "metadata": {},
     "output_type": "execute_result"
    }
   ],
   "source": [
    "from pubweb.models.process import Executor\n",
    "\n",
    "ingest_processes = client.process.list(Executor.INGEST)\n",
    "process = ingest_processes[1]\n",
    "process"
   ],
   "metadata": {
    "collapsed": false,
    "pycharm": {
     "name": "#%%\n"
    }
   }
  },
  {
   "cell_type": "markdown",
   "source": [
    "We've included two helper functions to get a list of files in the specified directory and filter them.\n",
    "\n",
    "You can also manually create the list of files (using the relative paths)"
   ],
   "metadata": {
    "collapsed": false,
    "pycharm": {
     "name": "#%% md\n"
    }
   }
  },
  {
   "cell_type": "code",
   "execution_count": 4,
   "outputs": [
    {
     "data": {
      "text/plain": "['test2_R1.fastq.gz',\n 'test2_R2.fastq.gz',\n 'test_R1.fastq.gz',\n 'test_R2.fastq.gz']"
     },
     "execution_count": 4,
     "metadata": {},
     "output_type": "execute_result"
    }
   ],
   "source": [
    "from pubweb.file_utils import get_files_in_directory, filter_files_by_pattern\n",
    "\n",
    "directory_to_upload = '/test'\n",
    "\n",
    "files = get_files_in_directory(directory_to_upload)\n",
    "files_to_upload = filter_files_by_pattern(files, '*.fastq.gz')\n",
    "files_to_upload"
   ],
   "metadata": {
    "collapsed": false,
    "pycharm": {
     "name": "#%%\n"
    }
   }
  },
  {
   "cell_type": "code",
   "execution_count": 5,
   "outputs": [
    {
     "name": "stderr",
     "output_type": "stream",
     "text": [
      "Uploading file test2_R1.fastq.gz (1.00 B) | 100.0%|█████████████████████████ | 3.57B/s\n",
      "Uploading file test2_R2.fastq.gz (1.00 B) | 100.0%|█████████████████████████ | 12.7B/s\n",
      "Uploading file test_R1.fastq.gz (1.00 B) | 100.0%|█████████████████████████ | 16.1B/s\n",
      "Uploading file test_R2.fastq.gz (1.00 B) | 100.0%|█████████████████████████ | 8.98B/s\n"
     ]
    },
    {
     "data": {
      "text/plain": "'145100fb-5c65-415c-8613-6e5eec3d9d82'"
     },
     "execution_count": 5,
     "metadata": {},
     "output_type": "execute_result"
    }
   ],
   "source": [
    "from pubweb.models.dataset import CreateIngestDatasetInput\n",
    "\n",
    "dataset_create_request = CreateIngestDatasetInput(\n",
    "    project_id=project.id,\n",
    "    process_id=process['id'],\n",
    "    name='Test dataset',\n",
    "    description='',\n",
    "    files=files_to_upload\n",
    ")\n",
    "\n",
    "create_response = client.dataset.create(dataset_create_request)\n",
    "\n",
    "client.dataset.upload_files(\n",
    "    project_id=project.id,\n",
    "    dataset_id=create_response['datasetId'],\n",
    "    directory=directory_to_upload,\n",
    "    files=dataset_create_request.files\n",
    ")\n",
    "\n",
    "create_response['datasetId']"
   ],
   "metadata": {
    "collapsed": false,
    "pycharm": {
     "name": "#%%\n"
    }
   }
  }
 ],
 "metadata": {
  "kernelspec": {
   "display_name": "Python 3",
   "language": "python",
   "name": "python3"
  },
  "language_info": {
   "codemirror_mode": {
    "name": "ipython",
    "version": 2
   },
   "file_extension": ".py",
   "mimetype": "text/x-python",
   "name": "python",
   "nbconvert_exporter": "python",
   "pygments_lexer": "ipython2",
   "version": "2.7.6"
  }
 },
 "nbformat": 4,
 "nbformat_minor": 0
}