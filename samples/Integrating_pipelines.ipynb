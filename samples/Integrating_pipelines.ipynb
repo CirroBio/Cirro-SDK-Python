{
 "cells": [
  {
   "metadata": {},
   "cell_type": "markdown",
   "source": [
    "There are some helper functions that you can use to help integrate your pipeline (or data type) into Cirro.\n",
    "\n",
    "These include:\n",
    "- File validation rules / sample matching pattern testing\n",
    "- Cirro Preprocess script & sample metadata outputs (used for preparing sample sheets for your pipeline)\n",
    "\n",
    "### File validation rules / sample matching pattern testing"
   ],
   "id": "43f739e9565104f1"
  },
  {
   "metadata": {
    "ExecuteTime": {
     "end_time": "2025-08-05T14:46:27.919409Z",
     "start_time": "2025-08-05T14:46:26.402222Z"
    }
   },
   "cell_type": "code",
   "source": [
    "from cirro import DataPortal\n",
    "\n",
    "portal = DataPortal()\n",
    "helper = portal.developer_helper"
   ],
   "id": "cfe36bf7a9147e78",
   "outputs": [],
   "execution_count": 1
  },
  {
   "metadata": {},
   "cell_type": "markdown",
   "source": "First we need to get a dataset to test against.",
   "id": "73080797b8cbb6b5"
  },
  {
   "cell_type": "code",
   "id": "initial_id",
   "metadata": {
    "collapsed": true,
    "ExecuteTime": {
     "end_time": "2025-08-05T14:46:29.081637Z",
     "start_time": "2025-08-05T14:46:28.077103Z"
    }
   },
   "source": [
    "dataset = portal.get_dataset(\n",
    "    project=\"Pipeline Development\",\n",
    "    dataset=\"Short reads for hybrid assembly 2\"\n",
    ")\n",
    "files = dataset.list_files()\n",
    "print(files)"
   ],
   "outputs": [
    {
     "name": "stdout",
     "output_type": "stream",
     "text": [
      "data/4263-B_S31_R1_001.fastq.gz (842.28 MB)\n",
      "data/4263-B_S31_R2_001.fastq.gz (808.39 MB)\n"
     ]
    }
   ],
   "execution_count": 2
  },
  {
   "metadata": {},
   "cell_type": "markdown",
   "source": [
    "We can see that the dataset has two files. We want to write a regex that will extract the sample name from the file names (4263-B).\n",
    "\n",
    "Developing a regex can be tricky, [Pythex.org](https://pythex.org/) is a great resource for the regex development since it has a cheat sheet. AI tools are also great for generating regex patterns, but you should always test them to ensure they work as expected.\n",
    "\n",
    "Name patterns are evaluated in order, so you should put the most specific patterns first."
   ],
   "id": "fe2aa7fb1d56f699"
  },
  {
   "metadata": {
    "ExecuteTime": {
     "end_time": "2025-08-05T14:46:29.342997Z",
     "start_time": "2025-08-05T14:46:29.092376Z"
    }
   },
   "cell_type": "code",
   "source": [
    "file_name_patterns = [\n",
    "    # Illumina format with no lane information\n",
    "    # Backslashes are escaped with a double backslash, which you would omit in the text field in Cirro\n",
    "    \"(?<sampleName>\\\\S*)_S(?<libraryIndex>\\\\S*)_(?<readType>R|I)(?<read>1|2|3|4)_001\\\\.fastq\\\\.gz\",\n",
    "    # You can specify multiple patterns if there are different naming conventions\n",
    "    # Fall back to a more generic pattern if the above does not match\n",
    "    \"(?<sampleName>\\\\S*)\\\\.fastq\\\\.gz\"\n",
    "]\n",
    "\n",
    "matches = helper.test_file_name_validation_for_dataset(\n",
    "    project_id=dataset.project_id,\n",
    "    dataset_id=dataset.id,\n",
    "    file_name_patterns=file_name_patterns\n",
    ")\n",
    "\n",
    "matches.print()"
   ],
   "id": "8cbc7d7b55969195",
   "outputs": [
    {
     "name": "stdout",
     "output_type": "stream",
     "text": [
      "Matches: 2\n",
      "\n",
      "data/4263-B_S31_R1_001.fastq.gz\n",
      "Sample name: 4263-B\n",
      "Matched regex: (?<sampleName>\\S*)_S(?<libraryIndex>\\S*)_(?<readType>R|I)(?<read>1|2|3|4)_001\\.fastq\\.gz\n",
      "\n",
      "data/4263-B_S31_R2_001.fastq.gz\n",
      "Sample name: 4263-B\n",
      "Matched regex: (?<sampleName>\\S*)_S(?<libraryIndex>\\S*)_(?<readType>R|I)(?<read>1|2|3|4)_001\\.fastq\\.gz\n",
      "\n"
     ]
    }
   ],
   "execution_count": 3
  },
  {
   "metadata": {},
   "cell_type": "markdown",
   "source": [
    "We can see that it has validated and extracted the sample name from the pattern.\n",
    "We can now use this pattern when creating the pipeline or data type.\n",
    "\n",
    "You can also use the `test_file_name_validation` method if you do not have a dataset to test against. This will return a list of matches for the provided file names."
   ],
   "id": "f8bd0dbda4c05e4d"
  },
  {
   "metadata": {
    "ExecuteTime": {
     "end_time": "2025-08-05T14:46:29.419811Z",
     "start_time": "2025-08-05T14:46:29.357572Z"
    }
   },
   "cell_type": "code",
   "source": [
    "matches = helper.test_file_name_validation(\n",
    "    file_name_patterns=file_name_patterns,\n",
    "    file_names=[\n",
    "        \"4263-B_S1_R1_001.fastq.gz\",\n",
    "        \"4263-B_S1_R2_001.fastq.gz\"\n",
    "    ]\n",
    ")\n",
    "matches.print()\n"
   ],
   "id": "7c819550ae3e0e5c",
   "outputs": [
    {
     "name": "stdout",
     "output_type": "stream",
     "text": [
      "Matches: 2\n",
      "\n",
      "4263-B_S1_R1_001.fastq.gz\n",
      "Sample name: 4263-B\n",
      "Matched regex: (?<sampleName>\\S*)_S(?<libraryIndex>\\S*)_(?<readType>R|I)(?<read>1|2|3|4)_001\\.fastq\\.gz\n",
      "\n",
      "4263-B_S1_R2_001.fastq.gz\n",
      "Sample name: 4263-B\n",
      "Matched regex: (?<sampleName>\\S*)_S(?<libraryIndex>\\S*)_(?<readType>R|I)(?<read>1|2|3|4)_001\\.fastq\\.gz\n",
      "\n"
     ]
    }
   ],
   "execution_count": 4
  },
  {
   "metadata": {},
   "cell_type": "markdown",
   "source": [
    "### Preprocess testing (sample sheet generation)\n",
    "\n",
    "To generate the `PreprocessDataset` object using Cirro-provided sample sheets for your pipeline, you can use the `generate_preprocess_for_input_datasets` method.\n",
    "\n",
    "You can also use `generate_samplesheets_for_dataset` method if you want to access the sample sheets directly. This could be useful if you want to generate test data to write unit tests for your Preprocess script."
   ],
   "id": "21180079c48251f0"
  },
  {
   "metadata": {
    "ExecuteTime": {
     "end_time": "2025-08-05T15:02:11.648829Z",
     "start_time": "2025-08-05T15:02:10.493884Z"
    }
   },
   "cell_type": "code",
   "source": [
    "dataset = portal.get_dataset(\n",
    "    project=\"Pipeline Development\",\n",
    "    dataset=\"10X FLEX + CITEseq\"\n",
    ")"
   ],
   "id": "e9098ed8a36a8490",
   "outputs": [],
   "execution_count": 13
  },
  {
   "metadata": {
    "ExecuteTime": {
     "end_time": "2025-08-05T15:02:11.856716Z",
     "start_time": "2025-08-05T15:02:11.679338Z"
    }
   },
   "cell_type": "code",
   "source": [
    "ds = helper.generate_preprocess_for_input_datasets(\n",
    "    project_id=dataset.project_id,\n",
    "    input_dataset_ids=[dataset.id],\n",
    "    params={\n",
    "        'param_1': 'value_1',\n",
    "    }\n",
    ")"
   ],
   "id": "2309328aa666a49a",
   "outputs": [],
   "execution_count": 14
  },
  {
   "metadata": {},
   "cell_type": "markdown",
   "source": "We can then inspect the `PreprocessDataset` object to see the sample sheets that have been generated.",
   "id": "670822daa24e9881"
  },
  {
   "metadata": {
    "ExecuteTime": {
     "end_time": "2025-08-05T15:02:17.016011Z",
     "start_time": "2025-08-05T15:02:17.011429Z"
    }
   },
   "cell_type": "code",
   "source": "ds.samplesheet.head()",
   "id": "c173588f2d3663d6",
   "outputs": [
    {
     "data": {
      "text/plain": [
       "     sample grouping     feature_types\n",
       "0  FL018_FB    FL018  Antibody Capture\n",
       "1  FL018_GE    FL018   Gene Expression"
      ],
      "text/html": [
       "<div>\n",
       "<style scoped>\n",
       "    .dataframe tbody tr th:only-of-type {\n",
       "        vertical-align: middle;\n",
       "    }\n",
       "\n",
       "    .dataframe tbody tr th {\n",
       "        vertical-align: top;\n",
       "    }\n",
       "\n",
       "    .dataframe thead th {\n",
       "        text-align: right;\n",
       "    }\n",
       "</style>\n",
       "<table border=\"1\" class=\"dataframe\">\n",
       "  <thead>\n",
       "    <tr style=\"text-align: right;\">\n",
       "      <th></th>\n",
       "      <th>sample</th>\n",
       "      <th>grouping</th>\n",
       "      <th>feature_types</th>\n",
       "    </tr>\n",
       "  </thead>\n",
       "  <tbody>\n",
       "    <tr>\n",
       "      <th>0</th>\n",
       "      <td>FL018_FB</td>\n",
       "      <td>FL018</td>\n",
       "      <td>Antibody Capture</td>\n",
       "    </tr>\n",
       "    <tr>\n",
       "      <th>1</th>\n",
       "      <td>FL018_GE</td>\n",
       "      <td>FL018</td>\n",
       "      <td>Gene Expression</td>\n",
       "    </tr>\n",
       "  </tbody>\n",
       "</table>\n",
       "</div>"
      ]
     },
     "execution_count": 15,
     "metadata": {},
     "output_type": "execute_result"
    }
   ],
   "execution_count": 15
  },
  {
   "metadata": {
    "ExecuteTime": {
     "end_time": "2025-08-05T15:03:36.297675Z",
     "start_time": "2025-08-05T15:03:36.291576Z"
    }
   },
   "cell_type": "code",
   "source": "ds.files.head()",
   "id": "2b9139935cad5f8c",
   "outputs": [
    {
     "data": {
      "text/plain": [
       "     sample                                               file  \\\n",
       "0  FL018_FB  s3://project-9a31492a-e679-43ce-9f06-d84213c8f...   \n",
       "1  FL018_FB  s3://project-9a31492a-e679-43ce-9f06-d84213c8f...   \n",
       "2  FL018_GE  s3://project-9a31492a-e679-43ce-9f06-d84213c8f...   \n",
       "3  FL018_GE  s3://project-9a31492a-e679-43ce-9f06-d84213c8f...   \n",
       "\n",
       "           process                               dataset  sampleIndex  read  \\\n",
       "0  single-cell-10X  fa5adaef-8149-409e-a6ef-ad7073ce286c            1     2   \n",
       "1  single-cell-10X  fa5adaef-8149-409e-a6ef-ad7073ce286c            1     1   \n",
       "2  single-cell-10X  fa5adaef-8149-409e-a6ef-ad7073ce286c            2     2   \n",
       "3  single-cell-10X  fa5adaef-8149-409e-a6ef-ad7073ce286c            2     1   \n",
       "\n",
       "  readType  \n",
       "0        R  \n",
       "1        R  \n",
       "2        R  \n",
       "3        R  "
      ],
      "text/html": [
       "<div>\n",
       "<style scoped>\n",
       "    .dataframe tbody tr th:only-of-type {\n",
       "        vertical-align: middle;\n",
       "    }\n",
       "\n",
       "    .dataframe tbody tr th {\n",
       "        vertical-align: top;\n",
       "    }\n",
       "\n",
       "    .dataframe thead th {\n",
       "        text-align: right;\n",
       "    }\n",
       "</style>\n",
       "<table border=\"1\" class=\"dataframe\">\n",
       "  <thead>\n",
       "    <tr style=\"text-align: right;\">\n",
       "      <th></th>\n",
       "      <th>sample</th>\n",
       "      <th>file</th>\n",
       "      <th>process</th>\n",
       "      <th>dataset</th>\n",
       "      <th>sampleIndex</th>\n",
       "      <th>read</th>\n",
       "      <th>readType</th>\n",
       "    </tr>\n",
       "  </thead>\n",
       "  <tbody>\n",
       "    <tr>\n",
       "      <th>0</th>\n",
       "      <td>FL018_FB</td>\n",
       "      <td>s3://project-9a31492a-e679-43ce-9f06-d84213c8f...</td>\n",
       "      <td>single-cell-10X</td>\n",
       "      <td>fa5adaef-8149-409e-a6ef-ad7073ce286c</td>\n",
       "      <td>1</td>\n",
       "      <td>2</td>\n",
       "      <td>R</td>\n",
       "    </tr>\n",
       "    <tr>\n",
       "      <th>1</th>\n",
       "      <td>FL018_FB</td>\n",
       "      <td>s3://project-9a31492a-e679-43ce-9f06-d84213c8f...</td>\n",
       "      <td>single-cell-10X</td>\n",
       "      <td>fa5adaef-8149-409e-a6ef-ad7073ce286c</td>\n",
       "      <td>1</td>\n",
       "      <td>1</td>\n",
       "      <td>R</td>\n",
       "    </tr>\n",
       "    <tr>\n",
       "      <th>2</th>\n",
       "      <td>FL018_GE</td>\n",
       "      <td>s3://project-9a31492a-e679-43ce-9f06-d84213c8f...</td>\n",
       "      <td>single-cell-10X</td>\n",
       "      <td>fa5adaef-8149-409e-a6ef-ad7073ce286c</td>\n",
       "      <td>2</td>\n",
       "      <td>2</td>\n",
       "      <td>R</td>\n",
       "    </tr>\n",
       "    <tr>\n",
       "      <th>3</th>\n",
       "      <td>FL018_GE</td>\n",
       "      <td>s3://project-9a31492a-e679-43ce-9f06-d84213c8f...</td>\n",
       "      <td>single-cell-10X</td>\n",
       "      <td>fa5adaef-8149-409e-a6ef-ad7073ce286c</td>\n",
       "      <td>2</td>\n",
       "      <td>1</td>\n",
       "      <td>R</td>\n",
       "    </tr>\n",
       "  </tbody>\n",
       "</table>\n",
       "</div>"
      ]
     },
     "execution_count": 21,
     "metadata": {},
     "output_type": "execute_result"
    }
   ],
   "execution_count": 21
  },
  {
   "metadata": {},
   "cell_type": "markdown",
   "source": [
    "You can use the two dataframes to create your own sample sheet for your pipeline. See the [Preprocess full example](https://docs.cirro.bio/pipelines/preprocess-script/#full-example) for more details on constructing your sample sheet manually.\n",
    "\n",
    "The `pivot_samplesheet` method is also available to output the typical sample sheet format used by many pipelines which work on paired-end data."
   ],
   "id": "c15e2c8c3c5b12f4"
  },
  {
   "metadata": {
    "ExecuteTime": {
     "end_time": "2025-08-05T15:02:37.637657Z",
     "start_time": "2025-08-05T15:02:37.626037Z"
    }
   },
   "cell_type": "code",
   "source": [
    "ds.pivot_samplesheet(\n",
    "    pivot_columns=['read'],  # Pivot using the read column, to become `fastq_<read>`\n",
    "    column_prefix='fastq_',  # This is typical of pipelines that work on paired-end data\n",
    "    metadata_columns=['grouping'],  # My pipeline doesn't allow any additional columns, only `grouping`\n",
    "    file_filter_predicate='readType == \"R\"'  # I only want to include read files, not index files\n",
    ")"
   ],
   "id": "2139bd0252fe761a",
   "outputs": [
    {
     "data": {
      "text/plain": [
       "     sample                                            fastq_1  \\\n",
       "0  FL018_FB  s3://project-9a31492a-e679-43ce-9f06-d84213c8f...   \n",
       "1  FL018_GE  s3://project-9a31492a-e679-43ce-9f06-d84213c8f...   \n",
       "\n",
       "                                             fastq_2 grouping  \n",
       "0  s3://project-9a31492a-e679-43ce-9f06-d84213c8f...    FL018  \n",
       "1  s3://project-9a31492a-e679-43ce-9f06-d84213c8f...    FL018  "
      ],
      "text/html": [
       "<div>\n",
       "<style scoped>\n",
       "    .dataframe tbody tr th:only-of-type {\n",
       "        vertical-align: middle;\n",
       "    }\n",
       "\n",
       "    .dataframe tbody tr th {\n",
       "        vertical-align: top;\n",
       "    }\n",
       "\n",
       "    .dataframe thead th {\n",
       "        text-align: right;\n",
       "    }\n",
       "</style>\n",
       "<table border=\"1\" class=\"dataframe\">\n",
       "  <thead>\n",
       "    <tr style=\"text-align: right;\">\n",
       "      <th></th>\n",
       "      <th>sample</th>\n",
       "      <th>fastq_1</th>\n",
       "      <th>fastq_2</th>\n",
       "      <th>grouping</th>\n",
       "    </tr>\n",
       "  </thead>\n",
       "  <tbody>\n",
       "    <tr>\n",
       "      <th>0</th>\n",
       "      <td>FL018_FB</td>\n",
       "      <td>s3://project-9a31492a-e679-43ce-9f06-d84213c8f...</td>\n",
       "      <td>s3://project-9a31492a-e679-43ce-9f06-d84213c8f...</td>\n",
       "      <td>FL018</td>\n",
       "    </tr>\n",
       "    <tr>\n",
       "      <th>1</th>\n",
       "      <td>FL018_GE</td>\n",
       "      <td>s3://project-9a31492a-e679-43ce-9f06-d84213c8f...</td>\n",
       "      <td>s3://project-9a31492a-e679-43ce-9f06-d84213c8f...</td>\n",
       "      <td>FL018</td>\n",
       "    </tr>\n",
       "  </tbody>\n",
       "</table>\n",
       "</div>"
      ]
     },
     "execution_count": 17,
     "metadata": {},
     "output_type": "execute_result"
    }
   ],
   "execution_count": 17
  }
 ],
 "metadata": {
  "kernelspec": {
   "display_name": "Python 3",
   "language": "python",
   "name": "python3"
  },
  "language_info": {
   "codemirror_mode": {
    "name": "ipython",
    "version": 2
   },
   "file_extension": ".py",
   "mimetype": "text/x-python",
   "name": "python",
   "nbconvert_exporter": "python",
   "pygments_lexer": "ipython2",
   "version": "2.7.6"
  }
 },
 "nbformat": 4,
 "nbformat_minor": 5
}
