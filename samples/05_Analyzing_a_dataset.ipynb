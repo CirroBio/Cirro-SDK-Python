{
 "cells": [
  {
   "cell_type": "markdown",
   "source": [
    "## Analyzing a dataset"
   ],
   "metadata": {
    "collapsed": false,
    "pycharm": {
     "name": "#%% md\n"
    }
   }
  },
  {
   "cell_type": "code",
   "execution_count": 14,
   "outputs": [],
   "source": [
    "from pubweb import PubWeb\n",
    "\n",
    "client = PubWeb()"
   ],
   "metadata": {
    "collapsed": false,
    "pycharm": {
     "name": "#%%\n"
    }
   }
  },
  {
   "cell_type": "code",
   "execution_count": 6,
   "outputs": [],
   "source": [
    "project = client.project.find_by_name('Test Project')\n",
    "datasets = client.dataset.find_by_project(project_id=project.id, name='Test data for CRISPR MAGeCK')\n",
    "dataset = datasets[0]\n",
    "\n",
    "process = client.process.find_by_name('MAGeCK Count')"
   ],
   "metadata": {
    "collapsed": false,
    "pycharm": {
     "name": "#%%\n"
    }
   }
  },
  {
   "cell_type": "markdown",
   "source": [
    "See the [05_Using_references](05_Using_references.ipynb) file for more info on how to find references"
   ],
   "metadata": {
    "collapsed": false,
    "pycharm": {
     "name": "#%% md\n"
    }
   }
  },
  {
   "cell_type": "code",
   "execution_count": 7,
   "outputs": [
    {
     "data": {
      "text/plain": "Reference(path=data/references/crispr_libraries/BroadGPP-Brunello/library.csv)"
     },
     "execution_count": 7,
     "metadata": {},
     "output_type": "execute_result"
    }
   ],
   "source": [
    "references = client.project.get_references(project.id, 'crispr_libraries')\n",
    "reference_library = references.find_by_name('BroadGPP-Brunello')\n",
    "reference_library"
   ],
   "metadata": {
    "collapsed": false,
    "pycharm": {
     "name": "#%%\n"
    }
   }
  },
  {
   "cell_type": "markdown",
   "source": [
    "Discovering process parameters"
   ],
   "metadata": {
    "collapsed": false,
    "pycharm": {
     "name": "#%% md\n"
    }
   }
  },
  {
   "cell_type": "code",
   "execution_count": 8,
   "outputs": [
    {
     "name": "stdout",
     "output_type": "stream",
     "text": [
      "Parameters:\n",
      "\tFASTQ (key=fastq, type=string)\n",
      "\tLibrary (key=library, type=string)\n",
      "\t5' Adapter (key=adapter, default=CTTGTGGAAAGGACGAAACACCG, type=string, description=Adapter sequence to be trimmed from the 5' end of each read)\n",
      "\tInsert Length (key=insert_length, default=20, type=integer, description=Length of the sgRNA sequences contained in each read)\n"
     ]
    }
   ],
   "source": [
    "param_spec = client.process.get_parameter_spec(process.id)\n",
    "param_spec.print()"
   ],
   "metadata": {
    "collapsed": false,
    "pycharm": {
     "name": "#%%\n"
    }
   }
  },
  {
   "cell_type": "code",
   "execution_count": 9,
   "outputs": [
    {
     "data": {
      "text/plain": "[File(path=data/controls/MO_Brunello_gDNA_1.fastq.gz),\n File(path=data/controls/MO_Brunello_gDNA_2.fastq.gz)]"
     },
     "execution_count": 9,
     "metadata": {},
     "output_type": "execute_result"
    }
   ],
   "source": [
    "from pubweb.file_utils import filter_files_by_pattern\n",
    "\n",
    "files = client.dataset.get_dataset_files(project_id=project.id,\n",
    "                                         dataset_id=dataset.id)\n",
    "fastqs = filter_files_by_pattern(files, '**/controls/*.fastq.gz')\n",
    "fastqs"
   ],
   "metadata": {
    "collapsed": false,
    "pycharm": {
     "name": "#%%\n"
    }
   }
  },
  {
   "cell_type": "code",
   "execution_count": 10,
   "outputs": [
    {
     "data": {
      "text/plain": "{'fastq': 's3://z-9a31492a-e679-43ce-9f06-d84213c8f7f7/datasets/de2dda9a-c103-4841-ae46-b2df74390f90/data/controls/MO_Brunello_gDNA_1.fastq.gz,s3://z-9a31492a-e679-43ce-9f06-d84213c8f7f7/datasets/de2dda9a-c103-4841-ae46-b2df74390f90/data/controls/MO_Brunello_gDNA_2.fastq.gz',\n 'adapter': 'CTTGTGGAAAGGACGAAACACCG',\n 'insert_length': 20,\n 'library': 's3://z-9a31492a-e679-43ce-9f06-d84213c8f7f7/resources/data/references/crispr_libraries/BroadGPP-Brunello/library.csv'}"
     },
     "execution_count": 10,
     "metadata": {},
     "output_type": "execute_result"
    }
   ],
   "source": [
    "from pubweb.models.process import RunAnalysisCommand\n",
    "\n",
    "params = {\n",
    "    'fastq': ','.join([f.absolute_path for f in fastqs]),\n",
    "    \"adapter\": \"CTTGTGGAAAGGACGAAACACCG\",\n",
    "    \"insert_length\": 20,\n",
    "    \"library\": reference_library.absolute_path\n",
    "}\n",
    "params"
   ],
   "metadata": {
    "collapsed": false,
    "pycharm": {
     "name": "#%%\n"
    }
   }
  },
  {
   "cell_type": "markdown",
   "source": [
    "Before submitting the analysis, the client validates that the parameters are valid.\n",
    "You can also validate manually."
   ],
   "metadata": {
    "collapsed": false,
    "pycharm": {
     "name": "#%% md\n"
    }
   }
  },
  {
   "cell_type": "code",
   "execution_count": 11,
   "outputs": [
    {
     "name": "stdout",
     "output_type": "stream",
     "text": [
      "Parameter at $.library error: 1 is not of type 'string'\n"
     ]
    }
   ],
   "source": [
    "try:\n",
    "    param_spec.validate_params({\n",
    "        'library': 1\n",
    "    })\n",
    "except Exception as e:\n",
    "    print(e)"
   ],
   "metadata": {
    "collapsed": false,
    "pycharm": {
     "name": "#%%\n"
    }
   }
  },
  {
   "cell_type": "code",
   "execution_count": 15,
   "outputs": [
    {
     "ename": "TransportQueryError",
     "evalue": "{'path': ['runAnalysis'], 'data': None, 'errorType': 'Lambda:Unhandled', 'errorInfo': None, 'locations': [{'line': 2, 'column': 3, 'sourceName': None}], 'message': \"{'errorType': 'UnauthorizedException', 'message': 'Permission denied'}\"}",
     "output_type": "error",
     "traceback": [
      "\u001B[1;31m---------------------------------------------------------------------------\u001B[0m",
      "\u001B[1;31mTransportQueryError\u001B[0m                       Traceback (most recent call last)",
      "Input \u001B[1;32mIn [15]\u001B[0m, in \u001B[0;36m<cell line: 11>\u001B[1;34m()\u001B[0m\n\u001B[0;32m      1\u001B[0m command \u001B[38;5;241m=\u001B[39m RunAnalysisCommand(\n\u001B[0;32m      2\u001B[0m     name\u001B[38;5;241m=\u001B[39m\u001B[38;5;124m'\u001B[39m\u001B[38;5;124mcount analysis\u001B[39m\u001B[38;5;124m'\u001B[39m,\n\u001B[0;32m      3\u001B[0m     description\u001B[38;5;241m=\u001B[39m\u001B[38;5;124m'\u001B[39m\u001B[38;5;124mtest from SDK\u001B[39m\u001B[38;5;124m'\u001B[39m,\n\u001B[1;32m   (...)\u001B[0m\n\u001B[0;32m      8\u001B[0m     notifications_emails\u001B[38;5;241m=\u001B[39m[]\n\u001B[0;32m      9\u001B[0m )\n\u001B[1;32m---> 11\u001B[0m new_dataset_id \u001B[38;5;241m=\u001B[39m \u001B[43mclient\u001B[49m\u001B[38;5;241;43m.\u001B[39;49m\u001B[43mprocess\u001B[49m\u001B[38;5;241;43m.\u001B[39;49m\u001B[43mrun_analysis\u001B[49m\u001B[43m(\u001B[49m\u001B[43mcommand\u001B[49m\u001B[43m)\u001B[49m\n\u001B[0;32m     12\u001B[0m \u001B[38;5;28mprint\u001B[39m(new_dataset_id)\n",
      "File \u001B[1;32m~\\repos\\PubWeb-cli\\pubweb\\services\\process.py:102\u001B[0m, in \u001B[0;36mProcessService.run_analysis\u001B[1;34m(self, run_analysis_command)\u001B[0m\n\u001B[0;32m     96\u001B[0m spec\u001B[38;5;241m.\u001B[39mvalidate_params(run_analysis_command\u001B[38;5;241m.\u001B[39mparams)\n\u001B[0;32m     97\u001B[0m query \u001B[38;5;241m=\u001B[39m \u001B[38;5;124m'''\u001B[39m\n\u001B[0;32m     98\u001B[0m \u001B[38;5;124m  mutation RunAnalysis($input: RunAnalysisInput!) \u001B[39m\u001B[38;5;124m{\u001B[39m\n\u001B[0;32m     99\u001B[0m \u001B[38;5;124m    runAnalysis(input: $input)\u001B[39m\n\u001B[0;32m    100\u001B[0m \u001B[38;5;124m  }\u001B[39m\n\u001B[0;32m    101\u001B[0m \u001B[38;5;124m\u001B[39m\u001B[38;5;124m'''\u001B[39m\n\u001B[1;32m--> 102\u001B[0m resp \u001B[38;5;241m=\u001B[39m \u001B[38;5;28;43mself\u001B[39;49m\u001B[38;5;241;43m.\u001B[39;49m\u001B[43m_api_client\u001B[49m\u001B[38;5;241;43m.\u001B[39;49m\u001B[43mquery\u001B[49m\u001B[43m(\u001B[49m\u001B[43mquery\u001B[49m\u001B[43m,\u001B[49m\u001B[43m \u001B[49m\u001B[43mvariables\u001B[49m\u001B[38;5;241;43m=\u001B[39;49m\u001B[43m{\u001B[49m\u001B[38;5;124;43m'\u001B[39;49m\u001B[38;5;124;43minput\u001B[39;49m\u001B[38;5;124;43m'\u001B[39;49m\u001B[43m:\u001B[49m\u001B[43m \u001B[49m\u001B[43mrun_analysis_command\u001B[49m\u001B[38;5;241;43m.\u001B[39;49m\u001B[43mto_json\u001B[49m\u001B[43m(\u001B[49m\u001B[43m)\u001B[49m\u001B[43m}\u001B[49m\u001B[43m)\u001B[49m\n\u001B[0;32m    103\u001B[0m \u001B[38;5;28;01mreturn\u001B[39;00m resp[\u001B[38;5;124m'\u001B[39m\u001B[38;5;124mrunAnalysis\u001B[39m\u001B[38;5;124m'\u001B[39m]\n",
      "File \u001B[1;32m~\\repos\\PubWeb-cli\\pubweb\\clients\\api.py:26\u001B[0m, in \u001B[0;36mApiClient.query\u001B[1;34m(self, query, variables)\u001B[0m\n\u001B[0;32m     25\u001B[0m \u001B[38;5;28;01mdef\u001B[39;00m \u001B[38;5;21mquery\u001B[39m(\u001B[38;5;28mself\u001B[39m, query: \u001B[38;5;28mstr\u001B[39m, variables\u001B[38;5;241m=\u001B[39m\u001B[38;5;28;01mNone\u001B[39;00m) \u001B[38;5;241m-\u001B[39m\u001B[38;5;241m>\u001B[39m Dict:\n\u001B[1;32m---> 26\u001B[0m     \u001B[38;5;28;01mreturn\u001B[39;00m \u001B[38;5;28;43mself\u001B[39;49m\u001B[38;5;241;43m.\u001B[39;49m\u001B[43m_gql_client\u001B[49m\u001B[38;5;241;43m.\u001B[39;49m\u001B[43mexecute\u001B[49m\u001B[43m(\u001B[49m\u001B[43mgql\u001B[49m\u001B[43m(\u001B[49m\u001B[43mquery\u001B[49m\u001B[43m)\u001B[49m\u001B[43m,\u001B[49m\u001B[43m \u001B[49m\u001B[43mvariable_values\u001B[49m\u001B[38;5;241;43m=\u001B[39;49m\u001B[43mvariables\u001B[49m\u001B[43m)\u001B[49m\n",
      "File \u001B[1;32m~\\repos\\PubWeb-cli\\venv\\lib\\site-packages\\gql-3.0.0-py3.9.egg\\gql\\client.py:193\u001B[0m, in \u001B[0;36mClient.execute\u001B[1;34m(self, document, *args, **kwargs)\u001B[0m\n\u001B[0;32m    190\u001B[0m     \u001B[38;5;28;01mreturn\u001B[39;00m data\n\u001B[0;32m    192\u001B[0m \u001B[38;5;28;01melse\u001B[39;00m:  \u001B[38;5;66;03m# Sync transports\u001B[39;00m\n\u001B[1;32m--> 193\u001B[0m     \u001B[38;5;28;01mreturn\u001B[39;00m \u001B[38;5;28mself\u001B[39m\u001B[38;5;241m.\u001B[39mexecute_sync(document, \u001B[38;5;241m*\u001B[39margs, \u001B[38;5;241m*\u001B[39m\u001B[38;5;241m*\u001B[39mkwargs)\n",
      "File \u001B[1;32m~\\repos\\PubWeb-cli\\venv\\lib\\site-packages\\gql-3.0.0-py3.9.egg\\gql\\client.py:137\u001B[0m, in \u001B[0;36mClient.execute_sync\u001B[1;34m(self, document, *args, **kwargs)\u001B[0m\n\u001B[0;32m    135\u001B[0m \u001B[38;5;124;03m\"\"\":meta private:\"\"\"\u001B[39;00m\n\u001B[0;32m    136\u001B[0m \u001B[38;5;28;01mwith\u001B[39;00m \u001B[38;5;28mself\u001B[39m \u001B[38;5;28;01mas\u001B[39;00m session:\n\u001B[1;32m--> 137\u001B[0m     \u001B[38;5;28;01mreturn\u001B[39;00m session\u001B[38;5;241m.\u001B[39mexecute(document, \u001B[38;5;241m*\u001B[39margs, \u001B[38;5;241m*\u001B[39m\u001B[38;5;241m*\u001B[39mkwargs)\n",
      "File \u001B[1;32m~\\repos\\PubWeb-cli\\venv\\lib\\site-packages\\gql-3.0.0-py3.9.egg\\gql\\client.py:447\u001B[0m, in \u001B[0;36mSyncClientSession.execute\u001B[1;34m(self, document, variable_values, operation_name, serialize_variables, parse_result, get_execution_result, *args, **kwargs)\u001B[0m\n\u001B[0;32m    445\u001B[0m \u001B[38;5;66;03m# Raise an error if an error is returned in the ExecutionResult object\u001B[39;00m\n\u001B[0;32m    446\u001B[0m \u001B[38;5;28;01mif\u001B[39;00m result\u001B[38;5;241m.\u001B[39merrors:\n\u001B[1;32m--> 447\u001B[0m     \u001B[38;5;28;01mraise\u001B[39;00m TransportQueryError(\n\u001B[0;32m    448\u001B[0m         \u001B[38;5;28mstr\u001B[39m(result\u001B[38;5;241m.\u001B[39merrors[\u001B[38;5;241m0\u001B[39m]),\n\u001B[0;32m    449\u001B[0m         errors\u001B[38;5;241m=\u001B[39mresult\u001B[38;5;241m.\u001B[39merrors,\n\u001B[0;32m    450\u001B[0m         data\u001B[38;5;241m=\u001B[39mresult\u001B[38;5;241m.\u001B[39mdata,\n\u001B[0;32m    451\u001B[0m         extensions\u001B[38;5;241m=\u001B[39mresult\u001B[38;5;241m.\u001B[39mextensions,\n\u001B[0;32m    452\u001B[0m     )\n\u001B[0;32m    454\u001B[0m \u001B[38;5;28;01massert\u001B[39;00m (\n\u001B[0;32m    455\u001B[0m     result\u001B[38;5;241m.\u001B[39mdata \u001B[38;5;129;01mis\u001B[39;00m \u001B[38;5;129;01mnot\u001B[39;00m \u001B[38;5;28;01mNone\u001B[39;00m\n\u001B[0;32m    456\u001B[0m ), \u001B[38;5;124m\"\u001B[39m\u001B[38;5;124mTransport returned an ExecutionResult without data or errors\u001B[39m\u001B[38;5;124m\"\u001B[39m\n\u001B[0;32m    458\u001B[0m \u001B[38;5;28;01mif\u001B[39;00m get_execution_result:\n",
      "\u001B[1;31mTransportQueryError\u001B[0m: {'path': ['runAnalysis'], 'data': None, 'errorType': 'Lambda:Unhandled', 'errorInfo': None, 'locations': [{'line': 2, 'column': 3, 'sourceName': None}], 'message': \"{'errorType': 'UnauthorizedException', 'message': 'Permission denied'}\"}"
     ]
    }
   ],
   "source": [
    "command = RunAnalysisCommand(\n",
    "    name='count analysis',\n",
    "    description='test from SDK',\n",
    "    process_id=process.id,\n",
    "    parent_dataset_id=dataset.id,\n",
    "    project_id=project.id,\n",
    "    params=params,\n",
    "    notifications_emails=[]\n",
    ")\n",
    "\n",
    "new_dataset_id = client.process.run_analysis(command)\n",
    "print(new_dataset_id)"
   ],
   "metadata": {
    "collapsed": false,
    "pycharm": {
     "name": "#%%\n"
    }
   }
  },
  {
   "cell_type": "code",
   "execution_count": null,
   "outputs": [],
   "source": [],
   "metadata": {
    "collapsed": false,
    "pycharm": {
     "name": "#%%\n"
    }
   }
  }
 ],
 "metadata": {
  "kernelspec": {
   "display_name": "Python 3",
   "language": "python",
   "name": "python3"
  },
  "language_info": {
   "codemirror_mode": {
    "name": "ipython",
    "version": 2
   },
   "file_extension": ".py",
   "mimetype": "text/x-python",
   "name": "python",
   "nbconvert_exporter": "python",
   "pygments_lexer": "ipython2",
   "version": "2.7.6"
  }
 },
 "nbformat": 4,
 "nbformat_minor": 0
}