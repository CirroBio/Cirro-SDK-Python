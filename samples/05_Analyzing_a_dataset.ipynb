{
 "cells": [
  {
   "cell_type": "markdown",
   "source": [
    "## Analyzing a dataset"
   ],
   "metadata": {
    "collapsed": false,
    "pycharm": {
     "name": "#%% md\n"
    }
   }
  },
  {
   "cell_type": "code",
   "execution_count": 1,
   "outputs": [],
   "source": [
    "from pubweb import PubWeb\n",
    "\n",
    "client = PubWeb()"
   ],
   "metadata": {
    "collapsed": false,
    "pycharm": {
     "name": "#%%\n"
    }
   }
  },
  {
   "cell_type": "code",
   "execution_count": 2,
   "outputs": [],
   "source": [
    "project = client.project.find_by_name('Test Project')\n",
    "datasets = client.dataset.find_by_project(project_id=project.id, name='Test data for CRISPR MAGeCK')\n",
    "dataset = datasets[0]\n",
    "\n",
    "process = client.process.find_by_name('MAGeCK Count')"
   ],
   "metadata": {
    "collapsed": false,
    "pycharm": {
     "name": "#%%\n"
    }
   }
  },
  {
   "cell_type": "markdown",
   "source": [
    "See the [05_Using_references](05_Using_references.ipynb) file for more info on how to find references"
   ],
   "metadata": {
    "collapsed": false,
    "pycharm": {
     "name": "#%% md\n"
    }
   }
  },
  {
   "cell_type": "code",
   "execution_count": 3,
   "outputs": [
    {
     "data": {
      "text/plain": "Reference(path=data/references/crispr_libraries/BroadGPP-Brunello/library.csv)"
     },
     "execution_count": 3,
     "metadata": {},
     "output_type": "execute_result"
    }
   ],
   "source": [
    "references = client.project.get_references(project.id, 'crispr_libraries')\n",
    "reference_library = references.find_by_name('BroadGPP-Brunello')\n",
    "reference_library"
   ],
   "metadata": {
    "collapsed": false,
    "pycharm": {
     "name": "#%%\n"
    }
   }
  },
  {
   "cell_type": "markdown",
   "source": [
    "Discovering process parameters"
   ],
   "metadata": {
    "collapsed": false,
    "pycharm": {
     "name": "#%% md\n"
    }
   }
  },
  {
   "cell_type": "code",
   "execution_count": 4,
   "outputs": [
    {
     "name": "stdout",
     "output_type": "stream",
     "text": [
      "Parameters:\n",
      "\tFASTQ (key=fastq, type=string)\n",
      "\tLibrary (key=library, type=string)\n",
      "\t5' Adapter (key=adapter, default=CTTGTGGAAAGGACGAAACACCG, type=string, description=Adapter sequence to be trimmed from the 5' end of each read)\n",
      "\tInsert Length (key=insert_length, default=20, type=integer, description=Length of the sgRNA sequences contained in each read)\n"
     ]
    }
   ],
   "source": [
    "param_spec = client.process.get_parameter_spec(process.id)\n",
    "param_spec.print()"
   ],
   "metadata": {
    "collapsed": false,
    "pycharm": {
     "name": "#%%\n"
    }
   }
  },
  {
   "cell_type": "code",
   "execution_count": 5,
   "outputs": [
    {
     "data": {
      "text/plain": "[File(path=data/controls/MO_Brunello_gDNA_1.fastq.gz),\n File(path=data/controls/MO_Brunello_gDNA_2.fastq.gz)]"
     },
     "execution_count": 5,
     "metadata": {},
     "output_type": "execute_result"
    }
   ],
   "source": [
    "from pubweb.file_utils import filter_files_by_pattern\n",
    "\n",
    "files = client.dataset.get_dataset_files(project_id=project.id,\n",
    "                                         dataset_id=dataset.id)\n",
    "fastqs = filter_files_by_pattern(files, '**/controls/*.fastq.gz')\n",
    "fastqs"
   ],
   "metadata": {
    "collapsed": false,
    "pycharm": {
     "name": "#%%\n"
    }
   }
  },
  {
   "cell_type": "code",
   "execution_count": 6,
   "outputs": [
    {
     "data": {
      "text/plain": "{'fastq': 's3://z-9a31492a-e679-43ce-9f06-d84213c8f7f7/datasets/de2dda9a-c103-4841-ae46-b2df74390f90/data/controls/MO_Brunello_gDNA_1.fastq.gz,s3://z-9a31492a-e679-43ce-9f06-d84213c8f7f7/datasets/de2dda9a-c103-4841-ae46-b2df74390f90/data/controls/MO_Brunello_gDNA_2.fastq.gz',\n 'adapter': 'CTTGTGGAAAGGACGAAACACCG',\n 'insert_length': 20,\n 'library': 's3://z-9a31492a-e679-43ce-9f06-d84213c8f7f7/resources/data/references/crispr_libraries/BroadGPP-Brunello/library.csv'}"
     },
     "execution_count": 6,
     "metadata": {},
     "output_type": "execute_result"
    }
   ],
   "source": [
    "from pubweb.models.process import RunAnalysisCommand\n",
    "\n",
    "params = {\n",
    "    'fastq': ','.join([f.absolute_path for f in fastqs]),\n",
    "    \"adapter\": \"CTTGTGGAAAGGACGAAACACCG\",\n",
    "    \"insert_length\": 20,\n",
    "    \"library\": reference_library.absolute_path\n",
    "}\n",
    "params"
   ],
   "metadata": {
    "collapsed": false,
    "pycharm": {
     "name": "#%%\n"
    }
   }
  },
  {
   "cell_type": "markdown",
   "source": [
    "Before submitting the analysis, the client validates that the parameters are valid.\n",
    "You can also validate manually."
   ],
   "metadata": {
    "collapsed": false,
    "pycharm": {
     "name": "#%% md\n"
    }
   }
  },
  {
   "cell_type": "code",
   "execution_count": 7,
   "outputs": [
    {
     "name": "stdout",
     "output_type": "stream",
     "text": [
      "Parameter at $.library error: 1 is not of type 'string'\n"
     ]
    }
   ],
   "source": [
    "try:\n",
    "    param_spec.validate_params({\n",
    "        'library': 1\n",
    "    })\n",
    "except Exception as e:\n",
    "    print(e)"
   ],
   "metadata": {
    "collapsed": false,
    "pycharm": {
     "name": "#%%\n"
    }
   }
  },
  {
   "cell_type": "code",
   "execution_count": 8,
   "outputs": [
    {
     "name": "stdout",
     "output_type": "stream",
     "text": [
      "f2b6b58f-306b-44b1-a720-b08c19f55a02\n"
     ]
    }
   ],
   "source": [
    "command = RunAnalysisCommand(\n",
    "    name='count analysis',\n",
    "    description='test from SDK',\n",
    "    process_id=process.id,\n",
    "    parent_dataset_id=dataset.id,\n",
    "    project_id=project.id,\n",
    "    params=params,\n",
    "    notifications_emails=[]\n",
    ")\n",
    "\n",
    "new_dataset_id = client.process.run_analysis(command)\n",
    "print(new_dataset_id)"
   ],
   "metadata": {
    "collapsed": false,
    "pycharm": {
     "name": "#%%\n"
    }
   }
  }
 ],
 "metadata": {
  "kernelspec": {
   "display_name": "Python 3",
   "language": "python",
   "name": "python3"
  },
  "language_info": {
   "codemirror_mode": {
    "name": "ipython",
    "version": 2
   },
   "file_extension": ".py",
   "mimetype": "text/x-python",
   "name": "python",
   "nbconvert_exporter": "python",
   "pygments_lexer": "ipython2",
   "version": "2.7.6"
  }
 },
 "nbformat": 4,
 "nbformat_minor": 0
}