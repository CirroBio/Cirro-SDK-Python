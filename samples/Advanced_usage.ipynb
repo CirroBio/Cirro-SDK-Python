{
 "cells": [
  {
   "cell_type": "markdown",
   "source": [
    "# Advanced Usage\n",
    "\n",
    "For operations that are not exposed by the `DataPortal` class, you must use the service layer directly.\n",
    "This can be instantiated with the `Cirro` class. "
   ],
   "metadata": {
    "collapsed": false
   },
   "id": "3698989ec61e0b3a"
  },
  {
   "cell_type": "code",
   "outputs": [],
   "source": [
    "from cirro.cirro_client import CirroAPI\n",
    "\n",
    "cirro = CirroAPI()"
   ],
   "metadata": {
    "collapsed": false,
    "ExecuteTime": {
     "end_time": "2024-02-21T15:32:23.904125900Z",
     "start_time": "2024-02-21T15:32:17.745106400Z"
    }
   },
   "id": "f898e7caa5948296",
   "execution_count": 2
  },
  {
   "cell_type": "markdown",
   "source": [
    "The services are exposed and separated out by each section. Look at the autocomplete options, or inspect the [cirro_client.py](../cirro/cirro_client.py) file."
   ],
   "metadata": {
    "collapsed": false
   },
   "id": "70cc9b8bc1519f38"
  },
  {
   "cell_type": "markdown",
   "source": [
    "### Examples"
   ],
   "metadata": {
    "collapsed": false
   },
   "id": "f533ad6d7bbdc87f"
  },
  {
   "cell_type": "code",
   "outputs": [],
   "source": [
    "# Project / dataset used for the examples\n",
    "test_project = cirro.projects.list()[-1]\n",
    "dataset_id = '<dataset_id>'"
   ],
   "metadata": {
    "collapsed": false,
    "ExecuteTime": {
     "end_time": "2024-02-21T15:40:02.411779700Z",
     "start_time": "2024-02-21T15:39:59.628564100Z"
    }
   },
   "id": "cdff373e4d67de2b",
   "execution_count": 5
  },
  {
   "cell_type": "markdown",
   "source": [
    "##### Adding a user to a project"
   ],
   "metadata": {
    "collapsed": false
   },
   "id": "d584ee62076d7e20"
  },
  {
   "cell_type": "code",
   "outputs": [],
   "source": [
    "from cirro_api_client.v1.models import ProjectRole\n",
    "\n",
    "cirro.projects.set_user_role(project_id=test_project.id,\n",
    "                             username='cirro@cirro.bio',\n",
    "                             role=ProjectRole.COLLABORATOR)"
   ],
   "metadata": {
    "collapsed": false,
    "ExecuteTime": {
     "end_time": "2024-02-21T04:54:22.791221200Z",
     "start_time": "2024-02-21T04:54:22.097294300Z"
    }
   },
   "id": "44f39568654ff898",
   "execution_count": 14
  },
  {
   "cell_type": "markdown",
   "source": [
    "##### Retrieving a list of running tasks for an analysis"
   ],
   "metadata": {
    "collapsed": false
   },
   "id": "35514c11906fcd03"
  },
  {
   "cell_type": "code",
   "outputs": [
    {
     "name": "stdout",
     "output_type": "stream",
     "text": [
      "Task Name: extractStats\n",
      "Status: COMPLETED\n",
      "Stopped At: 2024-02-16T02:49:08.916000+00:00\n"
     ]
    }
   ],
   "source": [
    "tasks = cirro.execution.get_tasks_for_execution(project_id=test_project.id,\n",
    "                                                dataset_id=dataset_id)\n",
    "\n",
    "print(f'Task Name: {tasks[0].name}')\n",
    "print(f'Status: {tasks[0].status}')\n",
    "print(f'Stopped At: {tasks[0].stopped_at.isoformat()}')"
   ],
   "metadata": {
    "collapsed": false,
    "ExecuteTime": {
     "end_time": "2024-02-21T05:00:56.547489700Z",
     "start_time": "2024-02-21T05:00:56.315723100Z"
    }
   },
   "id": "39bdd000ccf5504a",
   "execution_count": 3
  },
  {
   "cell_type": "markdown",
   "source": [
    "##### Retrieving the log output of a task"
   ],
   "metadata": {
    "collapsed": false
   },
   "id": "99261a37a1f57017"
  },
  {
   "cell_type": "code",
   "outputs": [
    {
     "name": "stdout",
     "output_type": "stream",
     "text": [
      "Processing lane 1\n",
      "Processing tile 1101\n",
      "Processing cycle 0\n",
      "Processing cycle 1\n",
      "Processing cycle 2\n"
     ]
    }
   ],
   "source": [
    "logs = cirro.execution.get_task_logs(project_id=test_project.id,\n",
    "                                     dataset_id=dataset_id,\n",
    "                                     task_id=tasks[0].native_job_id)\n",
    "# Print first 5 lines of log output\n",
    "print('\\n'.join(logs.splitlines()[0:5]))"
   ],
   "metadata": {
    "collapsed": false,
    "ExecuteTime": {
     "end_time": "2024-02-21T05:02:26.550772200Z",
     "start_time": "2024-02-21T05:02:26.173178Z"
    }
   },
   "id": "cc81f88d6d8687ec",
   "execution_count": 9
  },
  {
   "cell_type": "markdown",
   "source": [
    "##### Listing the jobs that are currently running in a project"
   ],
   "metadata": {
    "collapsed": false
   },
   "id": "ed9f6ea55fc5b6d7"
  },
  {
   "cell_type": "code",
   "outputs": [
    {
     "data": {
      "text/plain": "{'Cirro-Spot-11a0fa10': [],\n 'Cirro-Head-11a0fa10': [],\n 'Cirro-OnDemand-11a0fa10': [],\n 'Cirro-Dragen-11a0fa10': []}"
     },
     "execution_count": 3,
     "metadata": {},
     "output_type": "execute_result"
    }
   ],
   "source": [
    "cirro.execution.get_project_summary(project_id=test_project.id)"
   ],
   "metadata": {
    "collapsed": false,
    "ExecuteTime": {
     "end_time": "2024-02-21T05:03:43.552292100Z",
     "start_time": "2024-02-21T05:03:41.936410900Z"
    }
   },
   "id": "6404a781457cb676",
   "execution_count": 3
  },
  {
   "cell_type": "markdown",
   "source": [
    "##### Retrieving the costs for a project"
   ],
   "metadata": {
    "collapsed": false
   },
   "id": "72b3a5ce2a4300cb"
  },
  {
   "cell_type": "code",
   "outputs": [
    {
     "name": "stdout",
     "output_type": "stream",
     "text": [
      "Date: 2024-02-01\n",
      "Services: {'Other': 4.96, 'EC2 - Other': 0.01, 'Amazon Elastic Compute Cloud - Compute': 0.06, 'Amazon SageMaker': 0.01, 'Amazon Simple Storage Service': 0.09, 'AmazonCloudWatch': 0.0}\n"
     ]
    }
   ],
   "source": [
    "metrics = cirro.metrics.get_for_project(project_id=test_project.id)\n",
    "latest_cost = metrics.costs[-1]\n",
    "print(f'Date: {latest_cost.date}')\n",
    "print(f'Services: {latest_cost.services.additional_properties}')"
   ],
   "metadata": {
    "collapsed": false,
    "ExecuteTime": {
     "end_time": "2024-02-21T05:06:14.236630400Z",
     "start_time": "2024-02-21T05:06:14.066244800Z"
    }
   },
   "id": "55ec56b49ae2bc07",
   "execution_count": 11
  },
  {
   "cell_type": "markdown",
   "source": [
    "### Lower-level API Client"
   ],
   "metadata": {
    "collapsed": false
   },
   "id": "77cff4056e6ad757"
  },
  {
   "cell_type": "markdown",
   "source": [
    "If you need to call certain endpoints that are not exposed by the SDK, use the lower-level API Client.\n",
    "You can access the client by using the `api_client` property on the `Cirro` class.\n",
    "\n",
    "\n",
    "The API client mirrors the [OpenAPI specification](https://api.dev.cirro.bio/openapi/views/redoc/index.html) of Cirro. It exposes every API endpoint under the syntax: `cirro_api_client.v1.api.<tag> import <endpoint>`. Models are exposed at `cirro_api_client.v1.models`.\n",
    "\n",
    "Each `tag` corresponds to a group of endpoints, such as datasets, metadata, projects, etc., and the `endpoint` corresponds to an operation.\n",
    "\n",
    "You can read more about the API client [here](https://github.com/CirroBio/Cirro-client-python). \n",
    "\n",
    "Each endpoint exposes a synchronous (`sync`) and asynchronous (`async`) function depending on if you use the async features in Python. All functions require you to pass in an instance of the API client (`client` parameter). You can pass in the `cirro.api_client` property here."
   ],
   "metadata": {
    "collapsed": false
   },
   "id": "7c395c1a541c36e7"
  },
  {
   "cell_type": "code",
   "outputs": [],
   "source": [
    "from cirro_api_client.v1.api.datasets import rerun_transform\n",
    "\n",
    "rerun_transform.sync_detailed(project_id=test_project.id, \n",
    "                              dataset_id=dataset_id,\n",
    "                              client=cirro.api_client)"
   ],
   "metadata": {
    "collapsed": false
   },
   "id": "f7c9bb8a45b9c0e0",
   "execution_count": null
  },
  {
   "cell_type": "code",
   "outputs": [
    {
     "data": {
      "text/plain": "[FileEntry(path='data/max_intensity_1.svg', size=67051, metadata=FileEntryMetadata(additional_properties={}), additional_properties={}),\n FileEntry(path='data/percent_base.svg', size=85084, metadata=FileEntryMetadata(additional_properties={}), additional_properties={}),\n FileEntry(path='data/run_metrics.html', size=3809, metadata=FileEntryMetadata(additional_properties={}), additional_properties={}),\n FileEntry(path='data/run_metrics.json', size=2360, metadata=FileEntryMetadata(additional_properties={}), additional_properties={})]"
     },
     "execution_count": 4,
     "metadata": {},
     "output_type": "execute_result"
    }
   ],
   "source": [
    "from cirro_api_client.v1.models import DatasetAssetsManifest\n",
    "from cirro_api_client.v1.api.datasets import get_dataset_manifest\n",
    "\n",
    "manifest: DatasetAssetsManifest = get_dataset_manifest.sync(project_id=test_project.id, \n",
    "                                                            dataset_id=dataset_id,\n",
    "                                                            client=cirro.api_client)\n",
    "manifest.files"
   ],
   "metadata": {
    "collapsed": false,
    "ExecuteTime": {
     "end_time": "2024-02-21T15:32:41.242435600Z",
     "start_time": "2024-02-21T15:32:40.985728800Z"
    }
   },
   "id": "1eee7eb53f86fce9",
   "execution_count": 4
  }
 ],
 "metadata": {
  "kernelspec": {
   "display_name": "Python 3",
   "language": "python",
   "name": "python3"
  },
  "language_info": {
   "codemirror_mode": {
    "name": "ipython",
    "version": 2
   },
   "file_extension": ".py",
   "mimetype": "text/x-python",
   "name": "python",
   "nbconvert_exporter": "python",
   "pygments_lexer": "ipython2",
   "version": "2.7.6"
  }
 },
 "nbformat": 4,
 "nbformat_minor": 5
}
