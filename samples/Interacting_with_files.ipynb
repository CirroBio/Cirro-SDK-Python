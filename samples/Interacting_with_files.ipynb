{
 "cells": [
  {
   "cell_type": "markdown",
   "metadata": {
    "pycharm": {
     "name": "#%% md\n"
    }
   },
   "source": [
    "## Interacting with files"
   ]
  },
  {
   "cell_type": "code",
   "metadata": {
    "pycharm": {
     "name": "#%%\n"
    },
    "ExecuteTime": {
     "end_time": "2025-03-25T19:16:07.482109Z",
     "start_time": "2025-03-25T19:16:06.304549Z"
    }
   },
   "source": [
    "from cirro import DataPortal\n",
    "\n",
    "portal = DataPortal()"
   ],
   "outputs": [],
   "execution_count": 1
  },
  {
   "cell_type": "markdown",
   "metadata": {},
   "source": [
    "Find the file you are looking for by defining the project and dataset, then searching for a particular file of interest based on a pattern using `filter_by_pattern`"
   ]
  },
  {
   "cell_type": "code",
   "execution_count": 2,
   "metadata": {
    "pycharm": {
     "name": "#%%\n"
    }
   },
   "outputs": [
    {
     "name": "stdout",
     "output_type": "stream",
     "text": [
      "The project Test Project contains 104 datasets\n",
      "Dataset Test of mageck-count contains 32 files\n",
      "Selected the file: data/mageck/count/combined/counts.txt (2090653 bytes)\n"
     ]
    }
   ],
   "source": [
    "# Get the project which contains the dataset\n",
    "project = portal.get_project_by_name('Test Project')\n",
    "\n",
    "# Get the set of datasets within that project\n",
    "all_datasets = project.list_datasets()\n",
    "print(f\"The project {project.name} contains {len(all_datasets):,} datasets\")\n",
    "\n",
    "# Get the dataset of interest based on its name\n",
    "dataset = all_datasets.get_by_name('Test of mageck-count')\n",
    "\n",
    "# Get the complete list of files in that dataset\n",
    "files = dataset.list_files()\n",
    "print(f\"Dataset {dataset.name} contains {len(files):,} files\")\n",
    "\n",
    "# Filter to just the files named counts.txt (using the wildcard to match the string of folders it is in)\n",
    "counts = files.filter_by_pattern(\"*/counts.txt\")\n",
    "\n",
    "print(f\"Selected the file: {counts.description()}\")"
   ]
  },
  {
   "cell_type": "markdown",
   "metadata": {
    "pycharm": {
     "name": "#%% md\n"
    }
   },
   "source": [
    "Load the contents of that file into a DataFrame (keeping in mind that it is tab-delimited, not the default comma-delimited)"
   ]
  },
  {
   "cell_type": "code",
   "execution_count": 3,
   "metadata": {
    "pycharm": {
     "name": "#%%\n"
    }
   },
   "outputs": [
    {
     "data": {
      "text/html": [
       "<div>\n",
       "<style scoped>\n",
       "    .dataframe tbody tr th:only-of-type {\n",
       "        vertical-align: middle;\n",
       "    }\n",
       "\n",
       "    .dataframe tbody tr th {\n",
       "        vertical-align: top;\n",
       "    }\n",
       "\n",
       "    .dataframe thead th {\n",
       "        text-align: right;\n",
       "    }\n",
       "</style>\n",
       "<table border=\"1\" class=\"dataframe\">\n",
       "  <thead>\n",
       "    <tr style=\"text-align: right;\">\n",
       "      <th></th>\n",
       "      <th>sgRNA</th>\n",
       "      <th>Gene</th>\n",
       "      <th>MO_Brunello_gDNA_2</th>\n",
       "      <th>MO_Brunello_1</th>\n",
       "      <th>MO_Brunello_2</th>\n",
       "      <th>MO_Brunello_gDNA_1</th>\n",
       "    </tr>\n",
       "  </thead>\n",
       "  <tbody>\n",
       "    <tr>\n",
       "      <th>0</th>\n",
       "      <td>A1BG_0</td>\n",
       "      <td>A1BG</td>\n",
       "      <td>0</td>\n",
       "      <td>0</td>\n",
       "      <td>0</td>\n",
       "      <td>0</td>\n",
       "    </tr>\n",
       "    <tr>\n",
       "      <th>1</th>\n",
       "      <td>A1BG_1</td>\n",
       "      <td>A1BG</td>\n",
       "      <td>0</td>\n",
       "      <td>0</td>\n",
       "      <td>0</td>\n",
       "      <td>2</td>\n",
       "    </tr>\n",
       "    <tr>\n",
       "      <th>2</th>\n",
       "      <td>A1BG_2</td>\n",
       "      <td>A1BG</td>\n",
       "      <td>0</td>\n",
       "      <td>0</td>\n",
       "      <td>0</td>\n",
       "      <td>0</td>\n",
       "    </tr>\n",
       "    <tr>\n",
       "      <th>3</th>\n",
       "      <td>A1BG_3</td>\n",
       "      <td>A1BG</td>\n",
       "      <td>0</td>\n",
       "      <td>0</td>\n",
       "      <td>2</td>\n",
       "      <td>0</td>\n",
       "    </tr>\n",
       "    <tr>\n",
       "      <th>4</th>\n",
       "      <td>A1CF_36946</td>\n",
       "      <td>A1CF</td>\n",
       "      <td>0</td>\n",
       "      <td>0</td>\n",
       "      <td>0</td>\n",
       "      <td>0</td>\n",
       "    </tr>\n",
       "  </tbody>\n",
       "</table>\n",
       "</div>"
      ],
      "text/plain": [
       "        sgRNA  Gene  MO_Brunello_gDNA_2  MO_Brunello_1  MO_Brunello_2  \\\n",
       "0      A1BG_0  A1BG                   0              0              0   \n",
       "1      A1BG_1  A1BG                   0              0              0   \n",
       "2      A1BG_2  A1BG                   0              0              0   \n",
       "3      A1BG_3  A1BG                   0              0              2   \n",
       "4  A1CF_36946  A1CF                   0              0              0   \n",
       "\n",
       "   MO_Brunello_gDNA_1  \n",
       "0                   0  \n",
       "1                   2  \n",
       "2                   0  \n",
       "3                   0  \n",
       "4                   0  "
      ]
     },
     "execution_count": 3,
     "metadata": {},
     "output_type": "execute_result"
    }
   ],
   "source": [
    "df = counts[0].read_csv(sep=\"\\t\")\n",
    "df.head()"
   ]
  },
  {
   "metadata": {},
   "cell_type": "markdown",
   "source": "You can also view any artifacts produced by running the analysis, such as the workflow report, graph, or logs."
  },
  {
   "metadata": {
    "ExecuteTime": {
     "end_time": "2025-03-25T19:16:35.472469Z",
     "start_time": "2025-03-25T19:16:31.215624Z"
    }
   },
   "cell_type": "code",
   "source": [
    "from cirro_api_client.v1.models import ArtifactType\n",
    "\n",
    "# Reading nextflow trace file\n",
    "trace_file = dataset.get_artifact(ArtifactType.WORKFLOW_TRACE)\n",
    "trace_df = trace_file.read_csv(sep=\"\\t\")\n",
    "trace_df.head()"
   ],
   "outputs": [
    {
     "data": {
      "text/plain": [
       "   task_id       hash                             native_id  \\\n",
       "0        7  99/b42c07  826623a0-0ed5-44ff-8a94-e3802cccf531   \n",
       "1        5  71/8e3d51  ace41478-ba98-403d-a6d1-3e95ad64c36f   \n",
       "2        8  71/535e08  9d499098-6ed7-422b-9233-9983f775fdee   \n",
       "3        1  41/c494ef  3a221dd3-7ca8-41e1-8212-856b6154be64   \n",
       "4        2  25/13b116  94f91d55-1d41-4afd-88b4-743d75817032   \n",
       "\n",
       "                     name     status  exit                   submit duration  \\\n",
       "0  trim:trim_adapters (4)  COMPLETED     0  2022-05-24 16:27:01.413   5m 38s   \n",
       "1  trim:trim_adapters (3)  COMPLETED     0  2022-05-24 16:27:01.421   5m 38s   \n",
       "2              fastqc (4)  COMPLETED     0  2022-05-24 16:27:01.464   5m 48s   \n",
       "3              fastqc (1)  COMPLETED     0  2022-05-24 16:27:01.465   5m 48s   \n",
       "4  trim:trim_adapters (1)  COMPLETED     0  2022-05-24 16:27:01.476   5m 58s   \n",
       "\n",
       "  realtime    %cpu  peak_rss peak_vmem    rchar     wchar  \n",
       "0       1s   76.6%    3.1 MB    5.4 MB   1.8 MB  900.5 KB  \n",
       "1       4s    6.4%   11.6 MB   17.3 MB   1.8 MB  900.5 KB  \n",
       "2       3s  104.8%  152.7 MB    3.2 GB  15.9 MB    4.1 MB  \n",
       "3       3s  102.5%  140.2 MB    3.2 GB    16 MB    4.1 MB  \n",
       "4       1s   75.8%    3.1 MB    5.4 MB   1.8 MB  900.5 KB  "
      ],
      "text/html": [
       "<div>\n",
       "<style scoped>\n",
       "    .dataframe tbody tr th:only-of-type {\n",
       "        vertical-align: middle;\n",
       "    }\n",
       "\n",
       "    .dataframe tbody tr th {\n",
       "        vertical-align: top;\n",
       "    }\n",
       "\n",
       "    .dataframe thead th {\n",
       "        text-align: right;\n",
       "    }\n",
       "</style>\n",
       "<table border=\"1\" class=\"dataframe\">\n",
       "  <thead>\n",
       "    <tr style=\"text-align: right;\">\n",
       "      <th></th>\n",
       "      <th>task_id</th>\n",
       "      <th>hash</th>\n",
       "      <th>native_id</th>\n",
       "      <th>name</th>\n",
       "      <th>status</th>\n",
       "      <th>exit</th>\n",
       "      <th>submit</th>\n",
       "      <th>duration</th>\n",
       "      <th>realtime</th>\n",
       "      <th>%cpu</th>\n",
       "      <th>peak_rss</th>\n",
       "      <th>peak_vmem</th>\n",
       "      <th>rchar</th>\n",
       "      <th>wchar</th>\n",
       "    </tr>\n",
       "  </thead>\n",
       "  <tbody>\n",
       "    <tr>\n",
       "      <th>0</th>\n",
       "      <td>7</td>\n",
       "      <td>99/b42c07</td>\n",
       "      <td>826623a0-0ed5-44ff-8a94-e3802cccf531</td>\n",
       "      <td>trim:trim_adapters (4)</td>\n",
       "      <td>COMPLETED</td>\n",
       "      <td>0</td>\n",
       "      <td>2022-05-24 16:27:01.413</td>\n",
       "      <td>5m 38s</td>\n",
       "      <td>1s</td>\n",
       "      <td>76.6%</td>\n",
       "      <td>3.1 MB</td>\n",
       "      <td>5.4 MB</td>\n",
       "      <td>1.8 MB</td>\n",
       "      <td>900.5 KB</td>\n",
       "    </tr>\n",
       "    <tr>\n",
       "      <th>1</th>\n",
       "      <td>5</td>\n",
       "      <td>71/8e3d51</td>\n",
       "      <td>ace41478-ba98-403d-a6d1-3e95ad64c36f</td>\n",
       "      <td>trim:trim_adapters (3)</td>\n",
       "      <td>COMPLETED</td>\n",
       "      <td>0</td>\n",
       "      <td>2022-05-24 16:27:01.421</td>\n",
       "      <td>5m 38s</td>\n",
       "      <td>4s</td>\n",
       "      <td>6.4%</td>\n",
       "      <td>11.6 MB</td>\n",
       "      <td>17.3 MB</td>\n",
       "      <td>1.8 MB</td>\n",
       "      <td>900.5 KB</td>\n",
       "    </tr>\n",
       "    <tr>\n",
       "      <th>2</th>\n",
       "      <td>8</td>\n",
       "      <td>71/535e08</td>\n",
       "      <td>9d499098-6ed7-422b-9233-9983f775fdee</td>\n",
       "      <td>fastqc (4)</td>\n",
       "      <td>COMPLETED</td>\n",
       "      <td>0</td>\n",
       "      <td>2022-05-24 16:27:01.464</td>\n",
       "      <td>5m 48s</td>\n",
       "      <td>3s</td>\n",
       "      <td>104.8%</td>\n",
       "      <td>152.7 MB</td>\n",
       "      <td>3.2 GB</td>\n",
       "      <td>15.9 MB</td>\n",
       "      <td>4.1 MB</td>\n",
       "    </tr>\n",
       "    <tr>\n",
       "      <th>3</th>\n",
       "      <td>1</td>\n",
       "      <td>41/c494ef</td>\n",
       "      <td>3a221dd3-7ca8-41e1-8212-856b6154be64</td>\n",
       "      <td>fastqc (1)</td>\n",
       "      <td>COMPLETED</td>\n",
       "      <td>0</td>\n",
       "      <td>2022-05-24 16:27:01.465</td>\n",
       "      <td>5m 48s</td>\n",
       "      <td>3s</td>\n",
       "      <td>102.5%</td>\n",
       "      <td>140.2 MB</td>\n",
       "      <td>3.2 GB</td>\n",
       "      <td>16 MB</td>\n",
       "      <td>4.1 MB</td>\n",
       "    </tr>\n",
       "    <tr>\n",
       "      <th>4</th>\n",
       "      <td>2</td>\n",
       "      <td>25/13b116</td>\n",
       "      <td>94f91d55-1d41-4afd-88b4-743d75817032</td>\n",
       "      <td>trim:trim_adapters (1)</td>\n",
       "      <td>COMPLETED</td>\n",
       "      <td>0</td>\n",
       "      <td>2022-05-24 16:27:01.476</td>\n",
       "      <td>5m 58s</td>\n",
       "      <td>1s</td>\n",
       "      <td>75.8%</td>\n",
       "      <td>3.1 MB</td>\n",
       "      <td>5.4 MB</td>\n",
       "      <td>1.8 MB</td>\n",
       "      <td>900.5 KB</td>\n",
       "    </tr>\n",
       "  </tbody>\n",
       "</table>\n",
       "</div>"
      ]
     },
     "execution_count": 3,
     "metadata": {},
     "output_type": "execute_result"
    }
   ],
   "execution_count": 3
  },
  {
   "metadata": {
    "ExecuteTime": {
     "end_time": "2025-03-25T19:18:48.517520Z",
     "start_time": "2025-03-25T19:18:48.161651Z"
    }
   },
   "cell_type": "code",
   "source": [
    "from IPython.display import display, SVG\n",
    "\n",
    "# Displaying the workflow graph\n",
    "graph = dataset.get_artifact(ArtifactType.WORKFLOW_DAG)\n",
    "display(SVG(graph.read()))"
   ],
   "outputs": [
    {
     "data": {
      "text/plain": [
       "<IPython.core.display.SVG object>"
      ],
      "image/svg+xml": "<svg xmlns=\"http://www.w3.org/2000/svg\" xmlns:xlink=\"http://www.w3.org/1999/xlink\" width=\"513pt\" height=\"471pt\" viewBox=\"0.00 0.00 512.90 470.60\">\n<g id=\"graph0\" class=\"graph\" transform=\"scale(1 1) rotate(0) translate(4 466.6)\">\n<title>flowchart</title>\n<polygon fill=\"white\" stroke=\"white\" points=\"-4,5 -4,-466.6 509.9,-466.6 509.9,5 -4,5\"/>\n<!-- p0 -->\n<g id=\"node1\" class=\"node\"><title>p0</title>\n<ellipse fill=\"black\" stroke=\"black\" cx=\"137.5\" cy=\"-444\" rx=\"3.6\" ry=\"3.6\"/>\n<text text-anchor=\"middle\" x=\"68.9\" y=\"-451.4\" font-family=\"Times,serif\" font-size=\"14.00\">Channel.fromPath</text>\n</g>\n<!-- p2 -->\n<g id=\"node2\" class=\"node\"><title>p2</title>\n<ellipse fill=\"none\" stroke=\"black\" cx=\"95.5\" cy=\"-370\" rx=\"39.4691\" ry=\"18\"/>\n<text text-anchor=\"middle\" x=\"95.5\" y=\"-366.3\" font-family=\"Times,serif\" font-size=\"14.00\">fastqc</text>\n</g>\n<!-- p0&#45;&gt;p2 -->\n<g id=\"edge1\" class=\"edge\"><title>p0-&gt;p2</title>\n<path fill=\"none\" stroke=\"black\" d=\"M134.182,-442.465C126.048,-440.956 105.146,-435.836 96.5,-422 92.1927,-415.107 90.8454,-406.601 90.8892,-398.525\"/>\n<polygon fill=\"black\" stroke=\"black\" points=\"94.3962,-398.551 91.6163,-388.327 87.4139,-398.053 94.3962,-398.551\"/>\n<text text-anchor=\"middle\" x=\"127\" y=\"-410.3\" font-family=\"Times,serif\" font-size=\"14.00\">fastq_ch</text>\n</g>\n<!-- p10 -->\n<g id=\"node11\" class=\"node\"><title>p10</title>\n<ellipse fill=\"none\" stroke=\"black\" cx=\"257.5\" cy=\"-370\" rx=\"99.1619\" ry=\"18\"/>\n<text text-anchor=\"middle\" x=\"257.5\" y=\"-366.3\" font-family=\"Times,serif\" font-size=\"14.00\">trim:trim_adapters</text>\n</g>\n<!-- p0&#45;&gt;p10 -->\n<g id=\"edge9\" class=\"edge\"><title>p0-&gt;p10</title>\n<path fill=\"none\" stroke=\"black\" d=\"M140.127,-441.252C148.262,-435.856 173.793,-419.038 195.5,-406 203.122,-401.422 211.355,-396.654 219.255,-392.163\"/>\n<polygon fill=\"black\" stroke=\"black\" points=\"220.994,-395.2 227.982,-387.236 217.553,-389.105 220.994,-395.2\"/>\n<text text-anchor=\"middle\" x=\"226\" y=\"-410.3\" font-family=\"Times,serif\" font-size=\"14.00\">fastq_ch</text>\n</g>\n<!-- p3 -->\n<g id=\"node5\" class=\"node\"><title>p3</title>\n<ellipse fill=\"black\" stroke=\"black\" cx=\"70.5\" cy=\"-282\" rx=\"1.8\" ry=\"1.8\"/>\n</g>\n<!-- p2&#45;&gt;p3 -->\n<g id=\"edge3\" class=\"edge\"><title>p2-&gt;p3</title>\n<path fill=\"none\" stroke=\"black\" d=\"M90.5608,-352.009C85.5572,-334.797 77.9645,-308.678 73.6989,-294.004\"/>\n<polygon fill=\"black\" stroke=\"black\" points=\"76.9742,-292.732 70.8218,-284.107 70.2524,-294.686 76.9742,-292.732\"/>\n</g>\n<!-- p6 -->\n<g id=\"node6\" class=\"node\"><title>p6</title>\n<ellipse fill=\"none\" stroke=\"black\" cx=\"94.5\" cy=\"-282\" rx=\"3.25\" ry=\"3.5\"/>\n<text text-anchor=\"middle\" x=\"45.5\" y=\"-289.3\" font-family=\"Times,serif\" font-size=\"14.00\">toSortedList</text>\n</g>\n<!-- p2&#45;&gt;p6 -->\n<g id=\"edge4\" class=\"edge\"><title>p2-&gt;p6</title>\n<path fill=\"none\" stroke=\"black\" d=\"M95.2976,-351.597C95.1052,-335.046 94.8202,-310.54 94.6481,-295.737\"/>\n<polygon fill=\"black\" stroke=\"black\" points=\"98.1472,-295.63 94.5311,-285.671 91.1477,-295.711 98.1472,-295.63\"/>\n</g>\n<!-- p4 -->\n<g id=\"node7\" class=\"node\"><title>p4</title>\n<ellipse fill=\"none\" stroke=\"black\" cx=\"186.5\" cy=\"-282\" rx=\"70.2909\" ry=\"18\"/>\n<text text-anchor=\"middle\" x=\"186.5\" y=\"-278.3\" font-family=\"Times,serif\" font-size=\"14.00\">parse_fastqc</text>\n</g>\n<!-- p2&#45;&gt;p4 -->\n<g id=\"edge5\" class=\"edge\"><title>p2-&gt;p4</title>\n<path fill=\"none\" stroke=\"black\" d=\"M112.191,-353.226C126.037,-340.141 145.929,-321.342 161.648,-306.487\"/>\n<polygon fill=\"black\" stroke=\"black\" points=\"164.121,-308.965 168.985,-299.553 159.313,-303.878 164.121,-308.965\"/>\n</g>\n<!-- p1 -->\n<g id=\"node3\" class=\"node\"><title>p1</title>\n<ellipse fill=\"black\" stroke=\"black\" cx=\"378.5\" cy=\"-370\" rx=\"3.6\" ry=\"3.6\"/>\n<text text-anchor=\"middle\" x=\"439.9\" y=\"-377.4\" font-family=\"Times,serif\" font-size=\"14.00\">Channel.fromPath</text>\n</g>\n<!-- p11 -->\n<g id=\"node4\" class=\"node\"><title>p11</title>\n<ellipse fill=\"none\" stroke=\"black\" cx=\"281.5\" cy=\"-282\" rx=\"3.25\" ry=\"3.5\"/>\n<text text-anchor=\"middle\" x=\"308.5\" y=\"-289.3\" font-family=\"Times,serif\" font-size=\"14.00\">combine</text>\n</g>\n<!-- p1&#45;&gt;p11 -->\n<g id=\"edge2\" class=\"edge\"><title>p1-&gt;p11</title>\n<path fill=\"none\" stroke=\"black\" d=\"M376.819,-366.432C374.492,-362.967 370.055,-356.692 365.5,-352 339.969,-325.706 329.686,-323.425 301.5,-300 298.206,-297.262 294.634,-294.243 291.433,-291.518\"/>\n<polygon fill=\"black\" stroke=\"black\" points=\"293.462,-288.647 283.589,-284.802 288.909,-293.965 293.462,-288.647\"/>\n<text text-anchor=\"middle\" x=\"407\" y=\"-322.3\" font-family=\"Times,serif\" font-size=\"14.00\">Channel_Library</text>\n</g>\n<!-- p13 -->\n<g id=\"node13\" class=\"node\"><title>p13</title>\n<ellipse fill=\"none\" stroke=\"black\" cx=\"299.5\" cy=\"-194\" rx=\"78.4642\" ry=\"18\"/>\n<text text-anchor=\"middle\" x=\"299.5\" y=\"-190.3\" font-family=\"Times,serif\" font-size=\"14.00\">mageck_count</text>\n</g>\n<!-- p11&#45;&gt;p13 -->\n<g id=\"edge12\" class=\"edge\"><title>p11-&gt;p13</title>\n<path fill=\"none\" stroke=\"black\" d=\"M282.019,-278.519C283.735,-270.32 289.366,-243.419 293.778,-222.337\"/>\n<polygon fill=\"black\" stroke=\"black\" points=\"297.263,-222.773 295.886,-212.268 290.411,-221.339 297.263,-222.773\"/>\n</g>\n<!-- p7 -->\n<g id=\"node9\" class=\"node\"><title>p7</title>\n<ellipse fill=\"none\" stroke=\"black\" cx=\"94.5\" cy=\"-194\" rx=\"46.2191\" ry=\"18\"/>\n<text text-anchor=\"middle\" x=\"94.5\" y=\"-190.3\" font-family=\"Times,serif\" font-size=\"14.00\">multiqc</text>\n</g>\n<!-- p6&#45;&gt;p7 -->\n<g id=\"edge7\" class=\"edge\"><title>p6-&gt;p7</title>\n<path fill=\"none\" stroke=\"black\" d=\"M94.5,-278.139C94.5,-269.502 94.5,-243.011 94.5,-222.227\"/>\n<polygon fill=\"black\" stroke=\"black\" points=\"98.0001,-222.004 94.5,-212.004 91.0001,-222.004 98.0001,-222.004\"/>\n</g>\n<!-- p5 -->\n<g id=\"node8\" class=\"node\"><title>p5</title>\n<ellipse fill=\"black\" stroke=\"black\" cx=\"186.5\" cy=\"-194\" rx=\"1.8\" ry=\"1.8\"/>\n</g>\n<!-- p4&#45;&gt;p5 -->\n<g id=\"edge6\" class=\"edge\"><title>p4-&gt;p5</title>\n<path fill=\"none\" stroke=\"black\" d=\"M186.5,-263.597C186.5,-246.516 186.5,-220.965 186.5,-206.348\"/>\n<polygon fill=\"black\" stroke=\"black\" points=\"190,-206.095 186.5,-196.095 183,-206.095 190,-206.095\"/>\n</g>\n<!-- p8 -->\n<g id=\"node10\" class=\"node\"><title>p8</title>\n<ellipse fill=\"black\" stroke=\"black\" cx=\"94.5\" cy=\"-134\" rx=\"1.8\" ry=\"1.8\"/>\n</g>\n<!-- p7&#45;&gt;p8 -->\n<g id=\"edge8\" class=\"edge\"><title>p7-&gt;p8</title>\n<path fill=\"none\" stroke=\"black\" d=\"M94.5,-175.912C94.5,-166.322 94.5,-154.628 94.5,-146.202\"/>\n<polygon fill=\"black\" stroke=\"black\" points=\"98.0001,-146.056 94.5,-136.056 91.0001,-146.056 98.0001,-146.056\"/>\n</g>\n<!-- p10&#45;&gt;p11 -->\n<g id=\"edge11\" class=\"edge\"><title>p10-&gt;p11</title>\n<path fill=\"none\" stroke=\"black\" d=\"M262.242,-352.009C266.891,-335.35 273.868,-310.349 278.024,-295.455\"/>\n<polygon fill=\"black\" stroke=\"black\" points=\"281.504,-296.005 280.821,-285.432 274.762,-294.124 281.504,-296.005\"/>\n</g>\n<!-- p9 -->\n<g id=\"node12\" class=\"node\"><title>p9</title>\n<ellipse fill=\"black\" stroke=\"black\" cx=\"263.5\" cy=\"-444\" rx=\"3.6\" ry=\"3.6\"/>\n</g>\n<!-- p9&#45;&gt;p10 -->\n<g id=\"edge10\" class=\"edge\"><title>p9-&gt;p10</title>\n<path fill=\"none\" stroke=\"black\" d=\"M263.272,-440.265C262.696,-433.354 261.132,-414.578 259.776,-398.316\"/>\n<polygon fill=\"black\" stroke=\"black\" points=\"263.247,-397.818 258.929,-388.143 256.271,-398.399 263.247,-397.818\"/>\n<text text-anchor=\"middle\" x=\"284\" y=\"-410.3\" font-family=\"Times,serif\" font-size=\"14.00\">prefix</text>\n</g>\n<!-- p14 -->\n<g id=\"node15\" class=\"node\"><title>p14</title>\n<ellipse fill=\"black\" stroke=\"black\" cx=\"286.5\" cy=\"-134\" rx=\"1.8\" ry=\"1.8\"/>\n</g>\n<!-- p13&#45;&gt;p14 -->\n<g id=\"edge14\" class=\"edge\"><title>p13-&gt;p14</title>\n<path fill=\"none\" stroke=\"black\" d=\"M295.67,-175.912C293.494,-166.205 290.835,-154.342 288.942,-145.896\"/>\n<polygon fill=\"black\" stroke=\"black\" points=\"292.339,-145.049 286.737,-136.056 285.509,-146.58 292.339,-145.049\"/>\n</g>\n<!-- p15 -->\n<g id=\"node16\" class=\"node\"><title>p15</title>\n<ellipse fill=\"none\" stroke=\"black\" cx=\"311.5\" cy=\"-134\" rx=\"3.25\" ry=\"3.5\"/>\n<text text-anchor=\"middle\" x=\"262.5\" y=\"-141.3\" font-family=\"Times,serif\" font-size=\"14.00\">toSortedList</text>\n</g>\n<!-- p13&#45;&gt;p15 -->\n<g id=\"edge15\" class=\"edge\"><title>p13-&gt;p15</title>\n<path fill=\"none\" stroke=\"black\" d=\"M303.035,-175.912C304.909,-166.858 307.17,-155.93 308.883,-147.647\"/>\n<polygon fill=\"black\" stroke=\"black\" points=\"312.345,-148.193 310.943,-137.691 305.49,-146.774 312.345,-148.193\"/>\n</g>\n<!-- p12 -->\n<g id=\"node14\" class=\"node\"><title>p12</title>\n<ellipse fill=\"black\" stroke=\"black\" cx=\"314.5\" cy=\"-282\" rx=\"3.6\" ry=\"3.6\"/>\n</g>\n<!-- p12&#45;&gt;p13 -->\n<g id=\"edge13\" class=\"edge\"><title>p12-&gt;p13</title>\n<path fill=\"none\" stroke=\"black\" d=\"M314.001,-278.139C312.488,-269.462 307.832,-242.767 304.199,-221.942\"/>\n<polygon fill=\"black\" stroke=\"black\" points=\"307.632,-221.254 302.466,-212.004 300.736,-222.456 307.632,-221.254\"/>\n<text text-anchor=\"middle\" x=\"330\" y=\"-234.3\" font-family=\"Times,serif\" font-size=\"14.00\">prefix</text>\n</g>\n<!-- p17 -->\n<g id=\"node17\" class=\"node\"><title>p17</title>\n<ellipse fill=\"none\" stroke=\"black\" cx=\"327.5\" cy=\"-60\" rx=\"114.085\" ry=\"18\"/>\n<text text-anchor=\"middle\" x=\"327.5\" y=\"-56.3\" font-family=\"Times,serif\" font-size=\"14.00\">mageck_merge_single</text>\n</g>\n<!-- p15&#45;&gt;p17 -->\n<g id=\"edge16\" class=\"edge\"><title>p15-&gt;p17</title>\n<path fill=\"none\" stroke=\"black\" d=\"M312.108,-130.265C313.644,-123.354 317.816,-104.578 321.43,-88.3163\"/>\n<polygon fill=\"black\" stroke=\"black\" points=\"324.938,-88.6641 323.69,-78.1429 318.104,-87.1455 324.938,-88.6641\"/>\n</g>\n<!-- p19 -->\n<g id=\"node19\" class=\"node\"><title>p19</title>\n<ellipse fill=\"black\" stroke=\"black\" cx=\"315.5\" cy=\"-2\" rx=\"1.8\" ry=\"1.8\"/>\n</g>\n<!-- p17&#45;&gt;p19 -->\n<g id=\"edge18\" class=\"edge\"><title>p17-&gt;p19</title>\n<path fill=\"none\" stroke=\"black\" d=\"M323.834,-41.8939C321.88,-32.775 319.535,-21.8299 317.831,-13.8767\"/>\n<polygon fill=\"black\" stroke=\"black\" points=\"321.231,-13.0404 315.713,-3.99575 314.386,-14.5072 321.231,-13.0404\"/>\n</g>\n<!-- p18 -->\n<g id=\"node20\" class=\"node\"><title>p18</title>\n<ellipse fill=\"black\" stroke=\"black\" cx=\"340.5\" cy=\"-2\" rx=\"1.8\" ry=\"1.8\"/>\n</g>\n<!-- p17&#45;&gt;p18 -->\n<g id=\"edge19\" class=\"edge\"><title>p17-&gt;p18</title>\n<path fill=\"none\" stroke=\"black\" d=\"M331.471,-41.8939C333.588,-32.775 336.129,-21.8299 337.975,-13.8767\"/>\n<polygon fill=\"black\" stroke=\"black\" points=\"341.417,-14.5282 340.269,-3.99575 334.598,-12.9452 341.417,-14.5282\"/>\n</g>\n<!-- p16 -->\n<g id=\"node18\" class=\"node\"><title>p16</title>\n<ellipse fill=\"black\" stroke=\"black\" cx=\"344.5\" cy=\"-134\" rx=\"3.6\" ry=\"3.6\"/>\n</g>\n<!-- p16&#45;&gt;p17 -->\n<g id=\"edge17\" class=\"edge\"><title>p16-&gt;p17</title>\n<path fill=\"none\" stroke=\"black\" d=\"M343.854,-130.265C342.222,-123.354 337.789,-104.578 333.95,-88.3163\"/>\n<polygon fill=\"black\" stroke=\"black\" points=\"337.252,-87.071 331.548,-78.1429 330.439,-88.6796 337.252,-87.071\"/>\n<text text-anchor=\"middle\" x=\"361\" y=\"-100.3\" font-family=\"Times,serif\" font-size=\"14.00\">prefix</text>\n</g>\n</g>\n</svg>"
     },
     "metadata": {},
     "output_type": "display_data"
    }
   ],
   "execution_count": 6
  }
 ],
 "metadata": {
  "kernelspec": {
   "display_name": "Python 3 (ipykernel)",
   "language": "python",
   "name": "python3"
  },
  "language_info": {
   "codemirror_mode": {
    "name": "ipython",
    "version": 3
   },
   "file_extension": ".py",
   "mimetype": "text/x-python",
   "name": "python",
   "nbconvert_exporter": "python",
   "pygments_lexer": "ipython3",
   "version": "3.9.12"
  },
  "vscode": {
   "interpreter": {
    "hash": "aee8b7b246df8f9039afb4144a1f6fd8d2ca17a180786b69acc140d282b71a49"
   }
  }
 },
 "nbformat": 4,
 "nbformat_minor": 1
}
