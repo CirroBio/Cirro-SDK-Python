{
 "cells": [
  {
   "cell_type": "markdown",
   "metadata": {
    "pycharm": {
     "name": "#%% md\n"
    }
   },
   "source": [
    "## Interacting with files"
   ]
  },
  {
   "cell_type": "code",
   "execution_count": 1,
   "metadata": {
    "pycharm": {
     "name": "#%%\n"
    }
   },
   "outputs": [],
   "source": [
    "from pubweb import DataPortal\n",
    "\n",
    "portal = DataPortal()"
   ]
  },
  {
   "cell_type": "markdown",
   "metadata": {},
   "source": [
    "Find the file you are looking for by defining the project and dataset, then searching for a particular file of interest based on a pattern using `filter_by_pattern`"
   ]
  },
  {
   "cell_type": "code",
   "execution_count": 2,
   "metadata": {
    "pycharm": {
     "name": "#%%\n"
    }
   },
   "outputs": [
    {
     "name": "stdout",
     "output_type": "stream",
     "text": [
      "The project Test Project contains 99 datasets\n",
      "Dataset Test of mageck-count contains 32 files\n",
      "Selected the file: data/mageck/count/combined/counts.txt (2090653 bytes)\n"
     ]
    }
   ],
   "source": [
    "# Get the project which contains the dataset\n",
    "project = portal.get_project_by_name('Test Project')\n",
    "\n",
    "# Get the set of datasets within that project\n",
    "all_datasets = project.list_datasets()\n",
    "print(f\"The project {project.name} contains {len(all_datasets):,} datasets\")\n",
    "\n",
    "# Get the dataset of interest based on its name\n",
    "dataset = all_datasets.get_by_name('Test of mageck-count')\n",
    "\n",
    "# Get the complete list of files in that dataset\n",
    "files = dataset.list_files()\n",
    "print(f\"Dataset {dataset.name} contains {len(files):,} files\")\n",
    "\n",
    "# Filter to just the files named counts.txt (using the wildcard to match the string of folders it is in)\n",
    "counts = files.filter_by_pattern(\"*/counts.txt\")\n",
    "\n",
    "print(f\"Selected the file: {counts.description()}\")"
   ]
  },
  {
   "cell_type": "markdown",
   "metadata": {
    "pycharm": {
     "name": "#%% md\n"
    }
   },
   "source": [
    "Load the contents of that file into a DataFrame (keeping in mind that it is tab-delimited, not the default comma-delimited)"
   ]
  },
  {
   "cell_type": "code",
   "execution_count": 3,
   "metadata": {
    "pycharm": {
     "name": "#%%\n"
    }
   },
   "outputs": [
    {
     "data": {
      "text/html": [
       "<div>\n",
       "<style scoped>\n",
       "    .dataframe tbody tr th:only-of-type {\n",
       "        vertical-align: middle;\n",
       "    }\n",
       "\n",
       "    .dataframe tbody tr th {\n",
       "        vertical-align: top;\n",
       "    }\n",
       "\n",
       "    .dataframe thead th {\n",
       "        text-align: right;\n",
       "    }\n",
       "</style>\n",
       "<table border=\"1\" class=\"dataframe\">\n",
       "  <thead>\n",
       "    <tr style=\"text-align: right;\">\n",
       "      <th></th>\n",
       "      <th>sgRNA</th>\n",
       "      <th>Gene</th>\n",
       "      <th>MO_Brunello_gDNA_2</th>\n",
       "      <th>MO_Brunello_1</th>\n",
       "      <th>MO_Brunello_2</th>\n",
       "      <th>MO_Brunello_gDNA_1</th>\n",
       "    </tr>\n",
       "  </thead>\n",
       "  <tbody>\n",
       "    <tr>\n",
       "      <th>0</th>\n",
       "      <td>A1BG_0</td>\n",
       "      <td>A1BG</td>\n",
       "      <td>0</td>\n",
       "      <td>0</td>\n",
       "      <td>0</td>\n",
       "      <td>0</td>\n",
       "    </tr>\n",
       "    <tr>\n",
       "      <th>1</th>\n",
       "      <td>A1BG_1</td>\n",
       "      <td>A1BG</td>\n",
       "      <td>0</td>\n",
       "      <td>0</td>\n",
       "      <td>0</td>\n",
       "      <td>2</td>\n",
       "    </tr>\n",
       "    <tr>\n",
       "      <th>2</th>\n",
       "      <td>A1BG_2</td>\n",
       "      <td>A1BG</td>\n",
       "      <td>0</td>\n",
       "      <td>0</td>\n",
       "      <td>0</td>\n",
       "      <td>0</td>\n",
       "    </tr>\n",
       "    <tr>\n",
       "      <th>3</th>\n",
       "      <td>A1BG_3</td>\n",
       "      <td>A1BG</td>\n",
       "      <td>0</td>\n",
       "      <td>0</td>\n",
       "      <td>2</td>\n",
       "      <td>0</td>\n",
       "    </tr>\n",
       "    <tr>\n",
       "      <th>4</th>\n",
       "      <td>A1CF_36946</td>\n",
       "      <td>A1CF</td>\n",
       "      <td>0</td>\n",
       "      <td>0</td>\n",
       "      <td>0</td>\n",
       "      <td>0</td>\n",
       "    </tr>\n",
       "  </tbody>\n",
       "</table>\n",
       "</div>"
      ],
      "text/plain": [
       "        sgRNA  Gene  MO_Brunello_gDNA_2  MO_Brunello_1  MO_Brunello_2  \\\n",
       "0      A1BG_0  A1BG                   0              0              0   \n",
       "1      A1BG_1  A1BG                   0              0              0   \n",
       "2      A1BG_2  A1BG                   0              0              0   \n",
       "3      A1BG_3  A1BG                   0              0              2   \n",
       "4  A1CF_36946  A1CF                   0              0              0   \n",
       "\n",
       "   MO_Brunello_gDNA_1  \n",
       "0                   0  \n",
       "1                   2  \n",
       "2                   0  \n",
       "3                   0  \n",
       "4                   0  "
      ]
     },
     "execution_count": 3,
     "metadata": {},
     "output_type": "execute_result"
    }
   ],
   "source": [
    "df = counts[0].read_csv(sep=\"\\t\")\n",
    "df.head()"
   ]
  },
  {
   "cell_type": "code",
   "execution_count": null,
   "metadata": {},
   "outputs": [],
   "source": []
  }
 ],
 "metadata": {
  "kernelspec": {
   "display_name": "Python 3 (ipykernel)",
   "language": "python",
   "name": "python3"
  },
  "language_info": {
   "codemirror_mode": {
    "name": "ipython",
    "version": 3
   },
   "file_extension": ".py",
   "mimetype": "text/x-python",
   "name": "python",
   "nbconvert_exporter": "python",
   "pygments_lexer": "ipython3",
   "version": "3.9.12"
  },
  "vscode": {
   "interpreter": {
    "hash": "aee8b7b246df8f9039afb4144a1f6fd8d2ca17a180786b69acc140d282b71a49"
   }
  }
 },
 "nbformat": 4,
 "nbformat_minor": 1
}
