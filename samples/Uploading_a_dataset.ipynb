{
 "cells": [
  {
   "cell_type": "markdown",
   "metadata": {
    "pycharm": {
     "name": "#%% md\n"
    }
   },
   "source": [
    "## Uploading a dataset"
   ]
  },
  {
   "cell_type": "code",
   "execution_count": 1,
   "metadata": {},
   "outputs": [],
   "source": [
    "from pubweb.helpers import DataPortal\n",
    "portal = DataPortal()"
   ]
  },
  {
   "cell_type": "markdown",
   "metadata": {
    "pycharm": {
     "name": "#%% md\n"
    }
   },
   "source": [
    "To upload a dataset to the portal, you need to specify:\n",
    "\n",
    "  1. The project which it will be uploaded to\n",
    "  2. The process which should be used to ingest the data\n",
    "  3. The name and description of the dataset\n",
    "  4. The folder which contains the files to upload\n",
    "  5. Optionally, a filtered list of files which should be uploaded (default is to upload all files in a folder)\n",
    "\n",
    "First, get the project where the dataset will be uploaded"
   ]
  },
  {
   "cell_type": "code",
   "execution_count": 2,
   "metadata": {
    "pycharm": {
     "name": "#%%\n"
    }
   },
   "outputs": [
    {
     "name": "stdout",
     "output_type": "stream",
     "text": [
      "Name: Test Project\n",
      "ID: 9a31492a-e679-43ce-9f06-d84213c8f7f7\n"
     ]
    }
   ],
   "source": [
    "project = portal.get_project_by_name(\"Test Project\")\n",
    "print(f\"Name: {project.name}\")\n",
    "print(f\"ID: {project.id}\")"
   ]
  },
  {
   "cell_type": "markdown",
   "metadata": {},
   "source": [
    "Next, select the process which will be used for ingesting the data"
   ]
  },
  {
   "cell_type": "code",
   "execution_count": 3,
   "metadata": {
    "pycharm": {
     "name": "#%%\n"
    }
   },
   "outputs": [
    {
     "name": "stdout",
     "output_type": "stream",
     "text": [
      "There are 12 different ingest processes available\n",
      "\n",
      "Selected process:\n",
      "Name: Paired DNAseq (FASTQ)\n",
      "Id: paired_dnaseq\n",
      "Description: FASTQ files generated from paired-end sequencing of DNA libraries\n"
     ]
    }
   ],
   "source": [
    "# Get a list of all available ingest processes\n",
    "ingest_processes = portal.list_processes(ingest=True)\n",
    "print(f\"There are {len(ingest_processes):,} different ingest processes available\")\n",
    "# print(ingest_processes.description())\n",
    "\n",
    "# Select the process used to ingest paired DNA sequencing data\n",
    "process = ingest_processes.get_by_name(\"Paired DNAseq (FASTQ)\")\n",
    "print(\"\\nSelected process:\")\n",
    "print(str(process))\n",
    "\n",
    "# To do the above in a single step, simply run:\n",
    "# process = portal.get_process_by_name(\"Paired DNAseq (FASTQ)\", ingest=True)"
   ]
  },
  {
   "cell_type": "markdown",
   "metadata": {
    "pycharm": {
     "name": "#%% md\n"
    }
   },
   "source": [
    "If you want to upload just a subset of files from a folder, you just need to make a list of the filenames (paths relative to the upload directory) which you want to upload. This overrides the default behavior of uploading everything from the upload directory.\n",
    "\n",
    "We've included two helper functions to get a list of files in the specified directory and filter them.\n",
    "\n",
    "You can also manually create the list of files (using those relative paths)"
   ]
  },
  {
   "cell_type": "code",
   "execution_count": 4,
   "metadata": {
    "pycharm": {
     "name": "#%%\n"
    },
    "scrolled": true
   },
   "outputs": [
    {
     "data": {
      "text/plain": [
       "['test.fastq.gz']"
      ]
     },
     "execution_count": 4,
     "metadata": {},
     "output_type": "execute_result"
    }
   ],
   "source": [
    "from pubweb.file_utils import get_files_in_directory, filter_files_by_pattern\n",
    "\n",
    "directory_to_upload = '/tmp'\n",
    "\n",
    "files = get_files_in_directory(directory_to_upload)\n",
    "files_to_upload = filter_files_by_pattern(files, '*.fastq.gz')\n",
    "files_to_upload"
   ]
  },
  {
   "cell_type": "markdown",
   "metadata": {},
   "source": [
    "Fill in information on your new dataset in the `name` and `description` variables and then run to upload new data"
   ]
  },
  {
   "cell_type": "code",
   "execution_count": 5,
   "metadata": {
    "pycharm": {
     "name": "#%%\n"
    }
   },
   "outputs": [
    {
     "name": "stderr",
     "output_type": "stream",
     "text": [
      "Uploading file test.fastq.gz (180.76 KB) | 100.0%|█████████████████████████ | 584kB/s\n"
     ]
    },
    {
     "name": "stdout",
     "output_type": "stream",
     "text": [
      "Name: Test dataset\n",
      "Id: 27f3ef9d-8f2f-4715-8507-05997a197f2d\n",
      "Description: \n",
      "Status: COMPLETED\n"
     ]
    }
   ],
   "source": [
    "# Upload the data and return the new dataset object\n",
    "uploaded_dataset = project.upload_dataset(\n",
    "    name = 'Test dataset',\n",
    "    description = '',\n",
    "    upload_folder = '/tmp',\n",
    "    files = files_to_upload,\n",
    "    process = process\n",
    ")\n",
    "\n",
    "print(str(uploaded_dataset))"
   ]
  },
  {
   "cell_type": "code",
   "execution_count": null,
   "metadata": {},
   "outputs": [],
   "source": []
  }
 ],
 "metadata": {
  "kernelspec": {
   "display_name": "Python 3 (ipykernel)",
   "language": "python",
   "name": "python3"
  },
  "language_info": {
   "codemirror_mode": {
    "name": "ipython",
    "version": 3
   },
   "file_extension": ".py",
   "mimetype": "text/x-python",
   "name": "python",
   "nbconvert_exporter": "python",
   "pygments_lexer": "ipython3",
   "version": "3.9.12"
  }
 },
 "nbformat": 4,
 "nbformat_minor": 1
}
