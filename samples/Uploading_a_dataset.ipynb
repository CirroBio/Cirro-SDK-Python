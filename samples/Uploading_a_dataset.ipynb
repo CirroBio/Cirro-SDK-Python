{
 "cells": [
  {
   "cell_type": "markdown",
   "metadata": {
    "pycharm": {
     "name": "#%% md\n"
    }
   },
   "source": [
    "## Uploading a dataset"
   ]
  },
  {
   "cell_type": "code",
   "execution_count": 1,
   "metadata": {},
   "outputs": [],
   "source": [
    "from pubweb import PubWeb\n",
    "client = PubWeb()"
   ]
  },
  {
   "cell_type": "markdown",
   "metadata": {
    "pycharm": {
     "name": "#%% md\n"
    }
   },
   "source": [
    "View a list of projects and processes to get the ID for the project you want to upload to.\n",
    "You can also find the project ID by looking at the URL on the data portal."
   ]
  },
  {
   "cell_type": "code",
   "execution_count": 2,
   "metadata": {
    "pycharm": {
     "name": "#%%\n"
    }
   },
   "outputs": [
    {
     "data": {
      "text/plain": [
       "Project(id='9a31492a-e679-43ce-9f06-d84213c8f7f7', name='Test Project', description='Project used to test updates to the Portal')"
      ]
     },
     "execution_count": 2,
     "metadata": {},
     "output_type": "execute_result"
    }
   ],
   "source": [
    "projects = client.project.list()\n",
    "projects\n",
    "project = projects[2]\n",
    "project"
   ]
  },
  {
   "cell_type": "markdown",
   "metadata": {},
   "source": [
    "Select the ingestion process we will use to ingest the data"
   ]
  },
  {
   "cell_type": "code",
   "execution_count": 3,
   "metadata": {
    "pycharm": {
     "name": "#%%\n"
    }
   },
   "outputs": [
    {
     "data": {
      "text/plain": [
       "Process(id='custom_dataset', name='Custom Dataset', description='Any collection of files provided by the user', child_process_ids=None, executor=<Executor.INGEST: 'INGEST'>, documentation_url=None, code=None, form_spec_json=None, sample_sheet_path=None, file_requirements_message=None, file_mapping_rules=None)"
      ]
     },
     "execution_count": 3,
     "metadata": {},
     "output_type": "execute_result"
    }
   ],
   "source": [
    "from pubweb.models.process import Executor\n",
    "\n",
    "ingest_processes = client.process.list(Executor.INGEST)\n",
    "process = ingest_processes[3]\n",
    "process"
   ]
  },
  {
   "cell_type": "markdown",
   "metadata": {
    "pycharm": {
     "name": "#%% md\n"
    }
   },
   "source": [
    "We've included two helper functions to get a list of files in the specified directory and filter them.\n",
    "\n",
    "You can also manually create the list of files (using the relative paths)"
   ]
  },
  {
   "cell_type": "code",
   "execution_count": 4,
   "metadata": {
    "pycharm": {
     "name": "#%%\n"
    }
   },
   "outputs": [
    {
     "data": {
      "text/plain": [
       "['test.fastq.gz']"
      ]
     },
     "execution_count": 4,
     "metadata": {},
     "output_type": "execute_result"
    }
   ],
   "source": [
    "from pubweb.file_utils import get_files_in_directory, filter_files_by_pattern\n",
    "\n",
    "directory_to_upload = '/test'\n",
    "\n",
    "files = get_files_in_directory(directory_to_upload)\n",
    "files_to_upload = filter_files_by_pattern(files, '*.fastq.gz')\n",
    "files_to_upload"
   ]
  },
  {
   "cell_type": "markdown",
   "metadata": {},
   "source": [
    "Fill in information on your new dataset in the `name` and `description` variables and then run to check the files and upload new data"
   ]
  },
  {
   "cell_type": "code",
   "execution_count": 5,
   "metadata": {
    "pycharm": {
     "name": "#%%\n"
    }
   },
   "outputs": [
    {
     "name": "stderr",
     "output_type": "stream",
     "text": [
      "Uploading file test.fastq.gz (180.76 KB) | 100.0%|█████████████████████████ | 14\n"
     ]
    },
    {
     "data": {
      "text/plain": [
       "'186b1d46-eb8b-428a-a9c1-01eeb37cf697'"
      ]
     },
     "execution_count": 5,
     "metadata": {},
     "output_type": "execute_result"
    }
   ],
   "source": [
    "from pubweb.models.dataset import CreateIngestDatasetInput\n",
    "from pubweb.file_utils import check_dataset_files\n",
    "\n",
    "name = 'Test dataset'\n",
    "description = ''\n",
    "\n",
    "file_mapping_rules = client.process.get_process(process.id).file_mapping_rules\n",
    "check_dataset_files(files_to_upload, file_mapping_rules, directory_to_upload)\n",
    "\n",
    "dataset_create_request = CreateIngestDatasetInput(\n",
    "    project_id=project.id,\n",
    "    process_id=process.id,\n",
    "    name=name,\n",
    "    description=description,\n",
    "    files=files_to_upload\n",
    ")\n",
    "\n",
    "create_response = client.dataset.create(dataset_create_request)\n",
    "\n",
    "client.dataset.upload_files(\n",
    "    project_id=project.id,\n",
    "    dataset_id=create_response['datasetId'],\n",
    "    directory=directory_to_upload,\n",
    "    files=dataset_create_request.files\n",
    ")\n",
    "\n",
    "create_response['datasetId']"
   ]
  }
 ],
 "metadata": {
  "kernelspec": {
   "display_name": "Python 3 (ipykernel)",
   "language": "python",
   "name": "python3"
  },
  "language_info": {
   "codemirror_mode": {
    "name": "ipython",
    "version": 3
   },
   "file_extension": ".py",
   "mimetype": "text/x-python",
   "name": "python",
   "nbconvert_exporter": "python",
   "pygments_lexer": "ipython3",
   "version": "3.9.12"
  }
 },
 "nbformat": 4,
 "nbformat_minor": 1
}
