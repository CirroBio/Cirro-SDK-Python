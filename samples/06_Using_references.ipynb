{
 "cells": [
  {
   "cell_type": "markdown",
   "source": [
    "## Working with references"
   ],
   "metadata": {
    "collapsed": false,
    "pycharm": {
     "name": "#%% md\n"
    }
   }
  },
  {
   "cell_type": "code",
   "execution_count": 1,
   "outputs": [],
   "source": [
    "from pubweb import PubWeb\n",
    "\n",
    "client = PubWeb()"
   ],
   "metadata": {
    "collapsed": false,
    "pycharm": {
     "name": "#%%\n"
    }
   }
  },
  {
   "cell_type": "markdown",
   "source": [
    "#### Finding a list of available reference types"
   ],
   "metadata": {
    "collapsed": false,
    "pycharm": {
     "name": "#%% md\n"
    }
   }
  },
  {
   "cell_type": "code",
   "execution_count": 2,
   "outputs": [
    {
     "name": "stdout",
     "output_type": "stream",
     "text": [
      "ReferenceType(name=Barcode files (general), description=List of line-separated barcodes)\n",
      "ReferenceType(name=CRISPR sgRNA Library, description=Describes the set of sgRNA guides used in the screen, along with the genes which each guide targets.)\n",
      "ReferenceType(name=Barcode files (bbi-sci), description=List of line-separated barcodes)\n",
      "ReferenceType(name=STAR files (bbi-sci), description=BBI-sci: genome to star maps)\n",
      "ReferenceType(name=Gene files (bbi-sci), description=BBI-sci: genome to gene model maps)\n",
      "ReferenceType(name=Garnett files (bbi-sci), description=BBI-sci)\n",
      "ReferenceType(name=Hash Lists (bbi-sci), description=BBI-sci)\n",
      "ReferenceType(name=Reference Genome (BWA), description=Genome sequence indexed for alignment with the BWA algorithm.)\n",
      "ReferenceType(name=Reference Genome (FASTA), description=Genome fasta file)\n",
      "ReferenceType(name=Genome Regions (BED), description=Table of genomic regions in BED format)\n",
      "ReferenceType(name=Sample Metadata Table (CSV), description=Metadata annotations for a collection of samples. The file must be in CSV format, including a header row, with the first column used for the unique sample identifier (with the header 'sample').)\n",
      "ReferenceType(name=VirScan Library, description=VirScan library CSV (oligo, Strain, Protein, Prot_Start, Prot) and Table of public epitopes (peptide_translate).)\n"
     ]
    }
   ],
   "source": [
    "from pprint import pprint\n",
    "\n",
    "project = client.project.list()[0]\n",
    "reference_types = client.common.get_references_types()\n",
    "for ref in reference_types:\n",
    "    pprint(ref)"
   ],
   "metadata": {
    "collapsed": false,
    "pycharm": {
     "name": "#%%\n"
    }
   }
  },
  {
   "cell_type": "code",
   "execution_count": 3,
   "outputs": [
    {
     "data": {
      "text/plain": "ReferenceType(name=CRISPR sgRNA Library, description=Describes the set of sgRNA guides used in the screen, along with the genes which each guide targets.)"
     },
     "execution_count": 3,
     "metadata": {},
     "output_type": "execute_result"
    }
   ],
   "source": [
    "# Select the CRISPR Library reference type\n",
    "crispr_library_type = [ref for ref in reference_types\n",
    "                       if ref.name == 'CRISPR sgRNA Library'][0]\n",
    "crispr_library_type"
   ],
   "metadata": {
    "collapsed": false,
    "pycharm": {
     "name": "#%%\n"
    }
   }
  },
  {
   "cell_type": "markdown",
   "source": [
    "#### Finding available references within the project"
   ],
   "metadata": {
    "collapsed": false,
    "pycharm": {
     "name": "#%% md\n"
    }
   }
  },
  {
   "cell_type": "code",
   "execution_count": 4,
   "outputs": [],
   "source": [
    "references = client.project.get_references(\n",
    "    project_id=project.id,\n",
    "    reference_directory=crispr_library_type.directory)"
   ],
   "metadata": {
    "collapsed": false,
    "pycharm": {
     "name": "#%%\n"
    }
   }
  },
  {
   "cell_type": "code",
   "execution_count": 5,
   "outputs": [
    {
     "data": {
      "text/plain": "'s3://z-1e58ebdf-1619-4f14-9a11-369f6b650abc/resources/data/references/crispr_libraries/CUL3/library.csv'"
     },
     "execution_count": 5,
     "metadata": {},
     "output_type": "execute_result"
    }
   ],
   "source": [
    "# Use the absolute path in the process parameter\n",
    "library = references[0]\n",
    "library.absolute_path"
   ],
   "metadata": {
    "collapsed": false,
    "pycharm": {
     "name": "#%%\n"
    }
   }
  },
  {
   "cell_type": "code",
   "execution_count": null,
   "outputs": [],
   "source": [],
   "metadata": {
    "collapsed": false,
    "pycharm": {
     "name": "#%%\n"
    }
   }
  }
 ],
 "metadata": {
  "kernelspec": {
   "display_name": "Python 3",
   "language": "python",
   "name": "python3"
  },
  "language_info": {
   "codemirror_mode": {
    "name": "ipython",
    "version": 2
   },
   "file_extension": ".py",
   "mimetype": "text/x-python",
   "name": "python",
   "nbconvert_exporter": "python",
   "pygments_lexer": "ipython2",
   "version": "2.7.6"
  }
 },
 "nbformat": 4,
 "nbformat_minor": 0
}